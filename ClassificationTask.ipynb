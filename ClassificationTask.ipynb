{
 "cells": [
  {
   "cell_type": "markdown",
   "metadata": {
    "azdata_cell_guid": "46697e41-3c58-43d1-ad9a-56611f2b92b4",
    "id": "zJLtsQobpd0R"
   },
   "source": [
    "<center>\n",
    "<h1><b>Classification tasks with Azure Open AI</b>\n",
    "</center>"
   ]
  },
  {
   "cell_type": "markdown",
   "metadata": {
    "azdata_cell_guid": "1f06d5cb-8efe-4827-a6c1-116f47da68a0",
    "id": "w_lddF6ADKJ5"
   },
   "source": [
    "# Introduction\n",
    "\n",
    "Welcome! In this MLS, we are going to look into the E-commerce aggregators business. Aggregator platforms face multiple challenges due to their unorganised nature. One such problem is the task of categorising products. Since the sellers on the platform aren't organised, they tend to mislabel some of their products. This leads to confusion in the customers leading to dissatisfaction and ultimately revenue loss. The management had tried to educate the sellers on labelling through hand-outs however, that hasn't been successfull. So they are looking to automate labeling using AI.\n",
    "\n",
    "**Task 1: Auto-Labelling System**\n",
    "\n",
    "Initially, our focus is on categories with the highest incidence of mislabeling. Currently, we are facing a 27% mislabeling in the system. One of the reasons this is happening is because there are a lot of common words between the skin care and hair care categories. Both of them have words like oil, powder, wash, etc. It is also confusing as sometimes products for body hair can be categorised as skin care and other times as hair care. Similarly, products for scalp can be basketed into skin care or hair care.Our job is to reduce this as much as possible.\n",
    "\n",
    "1. Skin Care\n",
    "2. Hair Care"
   ]
  },
  {
   "cell_type": "markdown",
   "metadata": {
    "azdata_cell_guid": "8a1fbdab-3895-4675-8e89-24a2ca6691bf",
    "id": "kNCeIToJPahi"
   },
   "source": [
    "**Task 2: Customer Intent Analysis**\n",
    "\n",
    "Management also has received concerns about the usability of the website. They aim to enhance the user experience on our platform by gaining insights into the problems customers are facing. One good source of understanding where customers are having trouble is by looking at the concerns raised by customers with call support. Understanding customer intent in chat support messages will inform the management where improvements are needed in the platform's UI/UX, making navigation and usage more intuitive.\n",
    "\n",
    "The data science team is entrusted with classifying customer intent into the relevant categories.\n",
    "\n",
    "Due to resource constraints, we must utilize a small dataset for model training.\n"
   ]
  },
  {
   "cell_type": "markdown",
   "metadata": {
    "azdata_cell_guid": "292af8f8-a88a-45b9-907d-2065206c63e0",
    "id": "foi0sYHaQm1A"
   },
   "source": [
    "Let's start by setting up our code environment."
   ]
  },
  {
   "cell_type": "markdown",
   "metadata": {
    "azdata_cell_guid": "472ada41-68f8-4d1a-ac2a-5cc3860e9016",
    "id": "0zTC8qPRPahk"
   },
   "source": [
    "## Setup"
   ]
  },
  {
   "cell_type": "markdown",
   "metadata": {
    "azdata_cell_guid": "58a25803-bad2-46e7-bcd1-a2806e596c36",
    "id": "ykLYC3zzSr8z"
   },
   "source": [
    "## Installation"
   ]
  },
  {
   "cell_type": "code",
   "execution_count": 1,
   "metadata": {
    "azdata_cell_guid": "fa4ca472-bdd1-43d9-aa66-16a4912370d2",
    "colab": {
     "base_uri": "https://localhost:8080/"
    },
    "id": "9b23OfNvStm-",
    "language": "sql",
    "outputId": "5a1a6f5d-9684-4931-e309-80d8a5d860af"
   },
   "outputs": [
    {
     "name": "stdout",
     "output_type": "stream",
     "text": [
      "  Preparing metadata (setup.py) ... \u001b[?25l\u001b[?25hdone\n",
      "\u001b[2K   \u001b[90m━━━━━━━━━━━━━━━━━━━━━━━━━━━━━━━━━━━━━━━━\u001b[0m \u001b[32m219.9/219.9 kB\u001b[0m \u001b[31m7.2 MB/s\u001b[0m eta \u001b[36m0:00:00\u001b[0m\n",
      "\u001b[2K   \u001b[90m━━━━━━━━━━━━━━━━━━━━━━━━━━━━━━━━━━━━━━━━\u001b[0m \u001b[32m1.2/1.2 MB\u001b[0m \u001b[31m30.6 MB/s\u001b[0m eta \u001b[36m0:00:00\u001b[0m\n",
      "\u001b[2K   \u001b[90m━━━━━━━━━━━━━━━━━━━━━━━━━━━━━━━━━━━━━━━━\u001b[0m \u001b[32m472.7/472.7 kB\u001b[0m \u001b[31m31.7 MB/s\u001b[0m eta \u001b[36m0:00:00\u001b[0m\n",
      "\u001b[2K   \u001b[90m━━━━━━━━━━━━━━━━━━━━━━━━━━━━━━━━━━━━━━━━\u001b[0m \u001b[32m116.3/116.3 kB\u001b[0m \u001b[31m8.3 MB/s\u001b[0m eta \u001b[36m0:00:00\u001b[0m\n",
      "\u001b[2K   \u001b[90m━━━━━━━━━━━━━━━━━━━━━━━━━━━━━━━━━━━━━━━━\u001b[0m \u001b[32m76.4/76.4 kB\u001b[0m \u001b[31m5.8 MB/s\u001b[0m eta \u001b[36m0:00:00\u001b[0m\n",
      "\u001b[2K   \u001b[90m━━━━━━━━━━━━━━━━━━━━━━━━━━━━━━━━━━━━━━━━\u001b[0m \u001b[32m78.0/78.0 kB\u001b[0m \u001b[31m5.9 MB/s\u001b[0m eta \u001b[36m0:00:00\u001b[0m\n",
      "\u001b[2K   \u001b[90m━━━━━━━━━━━━━━━━━━━━━━━━━━━━━━━━━━━━━━━━\u001b[0m \u001b[32m134.8/134.8 kB\u001b[0m \u001b[31m10.5 MB/s\u001b[0m eta \u001b[36m0:00:00\u001b[0m\n",
      "\u001b[2K   \u001b[90m━━━━━━━━━━━━━━━━━━━━━━━━━━━━━━━━━━━━━━━━\u001b[0m \u001b[32m83.6/83.6 kB\u001b[0m \u001b[31m6.5 MB/s\u001b[0m eta \u001b[36m0:00:00\u001b[0m\n",
      "\u001b[2K   \u001b[90m━━━━━━━━━━━━━━━━━━━━━━━━━━━━━━━━━━━━━━━━\u001b[0m \u001b[32m194.1/194.1 kB\u001b[0m \u001b[31m15.1 MB/s\u001b[0m eta \u001b[36m0:00:00\u001b[0m\n",
      "\u001b[2K   \u001b[90m━━━━━━━━━━━━━━━━━━━━━━━━━━━━━━━━━━━━━━━━\u001b[0m \u001b[32m58.3/58.3 kB\u001b[0m \u001b[31m4.1 MB/s\u001b[0m eta \u001b[36m0:00:00\u001b[0m\n",
      "\u001b[?25h  Building wheel for session-info (setup.py) ... \u001b[?25l\u001b[?25hdone\n"
     ]
    }
   ],
   "source": [
    "!pip install openai==1.2.0 tiktoken datasets session-info --quiet"
   ]
  },
  {
   "cell_type": "markdown",
   "metadata": {
    "azdata_cell_guid": "ccaac3ac-4c1a-4241-96f4-78230a73ef17",
    "id": "YFZj9kr8Pahl"
   },
   "source": [
    "## Imports"
   ]
  },
  {
   "cell_type": "code",
   "execution_count": 2,
   "metadata": {
    "azdata_cell_guid": "19abc341-6763-4ca2-87bc-779ccaa64c89",
    "id": "Q3gwxSqQPahl",
    "language": "sql"
   },
   "outputs": [],
   "source": [
    "# Import all Python packages required to access the Azure Open AI API.\n",
    "# Import additional packages required to access datasets and create examples.\n",
    "\n",
    "import json\n",
    "import random\n",
    "import tiktoken\n",
    "import session_info\n",
    "\n",
    "import pandas as pd\n",
    "import numpy as np\n",
    "\n",
    "from openai import AzureOpenAI\n",
    "\n",
    "from datasets import load_dataset\n",
    "from collections import Counter\n",
    "from tqdm import tqdm\n",
    "from sklearn.model_selection import train_test_split\n",
    "from sklearn.metrics import accuracy_score"
   ]
  },
  {
   "cell_type": "markdown",
   "metadata": {
    "azdata_cell_guid": "1c96ad8e-9e90-43ca-8a08-4f08f9a7ad2d",
    "id": "SN0wIDUjPahn"
   },
   "source": [
    "## Authentication"
   ]
  },
  {
   "cell_type": "code",
   "execution_count": 4,
   "metadata": {
    "azdata_cell_guid": "60a00636-b120-4946-9028-81e2d5d339b2",
    "id": "cxLhZIviPahn",
    "language": "sql"
   },
   "outputs": [],
   "source": [
    "with open('config.json', 'r') as az_creds:\n",
    "    data = az_creds.read()"
   ]
  },
  {
   "cell_type": "code",
   "execution_count": 5,
   "metadata": {
    "azdata_cell_guid": "0fe596cc-56d4-462e-bc74-a6b9a14a70d5",
    "id": "nL9GpBEVPahn",
    "language": "sql"
   },
   "outputs": [],
   "source": [
    "creds = json.loads(data)"
   ]
  },
  {
   "cell_type": "code",
   "execution_count": 6,
   "metadata": {
    "azdata_cell_guid": "87ea8a51-4ab5-4544-9018-147ec514af7c",
    "id": "pSaJqJC0YyDK",
    "language": "sql"
   },
   "outputs": [],
   "source": [
    "client = AzureOpenAI(\n",
    "    azure_endpoint=creds[\"AZURE_OPENAI_ENDPOINT\"],\n",
    "    api_key=creds[\"AZURE_OPENAI_KEY\"],\n",
    "    api_version=creds[\"AZURE_OPENAI_APIVERSION\"]\n",
    ")"
   ]
  },
  {
   "cell_type": "code",
   "execution_count": 7,
   "metadata": {
    "azdata_cell_guid": "4cf4ee39-46b2-4c6d-a714-b34617d2fcaa",
    "id": "Atf3l2mNPahp",
    "language": "sql"
   },
   "outputs": [],
   "source": [
    "deployment_name = creds[\"CHATGPT_MODEL\"]"
   ]
  },
  {
   "cell_type": "markdown",
   "metadata": {
    "azdata_cell_guid": "8add4188-246f-4e95-a347-d81ae9771004",
    "id": "HQpkd5elTMhd"
   },
   "source": [
    "## Utilities"
   ]
  },
  {
   "cell_type": "markdown",
   "metadata": {
    "azdata_cell_guid": "f13674cc-d3d4-481b-839d-8b247a3782ef",
    "id": "QZixg_xITN8s"
   },
   "source": [
    "While developing the solution, we need to be mindful of the costs it will incurr for the business. Even a good solution that comes at a high cost is not useful for the business. For LLMs, costs are associated with the number of tokens consumed. Let's create a function using tiktoken to understand the number of tokens we are using in each of out prompts. This information will be cruicial while deciding the final technique we are going to use to solve the problem."
   ]
  },
  {
   "cell_type": "code",
   "execution_count": 8,
   "metadata": {
    "azdata_cell_guid": "51b8ca67-198c-4df2-89e5-2a2a3e873e5d",
    "id": "V5Gp-_CxPahp",
    "language": "sql"
   },
   "outputs": [],
   "source": [
    "def num_tokens_from_messages(messages):\n",
    "\n",
    "    \"\"\"\n",
    "    Return the number of tokens used by a list of messages.\n",
    "    Adapted from the Open AI cookbook token counter\n",
    "    \"\"\"\n",
    "\n",
    "    encoding = tiktoken.encoding_for_model(\"gpt-3.5-turbo\")\n",
    "\n",
    "    # Each message is sandwiched with <|start|>role and <|end|>\n",
    "    # Hence, messages look like: <|start|>system or user or assistant{message}<|end|>\n",
    "\n",
    "    tokens_per_message = 3 # token1:<|start|>, token2:system(or user or assistant), token3:<|end|>\n",
    "\n",
    "    num_tokens = 0\n",
    "\n",
    "    for message in messages:\n",
    "        num_tokens += tokens_per_message\n",
    "        for key, value in message.items():\n",
    "            num_tokens += len(encoding.encode(value))\n",
    "\n",
    "    num_tokens += 3  # every reply is primed with <|start|>assistant<|message|>\n",
    "\n",
    "    return num_tokens"
   ]
  },
  {
   "cell_type": "markdown",
   "metadata": {
    "azdata_cell_guid": "b6609039-a30d-48a0-af11-d7ff1ca5998d",
    "id": "3sP7s5TDPahq"
   },
   "source": [
    "bel Classificaation## Task 1: Auto-La"
   ]
  },
  {
   "cell_type": "markdown",
   "metadata": {
    "azdata_cell_guid": "9de7b926-8f60-4f68-969a-777d8c22bb11",
    "id": "4NkdNjY3DdgD"
   },
   "source": [
    "Let's have a look at the data and get a feel of it."
   ]
  },
  {
   "cell_type": "markdown",
   "metadata": {
    "azdata_cell_guid": "2e20f2f5-50c3-40fc-84b0-d9b35b1d349e",
    "id": "wH4wcUNaR83t"
   },
   "source": [
    "### Preparing Data"
   ]
  },
  {
   "cell_type": "code",
   "execution_count": 10,
   "metadata": {
    "azdata_cell_guid": "e8acf6d8-9f76-4f5b-90a3-dd2c80548e55",
    "id": "qzvme58ISAk6",
    "language": "sql"
   },
   "outputs": [],
   "source": [
    "data = pd.read_csv(\"auto-labelling.csv\")"
   ]
  },
  {
   "cell_type": "code",
   "execution_count": 11,
   "metadata": {
    "azdata_cell_guid": "daa7c3e3-3770-4aa1-8f15-08fb38b371ff",
    "colab": {
     "base_uri": "https://localhost:8080/",
     "height": 363
    },
    "id": "oeSQHKNkVoiC",
    "language": "sql",
    "outputId": "12ff97b1-08da-47a2-d443-f3b34271bd75"
   },
   "outputs": [
    {
     "data": {
      "application/vnd.google.colaboratory.intrinsic+json": {
       "summary": "{\n  \"name\": \"data\",\n  \"rows\": 200,\n  \"fields\": [\n    {\n      \"column\": \"Product Description\",\n      \"properties\": {\n        \"dtype\": \"string\",\n        \"num_unique_values\": 200,\n        \"samples\": [\n          \"Osmo Silverising Conditioner - 280mL\",\n          \"Himalaya's anti dandruff shampoo gently removes dandruff and nourishes and strengthens hair roots, ensuring a healthy scalp. Natural ingredients help moisturize the hair.\",\n          \"Redken Extreme Anti-Snap Leave-In Treatment 8.1 oz.\"\n        ],\n        \"semantic_type\": \"\",\n        \"description\": \"\"\n      }\n    },\n    {\n      \"column\": \"Category\",\n      \"properties\": {\n        \"dtype\": \"category\",\n        \"num_unique_values\": 2,\n        \"samples\": [\n          \"Skin Care\",\n          \"Hair Care\"\n        ],\n        \"semantic_type\": \"\",\n        \"description\": \"\"\n      }\n    },\n    {\n      \"column\": \"Uniq Id\",\n      \"properties\": {\n        \"dtype\": \"string\",\n        \"num_unique_values\": 200,\n        \"samples\": [\n          \"e0543b5238f05d5d8ac1232f879fc285\",\n          \"fbc3537fd19a582607bfdf4085132cd0\"\n        ],\n        \"semantic_type\": \"\",\n        \"description\": \"\"\n      }\n    }\n  ]\n}",
       "type": "dataframe",
       "variable_name": "data"
      },
      "text/html": [
       "\n",
       "  <div id=\"df-d1d8a057-1afc-4999-80eb-6509b9b0e2e5\" class=\"colab-df-container\">\n",
       "    <div>\n",
       "<style scoped>\n",
       "    .dataframe tbody tr th:only-of-type {\n",
       "        vertical-align: middle;\n",
       "    }\n",
       "\n",
       "    .dataframe tbody tr th {\n",
       "        vertical-align: top;\n",
       "    }\n",
       "\n",
       "    .dataframe thead th {\n",
       "        text-align: right;\n",
       "    }\n",
       "</style>\n",
       "<table border=\"1\" class=\"dataframe\">\n",
       "  <thead>\n",
       "    <tr style=\"text-align: right;\">\n",
       "      <th></th>\n",
       "      <th>Product Description</th>\n",
       "      <th>Category</th>\n",
       "      <th>Uniq Id</th>\n",
       "    </tr>\n",
       "  </thead>\n",
       "  <tbody>\n",
       "    <tr>\n",
       "      <th>0</th>\n",
       "      <td>Sunny Isle Ylang Jamaican Black Castor Oil, 8 oz</td>\n",
       "      <td>Hair Care</td>\n",
       "      <td>c4fa57c1506c1fc7c42c853c73248dc2</td>\n",
       "    </tr>\n",
       "    <tr>\n",
       "      <th>1</th>\n",
       "      <td>Crafted with organic aloe vera extracts, this ...</td>\n",
       "      <td>Hair Care</td>\n",
       "      <td>d14c60b116211fb6219d7d2b7e2293af</td>\n",
       "    </tr>\n",
       "    <tr>\n",
       "      <th>2</th>\n",
       "      <td>Eufora Beautifying Elixirs Bodifying Condition...</td>\n",
       "      <td>Hair Care</td>\n",
       "      <td>cd2cf57e9280a29f4a6cc5417d28231b</td>\n",
       "    </tr>\n",
       "    <tr>\n",
       "      <th>3</th>\n",
       "      <td>Indigo Powder:- The Indigo powder is made usin...</td>\n",
       "      <td>Hair Care</td>\n",
       "      <td>74ce49f475ddd0985ea41414b468be4b</td>\n",
       "    </tr>\n",
       "    <tr>\n",
       "      <th>4</th>\n",
       "      <td>Oil has been used for thousands of years for i...</td>\n",
       "      <td>Hair Care</td>\n",
       "      <td>a62fe6e3e986f0a75f9d9ed59c4dc1a8</td>\n",
       "    </tr>\n",
       "    <tr>\n",
       "      <th>5</th>\n",
       "      <td>This hair care spa cap is safe and convenient ...</td>\n",
       "      <td>Hair Care</td>\n",
       "      <td>7878a7aaece563097628842451fcfe96</td>\n",
       "    </tr>\n",
       "    <tr>\n",
       "      <th>6</th>\n",
       "      <td>The history of Whoo WhooSpa Hair Essence</td>\n",
       "      <td>Hair Care</td>\n",
       "      <td>497e4d9029702a2222688c6e82729d67</td>\n",
       "    </tr>\n",
       "    <tr>\n",
       "      <th>7</th>\n",
       "      <td>Shagun Gold Henna, Popularly Known As Mehandi ...</td>\n",
       "      <td>Hair Care</td>\n",
       "      <td>84b10c69fb27c46aae714556e5ac0b86</td>\n",
       "    </tr>\n",
       "    <tr>\n",
       "      <th>8</th>\n",
       "      <td>Marc Anthony Instantly Thick Volumizing Condit...</td>\n",
       "      <td>Hair Care</td>\n",
       "      <td>d3680464f489490c476cd9693f419dc9</td>\n",
       "    </tr>\n",
       "    <tr>\n",
       "      <th>9</th>\n",
       "      <td>Khadi presents henna which is suitable for wom...</td>\n",
       "      <td>Hair Care</td>\n",
       "      <td>02df8ab44e702a5434dd35dfd7971f08</td>\n",
       "    </tr>\n",
       "  </tbody>\n",
       "</table>\n",
       "</div>\n",
       "    <div class=\"colab-df-buttons\">\n",
       "\n",
       "  <div class=\"colab-df-container\">\n",
       "    <button class=\"colab-df-convert\" onclick=\"convertToInteractive('df-d1d8a057-1afc-4999-80eb-6509b9b0e2e5')\"\n",
       "            title=\"Convert this dataframe to an interactive table.\"\n",
       "            style=\"display:none;\">\n",
       "\n",
       "  <svg xmlns=\"http://www.w3.org/2000/svg\" height=\"24px\" viewBox=\"0 -960 960 960\">\n",
       "    <path d=\"M120-120v-720h720v720H120Zm60-500h600v-160H180v160Zm220 220h160v-160H400v160Zm0 220h160v-160H400v160ZM180-400h160v-160H180v160Zm440 0h160v-160H620v160ZM180-180h160v-160H180v160Zm440 0h160v-160H620v160Z\"/>\n",
       "  </svg>\n",
       "    </button>\n",
       "\n",
       "  <style>\n",
       "    .colab-df-container {\n",
       "      display:flex;\n",
       "      gap: 12px;\n",
       "    }\n",
       "\n",
       "    .colab-df-convert {\n",
       "      background-color: #E8F0FE;\n",
       "      border: none;\n",
       "      border-radius: 50%;\n",
       "      cursor: pointer;\n",
       "      display: none;\n",
       "      fill: #1967D2;\n",
       "      height: 32px;\n",
       "      padding: 0 0 0 0;\n",
       "      width: 32px;\n",
       "    }\n",
       "\n",
       "    .colab-df-convert:hover {\n",
       "      background-color: #E2EBFA;\n",
       "      box-shadow: 0px 1px 2px rgba(60, 64, 67, 0.3), 0px 1px 3px 1px rgba(60, 64, 67, 0.15);\n",
       "      fill: #174EA6;\n",
       "    }\n",
       "\n",
       "    .colab-df-buttons div {\n",
       "      margin-bottom: 4px;\n",
       "    }\n",
       "\n",
       "    [theme=dark] .colab-df-convert {\n",
       "      background-color: #3B4455;\n",
       "      fill: #D2E3FC;\n",
       "    }\n",
       "\n",
       "    [theme=dark] .colab-df-convert:hover {\n",
       "      background-color: #434B5C;\n",
       "      box-shadow: 0px 1px 3px 1px rgba(0, 0, 0, 0.15);\n",
       "      filter: drop-shadow(0px 1px 2px rgba(0, 0, 0, 0.3));\n",
       "      fill: #FFFFFF;\n",
       "    }\n",
       "  </style>\n",
       "\n",
       "    <script>\n",
       "      const buttonEl =\n",
       "        document.querySelector('#df-d1d8a057-1afc-4999-80eb-6509b9b0e2e5 button.colab-df-convert');\n",
       "      buttonEl.style.display =\n",
       "        google.colab.kernel.accessAllowed ? 'block' : 'none';\n",
       "\n",
       "      async function convertToInteractive(key) {\n",
       "        const element = document.querySelector('#df-d1d8a057-1afc-4999-80eb-6509b9b0e2e5');\n",
       "        const dataTable =\n",
       "          await google.colab.kernel.invokeFunction('convertToInteractive',\n",
       "                                                    [key], {});\n",
       "        if (!dataTable) return;\n",
       "\n",
       "        const docLinkHtml = 'Like what you see? Visit the ' +\n",
       "          '<a target=\"_blank\" href=https://colab.research.google.com/notebooks/data_table.ipynb>data table notebook</a>'\n",
       "          + ' to learn more about interactive tables.';\n",
       "        element.innerHTML = '';\n",
       "        dataTable['output_type'] = 'display_data';\n",
       "        await google.colab.output.renderOutput(dataTable, element);\n",
       "        const docLink = document.createElement('div');\n",
       "        docLink.innerHTML = docLinkHtml;\n",
       "        element.appendChild(docLink);\n",
       "      }\n",
       "    </script>\n",
       "  </div>\n",
       "\n",
       "\n",
       "<div id=\"df-2c28c1a5-1d4d-4340-b6f3-aea1e4356988\">\n",
       "  <button class=\"colab-df-quickchart\" onclick=\"quickchart('df-2c28c1a5-1d4d-4340-b6f3-aea1e4356988')\"\n",
       "            title=\"Suggest charts\"\n",
       "            style=\"display:none;\">\n",
       "\n",
       "<svg xmlns=\"http://www.w3.org/2000/svg\" height=\"24px\"viewBox=\"0 0 24 24\"\n",
       "     width=\"24px\">\n",
       "    <g>\n",
       "        <path d=\"M19 3H5c-1.1 0-2 .9-2 2v14c0 1.1.9 2 2 2h14c1.1 0 2-.9 2-2V5c0-1.1-.9-2-2-2zM9 17H7v-7h2v7zm4 0h-2V7h2v10zm4 0h-2v-4h2v4z\"/>\n",
       "    </g>\n",
       "</svg>\n",
       "  </button>\n",
       "\n",
       "<style>\n",
       "  .colab-df-quickchart {\n",
       "      --bg-color: #E8F0FE;\n",
       "      --fill-color: #1967D2;\n",
       "      --hover-bg-color: #E2EBFA;\n",
       "      --hover-fill-color: #174EA6;\n",
       "      --disabled-fill-color: #AAA;\n",
       "      --disabled-bg-color: #DDD;\n",
       "  }\n",
       "\n",
       "  [theme=dark] .colab-df-quickchart {\n",
       "      --bg-color: #3B4455;\n",
       "      --fill-color: #D2E3FC;\n",
       "      --hover-bg-color: #434B5C;\n",
       "      --hover-fill-color: #FFFFFF;\n",
       "      --disabled-bg-color: #3B4455;\n",
       "      --disabled-fill-color: #666;\n",
       "  }\n",
       "\n",
       "  .colab-df-quickchart {\n",
       "    background-color: var(--bg-color);\n",
       "    border: none;\n",
       "    border-radius: 50%;\n",
       "    cursor: pointer;\n",
       "    display: none;\n",
       "    fill: var(--fill-color);\n",
       "    height: 32px;\n",
       "    padding: 0;\n",
       "    width: 32px;\n",
       "  }\n",
       "\n",
       "  .colab-df-quickchart:hover {\n",
       "    background-color: var(--hover-bg-color);\n",
       "    box-shadow: 0 1px 2px rgba(60, 64, 67, 0.3), 0 1px 3px 1px rgba(60, 64, 67, 0.15);\n",
       "    fill: var(--button-hover-fill-color);\n",
       "  }\n",
       "\n",
       "  .colab-df-quickchart-complete:disabled,\n",
       "  .colab-df-quickchart-complete:disabled:hover {\n",
       "    background-color: var(--disabled-bg-color);\n",
       "    fill: var(--disabled-fill-color);\n",
       "    box-shadow: none;\n",
       "  }\n",
       "\n",
       "  .colab-df-spinner {\n",
       "    border: 2px solid var(--fill-color);\n",
       "    border-color: transparent;\n",
       "    border-bottom-color: var(--fill-color);\n",
       "    animation:\n",
       "      spin 1s steps(1) infinite;\n",
       "  }\n",
       "\n",
       "  @keyframes spin {\n",
       "    0% {\n",
       "      border-color: transparent;\n",
       "      border-bottom-color: var(--fill-color);\n",
       "      border-left-color: var(--fill-color);\n",
       "    }\n",
       "    20% {\n",
       "      border-color: transparent;\n",
       "      border-left-color: var(--fill-color);\n",
       "      border-top-color: var(--fill-color);\n",
       "    }\n",
       "    30% {\n",
       "      border-color: transparent;\n",
       "      border-left-color: var(--fill-color);\n",
       "      border-top-color: var(--fill-color);\n",
       "      border-right-color: var(--fill-color);\n",
       "    }\n",
       "    40% {\n",
       "      border-color: transparent;\n",
       "      border-right-color: var(--fill-color);\n",
       "      border-top-color: var(--fill-color);\n",
       "    }\n",
       "    60% {\n",
       "      border-color: transparent;\n",
       "      border-right-color: var(--fill-color);\n",
       "    }\n",
       "    80% {\n",
       "      border-color: transparent;\n",
       "      border-right-color: var(--fill-color);\n",
       "      border-bottom-color: var(--fill-color);\n",
       "    }\n",
       "    90% {\n",
       "      border-color: transparent;\n",
       "      border-bottom-color: var(--fill-color);\n",
       "    }\n",
       "  }\n",
       "</style>\n",
       "\n",
       "  <script>\n",
       "    async function quickchart(key) {\n",
       "      const quickchartButtonEl =\n",
       "        document.querySelector('#' + key + ' button');\n",
       "      quickchartButtonEl.disabled = true;  // To prevent multiple clicks.\n",
       "      quickchartButtonEl.classList.add('colab-df-spinner');\n",
       "      try {\n",
       "        const charts = await google.colab.kernel.invokeFunction(\n",
       "            'suggestCharts', [key], {});\n",
       "      } catch (error) {\n",
       "        console.error('Error during call to suggestCharts:', error);\n",
       "      }\n",
       "      quickchartButtonEl.classList.remove('colab-df-spinner');\n",
       "      quickchartButtonEl.classList.add('colab-df-quickchart-complete');\n",
       "    }\n",
       "    (() => {\n",
       "      let quickchartButtonEl =\n",
       "        document.querySelector('#df-2c28c1a5-1d4d-4340-b6f3-aea1e4356988 button');\n",
       "      quickchartButtonEl.style.display =\n",
       "        google.colab.kernel.accessAllowed ? 'block' : 'none';\n",
       "    })();\n",
       "  </script>\n",
       "</div>\n",
       "\n",
       "    </div>\n",
       "  </div>\n"
      ],
      "text/plain": [
       "                                 Product Description   Category  \\\n",
       "0   Sunny Isle Ylang Jamaican Black Castor Oil, 8 oz  Hair Care   \n",
       "1  Crafted with organic aloe vera extracts, this ...  Hair Care   \n",
       "2  Eufora Beautifying Elixirs Bodifying Condition...  Hair Care   \n",
       "3  Indigo Powder:- The Indigo powder is made usin...  Hair Care   \n",
       "4  Oil has been used for thousands of years for i...  Hair Care   \n",
       "5  This hair care spa cap is safe and convenient ...  Hair Care   \n",
       "6           The history of Whoo WhooSpa Hair Essence  Hair Care   \n",
       "7  Shagun Gold Henna, Popularly Known As Mehandi ...  Hair Care   \n",
       "8  Marc Anthony Instantly Thick Volumizing Condit...  Hair Care   \n",
       "9  Khadi presents henna which is suitable for wom...  Hair Care   \n",
       "\n",
       "                            Uniq Id  \n",
       "0  c4fa57c1506c1fc7c42c853c73248dc2  \n",
       "1  d14c60b116211fb6219d7d2b7e2293af  \n",
       "2  cd2cf57e9280a29f4a6cc5417d28231b  \n",
       "3  74ce49f475ddd0985ea41414b468be4b  \n",
       "4  a62fe6e3e986f0a75f9d9ed59c4dc1a8  \n",
       "5  7878a7aaece563097628842451fcfe96  \n",
       "6  497e4d9029702a2222688c6e82729d67  \n",
       "7  84b10c69fb27c46aae714556e5ac0b86  \n",
       "8  d3680464f489490c476cd9693f419dc9  \n",
       "9  02df8ab44e702a5434dd35dfd7971f08  "
      ]
     },
     "execution_count": 11,
     "metadata": {},
     "output_type": "execute_result"
    }
   ],
   "source": [
    "data.head(10)"
   ]
  },
  {
   "cell_type": "code",
   "execution_count": 12,
   "metadata": {
    "azdata_cell_guid": "730e850b-10a2-480d-8197-0632610e749e",
    "colab": {
     "base_uri": "https://localhost:8080/",
     "height": 178
    },
    "id": "Gd7GgpUt9AE4",
    "language": "sql",
    "outputId": "7619191a-6866-4d22-cd86-8a1928f16043"
   },
   "outputs": [
    {
     "data": {
      "text/html": [
       "<div>\n",
       "<style scoped>\n",
       "    .dataframe tbody tr th:only-of-type {\n",
       "        vertical-align: middle;\n",
       "    }\n",
       "\n",
       "    .dataframe tbody tr th {\n",
       "        vertical-align: top;\n",
       "    }\n",
       "\n",
       "    .dataframe thead th {\n",
       "        text-align: right;\n",
       "    }\n",
       "</style>\n",
       "<table border=\"1\" class=\"dataframe\">\n",
       "  <thead>\n",
       "    <tr style=\"text-align: right;\">\n",
       "      <th></th>\n",
       "      <th>count</th>\n",
       "    </tr>\n",
       "    <tr>\n",
       "      <th>Category</th>\n",
       "      <th></th>\n",
       "    </tr>\n",
       "  </thead>\n",
       "  <tbody>\n",
       "    <tr>\n",
       "      <th>Hair Care</th>\n",
       "      <td>100</td>\n",
       "    </tr>\n",
       "    <tr>\n",
       "      <th>Skin Care</th>\n",
       "      <td>100</td>\n",
       "    </tr>\n",
       "  </tbody>\n",
       "</table>\n",
       "</div><br><label><b>dtype:</b> int64</label>"
      ],
      "text/plain": [
       "Category\n",
       "Hair Care    100\n",
       "Skin Care    100\n",
       "Name: count, dtype: int64"
      ]
     },
     "execution_count": 12,
     "metadata": {},
     "output_type": "execute_result"
    }
   ],
   "source": [
    "data.Category.value_counts()"
   ]
  },
  {
   "cell_type": "markdown",
   "metadata": {
    "azdata_cell_guid": "d27a3971-231c-426e-90f0-f60c3089df1c",
    "id": "pnwTt-Jt3pp5"
   },
   "source": [
    "Note how the dataset is evenly balanced with equal number of reviews assembled for each of the category. This makes our life easy."
   ]
  },
  {
   "cell_type": "markdown",
   "metadata": {
    "azdata_cell_guid": "f8bab93f-e9c9-4a46-a2df-96c753ee1f6f",
    "id": "hPHHq5_fImow"
   },
   "source": [
    "Since this is a classification exercise with a balanced dataset, we can use accuracy as our metric. We need to also be mindful of the tokens consumed for each prompt as this is going to be a perpetual task for the business as new products are added everyday."
   ]
  },
  {
   "cell_type": "markdown",
   "metadata": {
    "azdata_cell_guid": "660aa5aa-0721-483d-bfbb-685e8189d3ad",
    "id": "Y8uqAOkAJEOt"
   },
   "source": [
    "#### Test and Train Split"
   ]
  },
  {
   "cell_type": "markdown",
   "metadata": {
    "azdata_cell_guid": "aa6021ca-f2be-4511-a00c-c41587ead681",
    "id": "NoDGl2mc4UrU"
   },
   "source": [
    "Let us split the data into two segments - one segment that gives us a pool to draw few-shot examples from and another segment that gives us a pool of gold examples which will be used for testing."
   ]
  },
  {
   "cell_type": "markdown",
   "metadata": {
    "azdata_cell_guid": "eebe3b93-0e02-4be4-b21f-ca7ce969b275",
    "id": "uOOoD0Skm8d2"
   },
   "source": [
    "In summary, we extract a dataset from a corpus by processing required fields. Each example should contain the text input and an annotated label. Once we create examples and gold examples from this dataset, this curated dataset is stored in a format appropriate for reuse (e.g., JSON)."
   ]
  },
  {
   "cell_type": "markdown",
   "metadata": {
    "azdata_cell_guid": "3e04fcde-82ad-4bed-be0e-39c56885cd02",
    "id": "2ExVGFPl4tdx"
   },
   "source": [
    "To select gold examples for this session, we sample randomly from the test data using a `random_state=42`. This ensures that the examples from multiple runs of the sampling are the same (i.e., they are randomly selected but do not change between different runs of the notebook). Note that we are doing this only to keep execution times low for illustration. In practise, large number of gold examples facilitate robust estimates of model accuracy."
   ]
  },
  {
   "cell_type": "code",
   "execution_count": 13,
   "metadata": {
    "azdata_cell_guid": "695bcaf6-3507-4309-bdf0-28bd5b5c1a97",
    "id": "dkXtXbc9N5rC",
    "language": "sql"
   },
   "outputs": [],
   "source": [
    "examples_df, gold_examples_df = train_test_split(\n",
    "    data, #<- the full dataset\n",
    "    test_size=0.8, #<- 80% random sample selected for gold examples\n",
    "    random_state=42, #<- ensures that the splits are the same for every session\n",
    "    stratify=data['Category'] #<- ensures equal distribution of labels\n",
    ")"
   ]
  },
  {
   "cell_type": "code",
   "execution_count": 14,
   "metadata": {
    "azdata_cell_guid": "531cd4f4-2875-41f6-b612-38917c0b9a58",
    "id": "UpeZL2989746",
    "language": "sql"
   },
   "outputs": [],
   "source": [
    "gold_examples = (\n",
    "        gold_examples_df.to_json(orient='records')\n",
    ")"
   ]
  },
  {
   "cell_type": "code",
   "execution_count": 15,
   "metadata": {
    "azdata_cell_guid": "8e14cc8e-53df-4b51-ad68-8140720cd322",
    "colab": {
     "base_uri": "https://localhost:8080/"
    },
    "id": "bGSj2dfZOMW-",
    "language": "sql",
    "outputId": "2b7ef97d-315c-412e-8482-c9ccf6286c6a"
   },
   "outputs": [
    {
     "data": {
      "text/plain": [
       "((40, 3), (160, 3))"
      ]
     },
     "execution_count": 15,
     "metadata": {},
     "output_type": "execute_result"
    }
   ],
   "source": [
    "(examples_df.shape, gold_examples_df.shape)"
   ]
  },
  {
   "cell_type": "code",
   "execution_count": null,
   "metadata": {
    "azdata_cell_guid": "643c19d6-c5c3-4230-b855-98c1cd9d3bfe",
    "id": "r8J58KMMM95s",
    "language": "sql"
   },
   "outputs": [],
   "source": [
    "gold_examples_df.head(3)"
   ]
  },
  {
   "cell_type": "markdown",
   "metadata": {
    "azdata_cell_guid": "0c44d999-29b1-4b0b-bbf2-392a174b1023",
    "id": "RHcvbwDcJKZF"
   },
   "source": [
    "With everything setup, let's start working on our prompts."
   ]
  },
  {
   "cell_type": "markdown",
   "metadata": {
    "azdata_cell_guid": "960b2769-cb87-442a-a4ab-7c00e9b19328",
    "id": "ZPsU-h8FPaht"
   },
   "source": [
    "### Step 3: Derive Prompt"
   ]
  },
  {
   "cell_type": "markdown",
   "metadata": {
    "azdata_cell_guid": "720fa836-b9e7-483f-b14d-390b3516991b",
    "id": "X3uS8NWfNqBG"
   },
   "source": [
    "#### Create prompts"
   ]
  },
  {
   "cell_type": "code",
   "execution_count": 16,
   "metadata": {
    "azdata_cell_guid": "1b227a3a-e039-47fc-b522-53130399e74a",
    "id": "NfDUKbCgPahu",
    "language": "sql"
   },
   "outputs": [],
   "source": [
    "user_message_template = \"\"\"```{product_description}```\"\"\""
   ]
  },
  {
   "cell_type": "markdown",
   "metadata": {
    "azdata_cell_guid": "db8beff3-c1a1-4cde-9f38-bd936f6ed23c",
    "id": "Sxwq7qwrwLwn"
   },
   "source": [
    "Let's create a zero-shot prompt for this scenario. We need to make sure that LLM outputs only the category label and not explanation. So, let's add explicit instructions for that."
   ]
  },
  {
   "cell_type": "markdown",
   "metadata": {
    "azdata_cell_guid": "0fa669a6-9f11-4687-b5e5-a2a1195db131",
    "id": "w8RoXc0qJW0l"
   },
   "source": [
    "**Prompt 1: Zero-shot**"
   ]
  },
  {
   "cell_type": "code",
   "execution_count": 17,
   "metadata": {
    "azdata_cell_guid": "a3d637bd-6efd-4bf0-9e31-543006874098",
    "id": "J79_IaxHJdY2",
    "language": "sql"
   },
   "outputs": [],
   "source": [
    "zero_shot_system_message = \"\"\"\n",
    "Classify the following product desciption presented in the input into one of the following categories.\n",
    "Categories - ['Hair Care', 'Skin Care']\n",
    "Product description will be delimited by triple backticks in the input.\n",
    "Answer only 'Hair Care' or 'Skin Care'. Nothing Else. Do not explain your answer.\n",
    "\"\"\""
   ]
  },
  {
   "cell_type": "code",
   "execution_count": 18,
   "metadata": {
    "azdata_cell_guid": "fb563136-b073-4b11-84e7-fe344b22ff8b",
    "id": "t8cjNjiJJpzc",
    "language": "sql"
   },
   "outputs": [],
   "source": [
    "zero_shot_prompt = [{'role':'system', 'content': zero_shot_system_message}]"
   ]
  },
  {
   "cell_type": "markdown",
   "metadata": {
    "azdata_cell_guid": "a32955b9-b24d-4d15-84d9-ec63d96c993a",
    "id": "viKiMpevxVbC"
   },
   "source": [
    "Let's check the number of tokens this prompt consumes."
   ]
  },
  {
   "cell_type": "code",
   "execution_count": 19,
   "metadata": {
    "azdata_cell_guid": "dae71fe2-d603-435c-80b9-256976fc2f49",
    "colab": {
     "base_uri": "https://localhost:8080/"
    },
    "id": "xlbBt1u_OJEz",
    "language": "sql",
    "outputId": "8c9f4d76-c2f8-4485-a9ec-b075a051881d"
   },
   "outputs": [
    {
     "data": {
      "text/plain": [
       "70"
      ]
     },
     "execution_count": 19,
     "metadata": {},
     "output_type": "execute_result"
    }
   ],
   "source": [
    "num_tokens_from_messages(zero_shot_prompt)"
   ]
  },
  {
   "cell_type": "markdown",
   "metadata": {
    "azdata_cell_guid": "d7281da9-90a8-4dc2-af7c-a63469274591",
    "id": "_ubtoVTCIKUm"
   },
   "source": [
    "**Let's try our zero-shot prompt on a single example.**"
   ]
  },
  {
   "cell_type": "code",
   "execution_count": 20,
   "metadata": {
    "azdata_cell_guid": "8d856f0b-4fa4-4d34-8240-47c844042e6b",
    "colab": {
     "base_uri": "https://localhost:8080/",
     "height": 178
    },
    "id": "tT2xnIrNJS-9",
    "language": "sql",
    "outputId": "05155212-0f6c-4145-8bc8-ebb5e010639d"
   },
   "outputs": [
    {
     "data": {
      "text/html": [
       "<div>\n",
       "<style scoped>\n",
       "    .dataframe tbody tr th:only-of-type {\n",
       "        vertical-align: middle;\n",
       "    }\n",
       "\n",
       "    .dataframe tbody tr th {\n",
       "        vertical-align: top;\n",
       "    }\n",
       "\n",
       "    .dataframe thead th {\n",
       "        text-align: right;\n",
       "    }\n",
       "</style>\n",
       "<table border=\"1\" class=\"dataframe\">\n",
       "  <thead>\n",
       "    <tr style=\"text-align: right;\">\n",
       "      <th></th>\n",
       "      <th>0</th>\n",
       "    </tr>\n",
       "  </thead>\n",
       "  <tbody>\n",
       "    <tr>\n",
       "      <th>Product Description</th>\n",
       "      <td>Sunny Isle Ylang Jamaican Black Castor Oil, 8 oz</td>\n",
       "    </tr>\n",
       "    <tr>\n",
       "      <th>Category</th>\n",
       "      <td>Hair Care</td>\n",
       "    </tr>\n",
       "    <tr>\n",
       "      <th>Uniq Id</th>\n",
       "      <td>c4fa57c1506c1fc7c42c853c73248dc2</td>\n",
       "    </tr>\n",
       "  </tbody>\n",
       "</table>\n",
       "</div><br><label><b>dtype:</b> object</label>"
      ],
      "text/plain": [
       "Product Description    Sunny Isle Ylang Jamaican Black Castor Oil, 8 oz\n",
       "Category                                                      Hair Care\n",
       "Uniq Id                                c4fa57c1506c1fc7c42c853c73248dc2\n",
       "Name: 0, dtype: object"
      ]
     },
     "execution_count": 20,
     "metadata": {},
     "output_type": "execute_result"
    }
   ],
   "source": [
    "data.iloc[0,:]"
   ]
  },
  {
   "cell_type": "code",
   "execution_count": 21,
   "metadata": {
    "azdata_cell_guid": "ed635d59-77dd-4bf4-8126-cd818eee9ef4",
    "id": "RfjpbkGgIr4e",
    "language": "sql"
   },
   "outputs": [],
   "source": [
    "input_description = data.iloc[0,0]\n",
    "\n",
    "user_input = [\n",
    "    {\n",
    "        'role':'user',\n",
    "        'content': user_message_template.format(product_description = input_description)\n",
    "    }\n",
    "]"
   ]
  },
  {
   "cell_type": "markdown",
   "metadata": {
    "azdata_cell_guid": "0200c053-f2fe-490f-b1b9-f07579893612",
    "id": "oNZm6BWTyWzx"
   },
   "source": [
    "Let's also cap the max_token parameter to 4 so that the model doesn't output explanations. We are capping it at 4 instead of 2 because we want to leave a little lee-way for punctuation marks and sub-words token that the model might output in the middle of the text. It is better to use regex later than to prematurely over-constrain the LLM output."
   ]
  },
  {
   "cell_type": "code",
   "execution_count": 22,
   "metadata": {
    "azdata_cell_guid": "05b1ffe4-3274-4a57-b0ee-92bb8f050bd3",
    "colab": {
     "base_uri": "https://localhost:8080/"
    },
    "id": "p9aCct3gIP2d",
    "language": "sql",
    "outputId": "afcdba15-4726-4620-d7b2-da3ebd3664af"
   },
   "outputs": [
    {
     "name": "stdout",
     "output_type": "stream",
     "text": [
      "Hair Care\n"
     ]
    }
   ],
   "source": [
    "response = client.chat.completions.create(\n",
    "    model=deployment_name,\n",
    "    messages=zero_shot_prompt+user_input,\n",
    "    temperature=0, # <- Note the low temperature\n",
    "    max_tokens=4 # <- Note how we restrict the output to not more than 2 tokens\n",
    ")\n",
    "print(response.choices[0].message.content)"
   ]
  },
  {
   "cell_type": "markdown",
   "metadata": {
    "azdata_cell_guid": "9ac264e6-55fd-46dd-9d73-60c85a5aa473",
    "id": "6dINbtNsKeYh"
   },
   "source": [
    "Great! That's a hit. Let's scale it. Let's create a generic evaluation function that can be used with all the prompting techniques that we are going to use."
   ]
  },
  {
   "cell_type": "code",
   "execution_count": 23,
   "metadata": {
    "azdata_cell_guid": "b9f73ecd-a899-4f26-9ac4-845a2f8b129b",
    "id": "tnwtFBZQoSad",
    "language": "sql"
   },
   "outputs": [],
   "source": [
    "def evaluate_prompt(prompt, gold_examples, user_message_template,samples_to_output = 10):\n",
    "\n",
    "    \"\"\"\n",
    "    Return the accuracy score for predictions on gold examples.\n",
    "    For each example, we make a prediction using the prompt. Gold labels and\n",
    "    model predictions are aggregated into lists and compared to compute the\n",
    "    accuracy.\n",
    "\n",
    "    Args:\n",
    "        prompt (List): list of messages in the Open AI prompt format\n",
    "        gold_examples (str): JSON string with list of gold examples\n",
    "        user_message_template (str): string with a placeholder for product description\n",
    "        samples_to_output (int): number of sample predictions and ground truths to print\n",
    "\n",
    "    Output:\n",
    "        accuracy (float): Accuracy computed by comparing model predictions\n",
    "                                with ground truth\n",
    "    \"\"\"\n",
    "\n",
    "    count =0\n",
    "    model_predictions, ground_truths = [], []\n",
    "\n",
    "    for example in json.loads(gold_examples):\n",
    "        gold_input = example['Product Description']\n",
    "        user_input = [\n",
    "            {\n",
    "                'role':'user',\n",
    "                'content': user_message_template.format(product_description=gold_input)\n",
    "            }\n",
    "        ]\n",
    "\n",
    "        try:\n",
    "            response = client.chat.completions.create(\n",
    "                model=deployment_name,\n",
    "                messages=prompt+user_input,\n",
    "                temperature=0, # <- Note the low temperature\n",
    "                max_tokens=4 # <- Note how we restrict the output to not more than 4 tokens\n",
    "            )\n",
    "\n",
    "            prediction = response.choices[0].message.content\n",
    "            # print(prediction) #uncomment to see LLM response or to debug\n",
    "            model_predictions.append(prediction.strip().lower()) # <- removes extraneous white space and lowercases output\n",
    "            ground_truths.append(example['Category'].strip().lower())\n",
    "\n",
    "            if count < samples_to_output:\n",
    "              count += 1\n",
    "              print(\"Product Description: \\n\", example['Product Description'],\"\\n\")\n",
    "              print(\"Original label: \\n\", example['Category'],\"\\n\")\n",
    "              print(\"Predicted label: \\n\", prediction)\n",
    "              print(\"====================================================\")\n",
    "\n",
    "        except Exception as e:\n",
    "            print(e)\n",
    "            continue\n",
    "\n",
    "        accuracy = accuracy_score(ground_truths, model_predictions)\n",
    "\n",
    "    return accuracy"
   ]
  },
  {
   "cell_type": "code",
   "execution_count": 24,
   "metadata": {
    "azdata_cell_guid": "57317bf5-bbca-402a-b141-58aabb96cf2d",
    "colab": {
     "base_uri": "https://localhost:8080/"
    },
    "id": "EAaZaWBxLIYl",
    "language": "sql",
    "outputId": "8d8d6ad0-277c-4a57-97a1-e469ed5cc90c"
   },
   "outputs": [
    {
     "name": "stdout",
     "output_type": "stream",
     "text": [
      "Product Description: \n",
      " OxyGlow brings to you a one stop solution to your beauty and cosmetics products catering to all your needs through its wide range of beauty care products like face wash, bleach, face pack, oils, lotions, gels, conditioners, lip and eye care products and many more. So beat your beauty problems with the help of Oxy Glow’s range of beauty products at your ease by ordering them immediately! \n",
      "\n",
      "Original label: \n",
      " Skin Care \n",
      "\n",
      "Predicted label: \n",
      " Skin Care\n",
      "====================================================\n",
      "Product Description: \n",
      " Cool your body with a weekly routine of oil bath with meera herbal hairwash powder. \n",
      "\n",
      "Original label: \n",
      " Hair Care \n",
      "\n",
      "Predicted label: \n",
      " Hair Care\n",
      "====================================================\n",
      "Product Description: \n",
      " Fast-absorbing treatment for fine and thinning color-treated hair energizes the scalp and provides a healthy scalp environment to improve the appearance of thinning hair. \n",
      "\n",
      "Original label: \n",
      " Hair Care \n",
      "\n",
      "Predicted label: \n",
      " Hair Care\n",
      "====================================================\n",
      "Product Description: \n",
      " This khadi hair growth shampoo for combined hair is packed with anti hairfall and antidandruff properties of green apple, amla, bhringraj and almond oil. It is a potential natural formula for strengthening your tresses. This ayurvedic hair cleanser promotes hair growth and also makes sure that your hair fall is under control. It also acts as an ultimate anti dandruff shampoo as green apple works wonders to fix dandruff and leaves your hair completely flake free. \n",
      "\n",
      "Original label: \n",
      " Hair Care \n",
      "\n",
      "Predicted label: \n",
      " Hair Care\n",
      "====================================================\n",
      "Product Description: \n",
      " Use: Eye, Item Type: Treatment & Mask, Brand Name: HUAMIANLI, Feature: Moisturizing,Anti-Puffiness,Dark Circle, Ingredient: maquiagem, GZZZ: YGZWBZ, Country/Region of Manufacture: China, Certification: GZZZ, NET WT: 50 Pair, Model Number: Eye Patches, Certificate Number: xx, Gender: Female, Unit Type: piece, Package Weight: , Package Size: \n",
      "\n",
      "Original label: \n",
      " Skin Care \n",
      "\n",
      "Predicted label: \n",
      " Skin Care\n",
      "====================================================\n",
      "Product Description: \n",
      " IMPORTANT NOTE - Bulgarian Formula NOT UK. Bulgarian regulations require a much higher level of proof of effectiveness of product than UK. In reality this means Bulgarian products have a much higher level of active ingredients than UK products. DeBa NIGHT CREAM with vitamin C and micro capsulated vitamin A is formulated to nourish, moisturize and restore the firmness and freshness of the skin of the face and neck during the night. It is absorbed easily without leaving an excessive oily layer. With regular use the skin recovers its healthy youth appearances, in the morning it is fresh, smooth and vital. \n",
      "\n",
      "Original label: \n",
      " Skin Care \n",
      "\n",
      "Predicted label: \n",
      " Skin Care\n",
      "====================================================\n",
      "Product Description: \n",
      " Khadi Pure Gramodyog Herbal Orange Lemongrass Hair Conditioner is enriched with pure natural vitamin e oil, anti oxidants and essential oils for hair. It penetrates and seals the cuticle to fill the hollow unwanted cores of damaged lifeless and brittle hair. This moisturizing conditioner makes your hair naturally soft, silky, strong and shiny. Ingredients: Aqua, Citrus Sinensis (Orange), Aloe Vera (Ghrita-Kumari), Centella Asiatica (Mandukaparni), Glycyrrhiza Glabra (Mulethi), Trachyspermum Ammi (Ajwain ), Citrus Limon (Nimbaka), Cymbopogon Citratus(Lemongrass), Wheat Germ Oil. Applicare: After shampoo apply on entire hair length especially at the edges. Wait for a few minutes. Rinse thoroughly. Contents: 210ml Bottle. \n",
      "\n",
      "Original label: \n",
      " Hair Care \n",
      "\n",
      "Predicted label: \n",
      " Hair Care\n",
      "====================================================\n",
      "Product Description: \n",
      " Item Type: Treatment & Mask NET WT: 160g Ingredient: Angelica sinensis,pearl powder Model Number: np0052 Formulation: Cream Gender: Unisex Use: Whole Face Feature: Acne Treatment Type: Washable Mask \n",
      "\n",
      "Original label: \n",
      " Skin Care \n",
      "\n",
      "Predicted label: \n",
      " Skin Care\n",
      "====================================================\n",
      "Product Description: \n",
      " Amino Collagen The future of beauty The future of beauty is here! Amino Collagen is India’s first beauty supplement & most effective collagen source for healthy & naturally glowing skin from within. \n",
      "\n",
      "Original label: \n",
      " Skin Care \n",
      "\n",
      "Predicted label: \n",
      " Skin Care\n",
      "====================================================\n",
      "Product Description: \n",
      " Eco Lips Vegan Bee Free .15 oz \n",
      "\n",
      "Original label: \n",
      " Skin Care \n",
      "\n",
      "Predicted label: \n",
      " Skin Care\n",
      "====================================================\n",
      "Error code: 400 - {'error': {'message': \"The response was filtered due to the prompt triggering Azure OpenAI's content management policy. Please modify your prompt and retry. To learn more about our content filtering policies please read our documentation: https://go.microsoft.com/fwlink/?linkid=2198766\", 'type': None, 'param': 'prompt', 'code': 'content_filter', 'status': 400, 'innererror': {'code': 'ResponsibleAIPolicyViolation', 'content_filter_result': {'hate': {'filtered': True, 'severity': 'medium'}, 'jailbreak': {'filtered': False, 'detected': False}, 'self_harm': {'filtered': False, 'severity': 'safe'}, 'sexual': {'filtered': False, 'severity': 'safe'}, 'violence': {'filtered': False, 'severity': 'safe'}}}}}\n"
     ]
    },
    {
     "data": {
      "text/plain": [
       "0.9433962264150944"
      ]
     },
     "execution_count": 24,
     "metadata": {},
     "output_type": "execute_result"
    }
   ],
   "source": [
    "evaluate_prompt(zero_shot_prompt, gold_examples, user_message_template)"
   ]
  },
  {
   "cell_type": "markdown",
   "metadata": {
    "azdata_cell_guid": "d048647a-4416-43c6-9ec6-f7233824c6ce",
    "id": "XRD-4UUQLKIY"
   },
   "source": [
    "Decent start. Now, let's check if few-shot can do a better job."
   ]
  },
  {
   "cell_type": "markdown",
   "metadata": {
    "azdata_cell_guid": "c5ce782d-78f0-4177-a125-68fccbbc4313",
    "id": "46AWalvrLTxs"
   },
   "source": [
    "**Prompt 2: Few-shot**"
   ]
  },
  {
   "cell_type": "markdown",
   "metadata": {
    "azdata_cell_guid": "dd9f3cf4-3bb7-42fa-957d-569828087ba7",
    "id": "rdsQv1Pz7mJE"
   },
   "source": [
    "For the few-shot prompt, there is no change in the system message compared with the zero-shot prompt. However, we augment this system message with few shot examples.  "
   ]
  },
  {
   "cell_type": "code",
   "execution_count": 26,
   "metadata": {
    "azdata_cell_guid": "1f05caeb-7773-44ef-bc79-4a5df771f0c9",
    "id": "2nrW4jzGLdce",
    "language": "sql"
   },
   "outputs": [],
   "source": [
    "few_shot_system_message = \"\"\"\n",
    "Classify the following product desciption presented in the input into one of the following categories.\n",
    "Categories - ['Hair Care', 'Skin Care']\n",
    "Product description will be delimited by triple backticks in the input.\n",
    "Answer only 'Hair Care' or 'Skin Care'. Do not explain your answer.\n",
    "\"\"\""
   ]
  },
  {
   "cell_type": "markdown",
   "metadata": {
    "azdata_cell_guid": "71843e6d-2dc1-421c-bed2-afba3e19280d",
    "id": "RZcz4TtHQPa2"
   },
   "source": [
    "To assemble few-shot examples, we will need to sample the required number of reviews from the training data. One approach would be to  first subset the different categories and then select samples from these subsets."
   ]
  },
  {
   "cell_type": "code",
   "execution_count": 27,
   "metadata": {
    "azdata_cell_guid": "ed2e4bd4-e78e-4c92-ba81-f4d8b038861a",
    "id": "VJjyRP5IQAx4",
    "language": "sql"
   },
   "outputs": [],
   "source": [
    "hc_reviews = (examples_df.Category == 'Hair Care')\n",
    "sc_reviews = (examples_df.Category == 'Skin Care')"
   ]
  },
  {
   "cell_type": "code",
   "execution_count": 28,
   "metadata": {
    "azdata_cell_guid": "31f04329-cdca-4fe8-a432-86ad48c1ed31",
    "id": "cT3eeB0vPahs",
    "language": "sql"
   },
   "outputs": [],
   "source": [
    "hc_examples = examples_df.loc[hc_reviews, :].sample(4)\n",
    "sc_examples = examples_df.loc[sc_reviews, :].sample(4)"
   ]
  },
  {
   "cell_type": "code",
   "execution_count": 29,
   "metadata": {
    "azdata_cell_guid": "afe69f55-b46c-4917-8558-4523ca319ec9",
    "colab": {
     "base_uri": "https://localhost:8080/",
     "height": 175
    },
    "id": "dko5YsMaPahs",
    "language": "sql",
    "outputId": "7b2e881d-1cac-40fb-90dd-658997535e91"
   },
   "outputs": [
    {
     "data": {
      "application/vnd.google.colaboratory.intrinsic+json": {
       "summary": "{\n  \"name\": \"hc_examples\",\n  \"rows\": 4,\n  \"fields\": [\n    {\n      \"column\": \"Product Description\",\n      \"properties\": {\n        \"dtype\": \"string\",\n        \"num_unique_values\": 4,\n        \"samples\": [\n          \"Khadi Red Onion & Curry Leaf Shampoo with Dispenser Helps To Fight Against Hair Fall & Heavy Dandruff, Flaky Scalp Disease, Cleanses Dead Cells To Prevent Dandruff And Repairs Damaged Hairs. \\n\\nmen#reebok#women#training#nike#ight#nail#neck#blouse#notice#numbers#pins#question#papers#class#cbse#beard oil for growing growth men wax comb trimmer wash color colour softener capsules serum supplements regrowth faster gel smooth and shine patchy Orgon argan & geranium best face brush moustache mustache hair nose apron accessories growth activated charcoal scrub balm butter bib man boar bristles khadi onion oil for hair red Onion shaving bigen colour stylish cream care kit shaper dye die designer tool black design tools dense dark brown essentials fiber ultra essential ocean peel off mask deep cleansing grow hood itch itching idol il improve irish increasing instant jel jojoba jacket jall jelly jal jewellery lip love lite lotion line lit mug mugs needle roller ninza ninja nourishment net sikh pil of peal products qax qraa quotes anti-hair fall anti hair fall#aloevera#sweet almond hair, ideal for rough, dull & oily hair, loss act as hair tonic re-growth multisport#court#shoes#for#men#reebok#women#training#nike#ight#nail#neck#blouse#notice#numbers#pins#question#papers#class#cbse#beard oil for growing growth men wax comb trimmer wash color colour softener serum supplements - 35 ml faster gel smooth and shine patchy Orgon argan & geranium best face brush moustache mustache hair nose apron accessories activated charcoal scrub balm butter bib man boar bristles bombay shaving company bigen colour stylish cream care kit shaper dye die designer tool black design tools dense dark brown essentials fiber ultra essential ocean peel off mask deep cleansing grow hood itch itching idol il improve irish increasing instant jel jojoba jacket jall jelly jal jewellery lip love lite lotion line lit mug mugs needle roller ninza ninja nourishment net sikh pil of peal products qax qraa quotes\",\n          \"A luscious smoothing mask for rebellious hair enriched with pro-keratin plus kukui & evening primrose oils helps nourish & hydrate hair while polishing its surface provides up to four days anti-frizz effect, even in high levels of humidity purifies both hair & scalp while taming unruly hair unveils softer, smoother, shinier & more manageable hair\",\n          \"The best way to color your hair naturally is by using 100% pure mehendi powder. Henna has natural antifungal and antimicrobial properties that work to cool and soothe your scalp while giving it a natural tint. Our premium mehendi powder is made from pure henna leaves which are ground to perfection that will leave your hair moisturized and nourished\"\n        ],\n        \"semantic_type\": \"\",\n        \"description\": \"\"\n      }\n    },\n    {\n      \"column\": \"Category\",\n      \"properties\": {\n        \"dtype\": \"category\",\n        \"num_unique_values\": 1,\n        \"samples\": [\n          \"Hair Care\"\n        ],\n        \"semantic_type\": \"\",\n        \"description\": \"\"\n      }\n    },\n    {\n      \"column\": \"Uniq Id\",\n      \"properties\": {\n        \"dtype\": \"string\",\n        \"num_unique_values\": 4,\n        \"samples\": [\n          \"e1bfb42a68c90ba778a4f9c5376d1d23\"\n        ],\n        \"semantic_type\": \"\",\n        \"description\": \"\"\n      }\n    }\n  ]\n}",
       "type": "dataframe",
       "variable_name": "hc_examples"
      },
      "text/html": [
       "\n",
       "  <div id=\"df-36073ea3-24ee-41f1-af08-15cb7710a272\" class=\"colab-df-container\">\n",
       "    <div>\n",
       "<style scoped>\n",
       "    .dataframe tbody tr th:only-of-type {\n",
       "        vertical-align: middle;\n",
       "    }\n",
       "\n",
       "    .dataframe tbody tr th {\n",
       "        vertical-align: top;\n",
       "    }\n",
       "\n",
       "    .dataframe thead th {\n",
       "        text-align: right;\n",
       "    }\n",
       "</style>\n",
       "<table border=\"1\" class=\"dataframe\">\n",
       "  <thead>\n",
       "    <tr style=\"text-align: right;\">\n",
       "      <th></th>\n",
       "      <th>Product Description</th>\n",
       "      <th>Category</th>\n",
       "      <th>Uniq Id</th>\n",
       "    </tr>\n",
       "  </thead>\n",
       "  <tbody>\n",
       "    <tr>\n",
       "      <th>45</th>\n",
       "      <td>The best way to color your hair naturally is b...</td>\n",
       "      <td>Hair Care</td>\n",
       "      <td>20ed2a0617af4e364f4b3a122b2f9fd1</td>\n",
       "    </tr>\n",
       "    <tr>\n",
       "      <th>12</th>\n",
       "      <td>Khadi Red Onion &amp; Curry Leaf Shampoo with Disp...</td>\n",
       "      <td>Hair Care</td>\n",
       "      <td>e1bfb42a68c90ba778a4f9c5376d1d23</td>\n",
       "    </tr>\n",
       "    <tr>\n",
       "      <th>30</th>\n",
       "      <td>Redken Extreme Anti-Snap Leave-In Treatment 8....</td>\n",
       "      <td>Hair Care</td>\n",
       "      <td>43c706d5a1e057d77eb11d69ad3271eb</td>\n",
       "    </tr>\n",
       "    <tr>\n",
       "      <th>73</th>\n",
       "      <td>A luscious smoothing mask for rebellious hair ...</td>\n",
       "      <td>Hair Care</td>\n",
       "      <td>0f504b86cecd250a95383cb8a32d3598</td>\n",
       "    </tr>\n",
       "  </tbody>\n",
       "</table>\n",
       "</div>\n",
       "    <div class=\"colab-df-buttons\">\n",
       "\n",
       "  <div class=\"colab-df-container\">\n",
       "    <button class=\"colab-df-convert\" onclick=\"convertToInteractive('df-36073ea3-24ee-41f1-af08-15cb7710a272')\"\n",
       "            title=\"Convert this dataframe to an interactive table.\"\n",
       "            style=\"display:none;\">\n",
       "\n",
       "  <svg xmlns=\"http://www.w3.org/2000/svg\" height=\"24px\" viewBox=\"0 -960 960 960\">\n",
       "    <path d=\"M120-120v-720h720v720H120Zm60-500h600v-160H180v160Zm220 220h160v-160H400v160Zm0 220h160v-160H400v160ZM180-400h160v-160H180v160Zm440 0h160v-160H620v160ZM180-180h160v-160H180v160Zm440 0h160v-160H620v160Z\"/>\n",
       "  </svg>\n",
       "    </button>\n",
       "\n",
       "  <style>\n",
       "    .colab-df-container {\n",
       "      display:flex;\n",
       "      gap: 12px;\n",
       "    }\n",
       "\n",
       "    .colab-df-convert {\n",
       "      background-color: #E8F0FE;\n",
       "      border: none;\n",
       "      border-radius: 50%;\n",
       "      cursor: pointer;\n",
       "      display: none;\n",
       "      fill: #1967D2;\n",
       "      height: 32px;\n",
       "      padding: 0 0 0 0;\n",
       "      width: 32px;\n",
       "    }\n",
       "\n",
       "    .colab-df-convert:hover {\n",
       "      background-color: #E2EBFA;\n",
       "      box-shadow: 0px 1px 2px rgba(60, 64, 67, 0.3), 0px 1px 3px 1px rgba(60, 64, 67, 0.15);\n",
       "      fill: #174EA6;\n",
       "    }\n",
       "\n",
       "    .colab-df-buttons div {\n",
       "      margin-bottom: 4px;\n",
       "    }\n",
       "\n",
       "    [theme=dark] .colab-df-convert {\n",
       "      background-color: #3B4455;\n",
       "      fill: #D2E3FC;\n",
       "    }\n",
       "\n",
       "    [theme=dark] .colab-df-convert:hover {\n",
       "      background-color: #434B5C;\n",
       "      box-shadow: 0px 1px 3px 1px rgba(0, 0, 0, 0.15);\n",
       "      filter: drop-shadow(0px 1px 2px rgba(0, 0, 0, 0.3));\n",
       "      fill: #FFFFFF;\n",
       "    }\n",
       "  </style>\n",
       "\n",
       "    <script>\n",
       "      const buttonEl =\n",
       "        document.querySelector('#df-36073ea3-24ee-41f1-af08-15cb7710a272 button.colab-df-convert');\n",
       "      buttonEl.style.display =\n",
       "        google.colab.kernel.accessAllowed ? 'block' : 'none';\n",
       "\n",
       "      async function convertToInteractive(key) {\n",
       "        const element = document.querySelector('#df-36073ea3-24ee-41f1-af08-15cb7710a272');\n",
       "        const dataTable =\n",
       "          await google.colab.kernel.invokeFunction('convertToInteractive',\n",
       "                                                    [key], {});\n",
       "        if (!dataTable) return;\n",
       "\n",
       "        const docLinkHtml = 'Like what you see? Visit the ' +\n",
       "          '<a target=\"_blank\" href=https://colab.research.google.com/notebooks/data_table.ipynb>data table notebook</a>'\n",
       "          + ' to learn more about interactive tables.';\n",
       "        element.innerHTML = '';\n",
       "        dataTable['output_type'] = 'display_data';\n",
       "        await google.colab.output.renderOutput(dataTable, element);\n",
       "        const docLink = document.createElement('div');\n",
       "        docLink.innerHTML = docLinkHtml;\n",
       "        element.appendChild(docLink);\n",
       "      }\n",
       "    </script>\n",
       "  </div>\n",
       "\n",
       "\n",
       "<div id=\"df-3d60b708-dcc6-4e36-9492-5e2fd0c98cfe\">\n",
       "  <button class=\"colab-df-quickchart\" onclick=\"quickchart('df-3d60b708-dcc6-4e36-9492-5e2fd0c98cfe')\"\n",
       "            title=\"Suggest charts\"\n",
       "            style=\"display:none;\">\n",
       "\n",
       "<svg xmlns=\"http://www.w3.org/2000/svg\" height=\"24px\"viewBox=\"0 0 24 24\"\n",
       "     width=\"24px\">\n",
       "    <g>\n",
       "        <path d=\"M19 3H5c-1.1 0-2 .9-2 2v14c0 1.1.9 2 2 2h14c1.1 0 2-.9 2-2V5c0-1.1-.9-2-2-2zM9 17H7v-7h2v7zm4 0h-2V7h2v10zm4 0h-2v-4h2v4z\"/>\n",
       "    </g>\n",
       "</svg>\n",
       "  </button>\n",
       "\n",
       "<style>\n",
       "  .colab-df-quickchart {\n",
       "      --bg-color: #E8F0FE;\n",
       "      --fill-color: #1967D2;\n",
       "      --hover-bg-color: #E2EBFA;\n",
       "      --hover-fill-color: #174EA6;\n",
       "      --disabled-fill-color: #AAA;\n",
       "      --disabled-bg-color: #DDD;\n",
       "  }\n",
       "\n",
       "  [theme=dark] .colab-df-quickchart {\n",
       "      --bg-color: #3B4455;\n",
       "      --fill-color: #D2E3FC;\n",
       "      --hover-bg-color: #434B5C;\n",
       "      --hover-fill-color: #FFFFFF;\n",
       "      --disabled-bg-color: #3B4455;\n",
       "      --disabled-fill-color: #666;\n",
       "  }\n",
       "\n",
       "  .colab-df-quickchart {\n",
       "    background-color: var(--bg-color);\n",
       "    border: none;\n",
       "    border-radius: 50%;\n",
       "    cursor: pointer;\n",
       "    display: none;\n",
       "    fill: var(--fill-color);\n",
       "    height: 32px;\n",
       "    padding: 0;\n",
       "    width: 32px;\n",
       "  }\n",
       "\n",
       "  .colab-df-quickchart:hover {\n",
       "    background-color: var(--hover-bg-color);\n",
       "    box-shadow: 0 1px 2px rgba(60, 64, 67, 0.3), 0 1px 3px 1px rgba(60, 64, 67, 0.15);\n",
       "    fill: var(--button-hover-fill-color);\n",
       "  }\n",
       "\n",
       "  .colab-df-quickchart-complete:disabled,\n",
       "  .colab-df-quickchart-complete:disabled:hover {\n",
       "    background-color: var(--disabled-bg-color);\n",
       "    fill: var(--disabled-fill-color);\n",
       "    box-shadow: none;\n",
       "  }\n",
       "\n",
       "  .colab-df-spinner {\n",
       "    border: 2px solid var(--fill-color);\n",
       "    border-color: transparent;\n",
       "    border-bottom-color: var(--fill-color);\n",
       "    animation:\n",
       "      spin 1s steps(1) infinite;\n",
       "  }\n",
       "\n",
       "  @keyframes spin {\n",
       "    0% {\n",
       "      border-color: transparent;\n",
       "      border-bottom-color: var(--fill-color);\n",
       "      border-left-color: var(--fill-color);\n",
       "    }\n",
       "    20% {\n",
       "      border-color: transparent;\n",
       "      border-left-color: var(--fill-color);\n",
       "      border-top-color: var(--fill-color);\n",
       "    }\n",
       "    30% {\n",
       "      border-color: transparent;\n",
       "      border-left-color: var(--fill-color);\n",
       "      border-top-color: var(--fill-color);\n",
       "      border-right-color: var(--fill-color);\n",
       "    }\n",
       "    40% {\n",
       "      border-color: transparent;\n",
       "      border-right-color: var(--fill-color);\n",
       "      border-top-color: var(--fill-color);\n",
       "    }\n",
       "    60% {\n",
       "      border-color: transparent;\n",
       "      border-right-color: var(--fill-color);\n",
       "    }\n",
       "    80% {\n",
       "      border-color: transparent;\n",
       "      border-right-color: var(--fill-color);\n",
       "      border-bottom-color: var(--fill-color);\n",
       "    }\n",
       "    90% {\n",
       "      border-color: transparent;\n",
       "      border-bottom-color: var(--fill-color);\n",
       "    }\n",
       "  }\n",
       "</style>\n",
       "\n",
       "  <script>\n",
       "    async function quickchart(key) {\n",
       "      const quickchartButtonEl =\n",
       "        document.querySelector('#' + key + ' button');\n",
       "      quickchartButtonEl.disabled = true;  // To prevent multiple clicks.\n",
       "      quickchartButtonEl.classList.add('colab-df-spinner');\n",
       "      try {\n",
       "        const charts = await google.colab.kernel.invokeFunction(\n",
       "            'suggestCharts', [key], {});\n",
       "      } catch (error) {\n",
       "        console.error('Error during call to suggestCharts:', error);\n",
       "      }\n",
       "      quickchartButtonEl.classList.remove('colab-df-spinner');\n",
       "      quickchartButtonEl.classList.add('colab-df-quickchart-complete');\n",
       "    }\n",
       "    (() => {\n",
       "      let quickchartButtonEl =\n",
       "        document.querySelector('#df-3d60b708-dcc6-4e36-9492-5e2fd0c98cfe button');\n",
       "      quickchartButtonEl.style.display =\n",
       "        google.colab.kernel.accessAllowed ? 'block' : 'none';\n",
       "    })();\n",
       "  </script>\n",
       "</div>\n",
       "\n",
       "  <div id=\"id_8435b9e7-a7cb-4299-b3da-30b5efd8d88c\">\n",
       "    <style>\n",
       "      .colab-df-generate {\n",
       "        background-color: #E8F0FE;\n",
       "        border: none;\n",
       "        border-radius: 50%;\n",
       "        cursor: pointer;\n",
       "        display: none;\n",
       "        fill: #1967D2;\n",
       "        height: 32px;\n",
       "        padding: 0 0 0 0;\n",
       "        width: 32px;\n",
       "      }\n",
       "\n",
       "      .colab-df-generate:hover {\n",
       "        background-color: #E2EBFA;\n",
       "        box-shadow: 0px 1px 2px rgba(60, 64, 67, 0.3), 0px 1px 3px 1px rgba(60, 64, 67, 0.15);\n",
       "        fill: #174EA6;\n",
       "      }\n",
       "\n",
       "      [theme=dark] .colab-df-generate {\n",
       "        background-color: #3B4455;\n",
       "        fill: #D2E3FC;\n",
       "      }\n",
       "\n",
       "      [theme=dark] .colab-df-generate:hover {\n",
       "        background-color: #434B5C;\n",
       "        box-shadow: 0px 1px 3px 1px rgba(0, 0, 0, 0.15);\n",
       "        filter: drop-shadow(0px 1px 2px rgba(0, 0, 0, 0.3));\n",
       "        fill: #FFFFFF;\n",
       "      }\n",
       "    </style>\n",
       "    <button class=\"colab-df-generate\" onclick=\"generateWithVariable('hc_examples')\"\n",
       "            title=\"Generate code using this dataframe.\"\n",
       "            style=\"display:none;\">\n",
       "\n",
       "  <svg xmlns=\"http://www.w3.org/2000/svg\" height=\"24px\"viewBox=\"0 0 24 24\"\n",
       "       width=\"24px\">\n",
       "    <path d=\"M7,19H8.4L18.45,9,17,7.55,7,17.6ZM5,21V16.75L18.45,3.32a2,2,0,0,1,2.83,0l1.4,1.43a1.91,1.91,0,0,1,.58,1.4,1.91,1.91,0,0,1-.58,1.4L9.25,21ZM18.45,9,17,7.55Zm-12,3A5.31,5.31,0,0,0,4.9,8.1,5.31,5.31,0,0,0,1,6.5,5.31,5.31,0,0,0,4.9,4.9,5.31,5.31,0,0,0,6.5,1,5.31,5.31,0,0,0,8.1,4.9,5.31,5.31,0,0,0,12,6.5,5.46,5.46,0,0,0,6.5,12Z\"/>\n",
       "  </svg>\n",
       "    </button>\n",
       "    <script>\n",
       "      (() => {\n",
       "      const buttonEl =\n",
       "        document.querySelector('#id_8435b9e7-a7cb-4299-b3da-30b5efd8d88c button.colab-df-generate');\n",
       "      buttonEl.style.display =\n",
       "        google.colab.kernel.accessAllowed ? 'block' : 'none';\n",
       "\n",
       "      buttonEl.onclick = () => {\n",
       "        google.colab.notebook.generateWithVariable('hc_examples');\n",
       "      }\n",
       "      })();\n",
       "    </script>\n",
       "  </div>\n",
       "\n",
       "    </div>\n",
       "  </div>\n"
      ],
      "text/plain": [
       "                                  Product Description   Category  \\\n",
       "45  The best way to color your hair naturally is b...  Hair Care   \n",
       "12  Khadi Red Onion & Curry Leaf Shampoo with Disp...  Hair Care   \n",
       "30  Redken Extreme Anti-Snap Leave-In Treatment 8....  Hair Care   \n",
       "73  A luscious smoothing mask for rebellious hair ...  Hair Care   \n",
       "\n",
       "                             Uniq Id  \n",
       "45  20ed2a0617af4e364f4b3a122b2f9fd1  \n",
       "12  e1bfb42a68c90ba778a4f9c5376d1d23  \n",
       "30  43c706d5a1e057d77eb11d69ad3271eb  \n",
       "73  0f504b86cecd250a95383cb8a32d3598  "
      ]
     },
     "execution_count": 29,
     "metadata": {},
     "output_type": "execute_result"
    }
   ],
   "source": [
    "hc_examples"
   ]
  },
  {
   "cell_type": "markdown",
   "metadata": {
    "azdata_cell_guid": "39fa746d-2b29-4318-ab47-722a513970da",
    "id": "bEA_Ab2FRrYB"
   },
   "source": [
    "To avoid these biases, it is important to have a balanced set of examples that are arranged in random order. Let us create a Python function that generates bias-free examples (our function implements the workflow presented below):"
   ]
  },
  {
   "cell_type": "code",
   "execution_count": 30,
   "metadata": {
    "azdata_cell_guid": "9212bee9-60ee-40ef-9839-3ad1d2e63f88",
    "id": "Qb0mLtE9R7ZA",
    "language": "sql"
   },
   "outputs": [],
   "source": [
    "def create_examples(dataset, n=4):\n",
    "\n",
    "    \"\"\"\n",
    "    Return a JSON list of randomized examples of size 2n with two classes.\n",
    "    Create subsets of each class, choose random samples from the subsets,\n",
    "    merge and randomize the order of samples in the merged list.\n",
    "    Each run of this function creates a different random sample of examples\n",
    "    chosen from the training data.\n",
    "\n",
    "    Args:\n",
    "        dataset (DataFrame): A DataFrame with examples (text + label)\n",
    "        n (int): number of examples of each class to be selected\n",
    "\n",
    "    Output:\n",
    "        randomized_examples (JSON): A JSON with examples in random order\n",
    "    \"\"\"\n",
    "\n",
    "    hc_reviews = (examples_df.Category == 'Hair Care')\n",
    "    sc_reviews = (examples_df.Category == 'Skin Care')\n",
    "\n",
    "    cols_to_select = [\"Product Description\",\"Category\"]\n",
    "    hc_examples = examples_df.loc[hc_reviews, cols_to_select].sample(n)\n",
    "    sc_examples = examples_df.loc[sc_reviews, cols_to_select].sample(n)\n",
    "\n",
    "    examples = pd.concat([hc_examples,sc_examples])\n",
    "    # sampling without replacement is equivalent to random shuffling\n",
    "    randomized_examples = examples.sample(2*n, replace=False)\n",
    "\n",
    "    return randomized_examples.to_json(orient='records')"
   ]
  },
  {
   "cell_type": "code",
   "execution_count": 31,
   "metadata": {
    "azdata_cell_guid": "caa8908c-ee2c-4854-b5dc-2cb3459e186d",
    "id": "jb1VpSgZPaht",
    "language": "sql"
   },
   "outputs": [],
   "source": [
    "examples = create_examples(examples_df, 2)"
   ]
  },
  {
   "cell_type": "code",
   "execution_count": 32,
   "metadata": {
    "azdata_cell_guid": "09ef852e-ba18-4f6b-aac7-2fcf85660322",
    "colab": {
     "base_uri": "https://localhost:8080/"
    },
    "id": "dJInVW2PSucc",
    "language": "sql",
    "outputId": "5da7b705-4bc9-4a62-8e01-b5e438e9bb3d"
   },
   "outputs": [
    {
     "data": {
      "text/plain": [
       "[{'Product Description': 'Type: Slimming Wraps, Item Type: Weight Loss Creams, Model Number: 8813673, NET WT: 1 x Waist Belt, Unit Type: piece, Package Weight: , Package Size:',\n",
       "  'Category': 'Skin Care'},\n",
       " {'Product Description': 'Item Type: Treatment & Mask, Feature: Moisturizing,Oil-control,Whitening, Use: T Zone, Brand Name: LANBENA, Ingredient: Masks, Formulation: Gel, Gender: Unisex, Model Number: LANBENA Blackhead Removal Mask, NET WT: 30g, Type: Peel Mask, Type: Masks, Unit Type: piece, Package Weight: , Package Size:',\n",
       "  'Category': 'Skin Care'},\n",
       " {'Product Description': 'Sunny Isle Ylang Jamaican Black Castor Oil, 8 oz',\n",
       "  'Category': 'Hair Care'},\n",
       " {'Product Description': 'Every drop of Nyle Naturals Advanced Shampoo is Paraben free and filled with the goodness of natural extracts of Aloe Vera, Tulsi, Amla, and Green Tea. It fights dryness, giving smooth manageable hair. The pH balance of Nyle shampoo gives you the additional damage protection. This shampoo is free from any harmful ingredients and contains the goodness of nature’s hair-care ingredients. It moisturizes dry and rough hair to makes it soft & silky. The regular usage makes hair healthy. Besides protecting your hair and scalp from going dry, it also makes them smooth and manageable.',\n",
       "  'Category': 'Hair Care'}]"
      ]
     },
     "execution_count": 32,
     "metadata": {},
     "output_type": "execute_result"
    }
   ],
   "source": [
    "json.loads(examples)"
   ]
  },
  {
   "cell_type": "markdown",
   "metadata": {
    "azdata_cell_guid": "34f1bebb-6363-4ab0-ab6b-3255aa1f0ca3",
    "id": "PEnNkOzJSwTk"
   },
   "source": [
    "Let's create a function to create few show prompt from our examples."
   ]
  },
  {
   "cell_type": "code",
   "execution_count": 33,
   "metadata": {
    "azdata_cell_guid": "90399798-a2a6-4ca6-bba8-ad8574622506",
    "id": "mFK2WQOgS8ey",
    "language": "sql"
   },
   "outputs": [],
   "source": [
    "def create_prompt(system_message, examples, user_message_template):\n",
    "\n",
    "    \"\"\"\n",
    "    Return a prompt message in the format expected by the Open AI API.\n",
    "    Loop through the examples and parse them as user message and assistant\n",
    "    message.\n",
    "\n",
    "    Args:\n",
    "        system_message (str): system message with instructions for classification\n",
    "        examples (str): JSON string with list of examples\n",
    "        user_message_template (str): string with a placeholder for description\n",
    "\n",
    "    Output:\n",
    "        few_shot_prompt (List): A list of dictionaries in the Open AI prompt format\n",
    "    \"\"\"\n",
    "\n",
    "    few_shot_prompt = [{'role':'system', 'content': system_message}]\n",
    "\n",
    "    for example in json.loads(examples):\n",
    "        example_description = example['Product Description']\n",
    "        example_category = example['Category']\n",
    "\n",
    "        few_shot_prompt.append(\n",
    "            {\n",
    "                'role': 'user',\n",
    "                'content': user_message_template.format(\n",
    "                    product_description=example_description\n",
    "                )\n",
    "            }\n",
    "        )\n",
    "\n",
    "        few_shot_prompt.append(\n",
    "            {'role': 'assistant', 'content': f\"{example_category}\"}\n",
    "        )\n",
    "\n",
    "    return few_shot_prompt"
   ]
  },
  {
   "cell_type": "code",
   "execution_count": 34,
   "metadata": {
    "azdata_cell_guid": "1ac8121d-6fda-4316-b331-aba6f035483d",
    "id": "QoO1lCFtTBUV",
    "language": "sql"
   },
   "outputs": [],
   "source": [
    "few_shot_prompt = create_prompt(\n",
    "    few_shot_system_message,\n",
    "    examples,\n",
    "    user_message_template\n",
    ")"
   ]
  },
  {
   "cell_type": "code",
   "execution_count": 35,
   "metadata": {
    "azdata_cell_guid": "cebe3325-6bb6-478c-8eb5-9c3439c1ff12",
    "colab": {
     "base_uri": "https://localhost:8080/"
    },
    "id": "sy91eq9FTNeo",
    "language": "sql",
    "outputId": "9da8301a-e02c-4aa1-b1ba-2613afc1f46f"
   },
   "outputs": [
    {
     "data": {
      "text/plain": [
       "[{'role': 'system',\n",
       "  'content': \"\\nClassify the following product desciption presented in the input into one of the following categories.\\nCategories - ['Hair Care', 'Skin Care']\\nProduct description will be delimited by triple backticks in the input.\\nAnswer only 'Hair Care' or 'Skin Care'. Do not explain your answer.\\n\"},\n",
       " {'role': 'user',\n",
       "  'content': '```Type: Slimming Wraps, Item Type: Weight Loss Creams, Model Number: 8813673, NET WT: 1 x Waist Belt, Unit Type: piece, Package Weight: , Package Size:```'},\n",
       " {'role': 'assistant', 'content': 'Skin Care'},\n",
       " {'role': 'user',\n",
       "  'content': '```Item Type: Treatment & Mask, Feature: Moisturizing,Oil-control,Whitening, Use: T Zone, Brand Name: LANBENA, Ingredient: Masks, Formulation: Gel, Gender: Unisex, Model Number: LANBENA Blackhead Removal Mask, NET WT: 30g, Type: Peel Mask, Type: Masks, Unit Type: piece, Package Weight: , Package Size:```'},\n",
       " {'role': 'assistant', 'content': 'Skin Care'},\n",
       " {'role': 'user',\n",
       "  'content': '```Sunny Isle Ylang Jamaican Black Castor Oil, 8 oz```'},\n",
       " {'role': 'assistant', 'content': 'Hair Care'},\n",
       " {'role': 'user',\n",
       "  'content': '```Every drop of Nyle Naturals Advanced Shampoo is Paraben free and filled with the goodness of natural extracts of Aloe Vera, Tulsi, Amla, and Green Tea. It fights dryness, giving smooth manageable hair. The pH balance of Nyle shampoo gives you the additional damage protection. This shampoo is free from any harmful ingredients and contains the goodness of nature’s hair-care ingredients. It moisturizes dry and rough hair to makes it soft & silky. The regular usage makes hair healthy. Besides protecting your hair and scalp from going dry, it also makes them smooth and manageable.```'},\n",
       " {'role': 'assistant', 'content': 'Hair Care'}]"
      ]
     },
     "execution_count": 35,
     "metadata": {},
     "output_type": "execute_result"
    }
   ],
   "source": [
    "few_shot_prompt"
   ]
  },
  {
   "cell_type": "markdown",
   "metadata": {
    "azdata_cell_guid": "6cdb5faa-9f24-4163-bbaf-537ebbea83eb",
    "id": "_MPSIcmN1XfS"
   },
   "source": [
    "The few-shot prompt is definetely heavier than the zero-shot prompt. Let's check how much more resource intensive few-shot is."
   ]
  },
  {
   "cell_type": "code",
   "execution_count": 36,
   "metadata": {
    "azdata_cell_guid": "c203f99a-3021-45c1-8772-4f7e0afd227f",
    "colab": {
     "base_uri": "https://localhost:8080/"
    },
    "id": "ItFH6zLJMnb9",
    "language": "sql",
    "outputId": "e9baaf62-d1c8-40ab-e75f-34849e7abcbc"
   },
   "outputs": [
    {
     "data": {
      "text/plain": [
       "379"
      ]
     },
     "execution_count": 36,
     "metadata": {},
     "output_type": "execute_result"
    }
   ],
   "source": [
    "num_tokens_from_messages(few_shot_prompt)"
   ]
  },
  {
   "cell_type": "markdown",
   "metadata": {
    "azdata_cell_guid": "6d0fccc7-70f1-400c-9989-d65f55c978b8",
    "id": "L4iqG_4L1miM"
   },
   "source": [
    "That is 3x more token usage than zero-shot. Unless it gives significatnly better results, zero-shot will be the preferred one."
   ]
  },
  {
   "cell_type": "code",
   "execution_count": 37,
   "metadata": {
    "azdata_cell_guid": "1867ca7f-2af6-4e46-9afc-0fbbf48d3ac1",
    "colab": {
     "base_uri": "https://localhost:8080/"
    },
    "id": "sp7awSHZVSw2",
    "language": "sql",
    "outputId": "0be39eb1-a072-48f6-fe41-7590ec105213"
   },
   "outputs": [
    {
     "name": "stdout",
     "output_type": "stream",
     "text": [
      "Product Description: \n",
      " OxyGlow brings to you a one stop solution to your beauty and cosmetics products catering to all your needs through its wide range of beauty care products like face wash, bleach, face pack, oils, lotions, gels, conditioners, lip and eye care products and many more. So beat your beauty problems with the help of Oxy Glow’s range of beauty products at your ease by ordering them immediately! \n",
      "\n",
      "Original label: \n",
      " Skin Care \n",
      "\n",
      "Predicted label: \n",
      " Skin Care\n",
      "====================================================\n",
      "Product Description: \n",
      " Cool your body with a weekly routine of oil bath with meera herbal hairwash powder. \n",
      "\n",
      "Original label: \n",
      " Hair Care \n",
      "\n",
      "Predicted label: \n",
      " Hair Care\n",
      "====================================================\n",
      "Product Description: \n",
      " Fast-absorbing treatment for fine and thinning color-treated hair energizes the scalp and provides a healthy scalp environment to improve the appearance of thinning hair. \n",
      "\n",
      "Original label: \n",
      " Hair Care \n",
      "\n",
      "Predicted label: \n",
      " Hair Care\n",
      "====================================================\n",
      "Product Description: \n",
      " This khadi hair growth shampoo for combined hair is packed with anti hairfall and antidandruff properties of green apple, amla, bhringraj and almond oil. It is a potential natural formula for strengthening your tresses. This ayurvedic hair cleanser promotes hair growth and also makes sure that your hair fall is under control. It also acts as an ultimate anti dandruff shampoo as green apple works wonders to fix dandruff and leaves your hair completely flake free. \n",
      "\n",
      "Original label: \n",
      " Hair Care \n",
      "\n",
      "Predicted label: \n",
      " Hair Care\n",
      "====================================================\n",
      "Product Description: \n",
      " Use: Eye, Item Type: Treatment & Mask, Brand Name: HUAMIANLI, Feature: Moisturizing,Anti-Puffiness,Dark Circle, Ingredient: maquiagem, GZZZ: YGZWBZ, Country/Region of Manufacture: China, Certification: GZZZ, NET WT: 50 Pair, Model Number: Eye Patches, Certificate Number: xx, Gender: Female, Unit Type: piece, Package Weight: , Package Size: \n",
      "\n",
      "Original label: \n",
      " Skin Care \n",
      "\n",
      "Predicted label: \n",
      " Skin Care\n",
      "====================================================\n",
      "Product Description: \n",
      " IMPORTANT NOTE - Bulgarian Formula NOT UK. Bulgarian regulations require a much higher level of proof of effectiveness of product than UK. In reality this means Bulgarian products have a much higher level of active ingredients than UK products. DeBa NIGHT CREAM with vitamin C and micro capsulated vitamin A is formulated to nourish, moisturize and restore the firmness and freshness of the skin of the face and neck during the night. It is absorbed easily without leaving an excessive oily layer. With regular use the skin recovers its healthy youth appearances, in the morning it is fresh, smooth and vital. \n",
      "\n",
      "Original label: \n",
      " Skin Care \n",
      "\n",
      "Predicted label: \n",
      " Skin Care\n",
      "====================================================\n",
      "Product Description: \n",
      " Khadi Pure Gramodyog Herbal Orange Lemongrass Hair Conditioner is enriched with pure natural vitamin e oil, anti oxidants and essential oils for hair. It penetrates and seals the cuticle to fill the hollow unwanted cores of damaged lifeless and brittle hair. This moisturizing conditioner makes your hair naturally soft, silky, strong and shiny. Ingredients: Aqua, Citrus Sinensis (Orange), Aloe Vera (Ghrita-Kumari), Centella Asiatica (Mandukaparni), Glycyrrhiza Glabra (Mulethi), Trachyspermum Ammi (Ajwain ), Citrus Limon (Nimbaka), Cymbopogon Citratus(Lemongrass), Wheat Germ Oil. Applicare: After shampoo apply on entire hair length especially at the edges. Wait for a few minutes. Rinse thoroughly. Contents: 210ml Bottle. \n",
      "\n",
      "Original label: \n",
      " Hair Care \n",
      "\n",
      "Predicted label: \n",
      " Hair Care\n",
      "====================================================\n",
      "Product Description: \n",
      " Item Type: Treatment & Mask NET WT: 160g Ingredient: Angelica sinensis,pearl powder Model Number: np0052 Formulation: Cream Gender: Unisex Use: Whole Face Feature: Acne Treatment Type: Washable Mask \n",
      "\n",
      "Original label: \n",
      " Skin Care \n",
      "\n",
      "Predicted label: \n",
      " Skin Care\n",
      "====================================================\n",
      "Product Description: \n",
      " Amino Collagen The future of beauty The future of beauty is here! Amino Collagen is India’s first beauty supplement & most effective collagen source for healthy & naturally glowing skin from within. \n",
      "\n",
      "Original label: \n",
      " Skin Care \n",
      "\n",
      "Predicted label: \n",
      " Skin Care\n",
      "====================================================\n",
      "Product Description: \n",
      " Eco Lips Vegan Bee Free .15 oz \n",
      "\n",
      "Original label: \n",
      " Skin Care \n",
      "\n",
      "Predicted label: \n",
      " Skin Care\n",
      "====================================================\n",
      "Error code: 400 - {'error': {'message': \"The response was filtered due to the prompt triggering Azure OpenAI's content management policy. Please modify your prompt and retry. To learn more about our content filtering policies please read our documentation: https://go.microsoft.com/fwlink/?linkid=2198766\", 'type': None, 'param': 'prompt', 'code': 'content_filter', 'status': 400, 'innererror': {'code': 'ResponsibleAIPolicyViolation', 'content_filter_result': {'hate': {'filtered': True, 'severity': 'medium'}, 'jailbreak': {'filtered': False, 'detected': False}, 'self_harm': {'filtered': False, 'severity': 'safe'}, 'sexual': {'filtered': False, 'severity': 'safe'}, 'violence': {'filtered': False, 'severity': 'safe'}}}}}\n"
     ]
    },
    {
     "data": {
      "text/plain": [
       "0.9371069182389937"
      ]
     },
     "execution_count": 37,
     "metadata": {},
     "output_type": "execute_result"
    }
   ],
   "source": [
    "evaluate_prompt(few_shot_prompt, gold_examples, user_message_template)"
   ]
  },
  {
   "cell_type": "markdown",
   "metadata": {
    "azdata_cell_guid": "0a482234-43c1-462c-9ccc-acbfe5d3d0a7",
    "id": "IVqpnL5i10Kp"
   },
   "source": [
    "Let's take the final call after running through all prompting techniques and after running the evaluation across multiple samples."
   ]
  },
  {
   "cell_type": "markdown",
   "metadata": {
    "azdata_cell_guid": "e8c53f75-0d4d-4530-9ce8-36af3b1f57a6",
    "id": "agDW1s7eNy-L"
   },
   "source": [
    "**Prompt 3: Chain-of-Thought**"
   ]
  },
  {
   "cell_type": "markdown",
   "metadata": {
    "azdata_cell_guid": "818f36ea-36be-4198-ab0c-7eccac5ac0f9",
    "id": "KKSPE0fT52EE"
   },
   "source": [
    "For the CoT prompt, we add detailed step-by-step instructions to the few shot system message instructing the model to carefully ponder before assigning the label. Apart from this addition, there are no further changes from the few-shot prompt."
   ]
  },
  {
   "cell_type": "code",
   "execution_count": 38,
   "metadata": {
    "azdata_cell_guid": "234c873f-724f-48ff-a667-c424fde540b7",
    "id": "MqhNfIrrPaht",
    "language": "sql"
   },
   "outputs": [],
   "source": [
    "cot_system_message = \"\"\"\n",
    "Given the following product description, follow these steps to determine the appropriate product label category:\n",
    "\n",
    "1. Read the product description carefully, looking for key words and phrases that indicate the product's purpose and usage.\n",
    "\n",
    "2. Consider if the description mentions any particular keywords relating to a category.\n",
    "\n",
    "3. If the description contains keywords related to multiple categories, determine which category is most strongly emphasized or which usage is primary.\n",
    "\n",
    "4. If the description does not contain any clear keywords related to the given categories, consider the overall context and purpose of the product to make an educated guess about the most appropriate category.\n",
    "\n",
    "5. Output the determined category label ( 'Hair Care', or 'Skin Care') and nothing else. Do not explain your output.\n",
    "\"\"\""
   ]
  },
  {
   "cell_type": "code",
   "execution_count": 39,
   "metadata": {
    "azdata_cell_guid": "7df427b6-b4cd-4361-8b07-6d211e46fe7a",
    "id": "bUMhbkjaTjmH",
    "language": "sql"
   },
   "outputs": [],
   "source": [
    "cot_few_shot_prompt = create_prompt(cot_system_message, examples, user_message_template)"
   ]
  },
  {
   "cell_type": "code",
   "execution_count": 40,
   "metadata": {
    "azdata_cell_guid": "06dad028-4260-4639-8e0e-5d8874b47e26",
    "colab": {
     "base_uri": "https://localhost:8080/"
    },
    "id": "-KroTz4iTscw",
    "language": "sql",
    "outputId": "98760e1e-c5ca-45ff-d9c2-a36c35e3148e"
   },
   "outputs": [
    {
     "data": {
      "text/plain": [
       "[{'role': 'system',\n",
       "  'content': \"\\nGiven the following product description, follow these steps to determine the appropriate product label category:\\n\\n1. Read the product description carefully, looking for key words and phrases that indicate the product's purpose and usage.\\n\\n2. Consider if the description mentions any particular keywords relating to a category.\\n\\n3. If the description contains keywords related to multiple categories, determine which category is most strongly emphasized or which usage is primary.\\n\\n4. If the description does not contain any clear keywords related to the given categories, consider the overall context and purpose of the product to make an educated guess about the most appropriate category.\\n\\n5. Output the determined category label ( 'Hair Care', or 'Skin Care') and nothing else. Do not explain your output.\\n\"},\n",
       " {'role': 'user',\n",
       "  'content': '```Type: Slimming Wraps, Item Type: Weight Loss Creams, Model Number: 8813673, NET WT: 1 x Waist Belt, Unit Type: piece, Package Weight: , Package Size:```'},\n",
       " {'role': 'assistant', 'content': 'Skin Care'},\n",
       " {'role': 'user',\n",
       "  'content': '```Item Type: Treatment & Mask, Feature: Moisturizing,Oil-control,Whitening, Use: T Zone, Brand Name: LANBENA, Ingredient: Masks, Formulation: Gel, Gender: Unisex, Model Number: LANBENA Blackhead Removal Mask, NET WT: 30g, Type: Peel Mask, Type: Masks, Unit Type: piece, Package Weight: , Package Size:```'},\n",
       " {'role': 'assistant', 'content': 'Skin Care'},\n",
       " {'role': 'user',\n",
       "  'content': '```Sunny Isle Ylang Jamaican Black Castor Oil, 8 oz```'},\n",
       " {'role': 'assistant', 'content': 'Hair Care'},\n",
       " {'role': 'user',\n",
       "  'content': '```Every drop of Nyle Naturals Advanced Shampoo is Paraben free and filled with the goodness of natural extracts of Aloe Vera, Tulsi, Amla, and Green Tea. It fights dryness, giving smooth manageable hair. The pH balance of Nyle shampoo gives you the additional damage protection. This shampoo is free from any harmful ingredients and contains the goodness of nature’s hair-care ingredients. It moisturizes dry and rough hair to makes it soft & silky. The regular usage makes hair healthy. Besides protecting your hair and scalp from going dry, it also makes them smooth and manageable.```'},\n",
       " {'role': 'assistant', 'content': 'Hair Care'}]"
      ]
     },
     "execution_count": 40,
     "metadata": {},
     "output_type": "execute_result"
    }
   ],
   "source": [
    "cot_few_shot_prompt"
   ]
  },
  {
   "cell_type": "markdown",
   "metadata": {
    "azdata_cell_guid": "f210df72-a6dd-4f87-8c3c-5915d7366319",
    "id": "usookJPxTkEd"
   },
   "source": [
    "Note that the examples remain the same while the system message changes."
   ]
  },
  {
   "cell_type": "code",
   "execution_count": 41,
   "metadata": {
    "azdata_cell_guid": "0a26469c-cf5d-4feb-8011-7a4d995f6476",
    "colab": {
     "base_uri": "https://localhost:8080/"
    },
    "id": "193APKHhTvq6",
    "language": "sql",
    "outputId": "c85b192e-94c5-4c55-89c3-213bf40b2829"
   },
   "outputs": [
    {
     "data": {
      "text/plain": [
       "464"
      ]
     },
     "execution_count": 41,
     "metadata": {},
     "output_type": "execute_result"
    }
   ],
   "source": [
    "num_tokens_from_messages(cot_few_shot_prompt)"
   ]
  },
  {
   "cell_type": "markdown",
   "metadata": {
    "azdata_cell_guid": "3bd560d9-fa13-4873-91b6-9d0f143c53f0",
    "id": "KGA93m50MTKq"
   },
   "source": [
    "We can see that token consumption per example is highest in cot_fewshot followed by fewshot and the least by zero-shot. As the business has to process a lot of products, we need to make sure the token consumption is low as openAI charges the business per token basis. Even small improvements in the token consumption while keeping the accuracies can have a huge impact."
   ]
  },
  {
   "cell_type": "markdown",
   "metadata": {
    "azdata_cell_guid": "23fbd367-3a26-4e54-a9c7-653b37087186",
    "id": "IqmO_biiNZd-"
   },
   "source": [
    "Let's check the cot-fewshot prompt and see if it's worth the token it is consuming."
   ]
  },
  {
   "cell_type": "code",
   "execution_count": 42,
   "metadata": {
    "azdata_cell_guid": "646f5eb1-d3c5-4cf8-a031-28a0c10357ec",
    "colab": {
     "base_uri": "https://localhost:8080/"
    },
    "id": "QgzKAGQYNWar",
    "language": "sql",
    "outputId": "75368e6e-d2c0-478b-9dbb-1a0e7bcc3071"
   },
   "outputs": [
    {
     "name": "stdout",
     "output_type": "stream",
     "text": [
      "Product Description: \n",
      " OxyGlow brings to you a one stop solution to your beauty and cosmetics products catering to all your needs through its wide range of beauty care products like face wash, bleach, face pack, oils, lotions, gels, conditioners, lip and eye care products and many more. So beat your beauty problems with the help of Oxy Glow’s range of beauty products at your ease by ordering them immediately! \n",
      "\n",
      "Original label: \n",
      " Skin Care \n",
      "\n",
      "Predicted label: \n",
      " Skin Care\n",
      "====================================================\n",
      "Product Description: \n",
      " Cool your body with a weekly routine of oil bath with meera herbal hairwash powder. \n",
      "\n",
      "Original label: \n",
      " Hair Care \n",
      "\n",
      "Predicted label: \n",
      " Hair Care\n",
      "====================================================\n",
      "Product Description: \n",
      " Fast-absorbing treatment for fine and thinning color-treated hair energizes the scalp and provides a healthy scalp environment to improve the appearance of thinning hair. \n",
      "\n",
      "Original label: \n",
      " Hair Care \n",
      "\n",
      "Predicted label: \n",
      " Hair Care\n",
      "====================================================\n",
      "Product Description: \n",
      " This khadi hair growth shampoo for combined hair is packed with anti hairfall and antidandruff properties of green apple, amla, bhringraj and almond oil. It is a potential natural formula for strengthening your tresses. This ayurvedic hair cleanser promotes hair growth and also makes sure that your hair fall is under control. It also acts as an ultimate anti dandruff shampoo as green apple works wonders to fix dandruff and leaves your hair completely flake free. \n",
      "\n",
      "Original label: \n",
      " Hair Care \n",
      "\n",
      "Predicted label: \n",
      " Hair Care\n",
      "====================================================\n",
      "Product Description: \n",
      " Use: Eye, Item Type: Treatment & Mask, Brand Name: HUAMIANLI, Feature: Moisturizing,Anti-Puffiness,Dark Circle, Ingredient: maquiagem, GZZZ: YGZWBZ, Country/Region of Manufacture: China, Certification: GZZZ, NET WT: 50 Pair, Model Number: Eye Patches, Certificate Number: xx, Gender: Female, Unit Type: piece, Package Weight: , Package Size: \n",
      "\n",
      "Original label: \n",
      " Skin Care \n",
      "\n",
      "Predicted label: \n",
      " Skin Care\n",
      "====================================================\n",
      "Product Description: \n",
      " IMPORTANT NOTE - Bulgarian Formula NOT UK. Bulgarian regulations require a much higher level of proof of effectiveness of product than UK. In reality this means Bulgarian products have a much higher level of active ingredients than UK products. DeBa NIGHT CREAM with vitamin C and micro capsulated vitamin A is formulated to nourish, moisturize and restore the firmness and freshness of the skin of the face and neck during the night. It is absorbed easily without leaving an excessive oily layer. With regular use the skin recovers its healthy youth appearances, in the morning it is fresh, smooth and vital. \n",
      "\n",
      "Original label: \n",
      " Skin Care \n",
      "\n",
      "Predicted label: \n",
      " Skin Care\n",
      "====================================================\n",
      "Product Description: \n",
      " Khadi Pure Gramodyog Herbal Orange Lemongrass Hair Conditioner is enriched with pure natural vitamin e oil, anti oxidants and essential oils for hair. It penetrates and seals the cuticle to fill the hollow unwanted cores of damaged lifeless and brittle hair. This moisturizing conditioner makes your hair naturally soft, silky, strong and shiny. Ingredients: Aqua, Citrus Sinensis (Orange), Aloe Vera (Ghrita-Kumari), Centella Asiatica (Mandukaparni), Glycyrrhiza Glabra (Mulethi), Trachyspermum Ammi (Ajwain ), Citrus Limon (Nimbaka), Cymbopogon Citratus(Lemongrass), Wheat Germ Oil. Applicare: After shampoo apply on entire hair length especially at the edges. Wait for a few minutes. Rinse thoroughly. Contents: 210ml Bottle. \n",
      "\n",
      "Original label: \n",
      " Hair Care \n",
      "\n",
      "Predicted label: \n",
      " Hair Care\n",
      "====================================================\n",
      "Product Description: \n",
      " Item Type: Treatment & Mask NET WT: 160g Ingredient: Angelica sinensis,pearl powder Model Number: np0052 Formulation: Cream Gender: Unisex Use: Whole Face Feature: Acne Treatment Type: Washable Mask \n",
      "\n",
      "Original label: \n",
      " Skin Care \n",
      "\n",
      "Predicted label: \n",
      " Skin Care\n",
      "====================================================\n",
      "Product Description: \n",
      " Amino Collagen The future of beauty The future of beauty is here! Amino Collagen is India’s first beauty supplement & most effective collagen source for healthy & naturally glowing skin from within. \n",
      "\n",
      "Original label: \n",
      " Skin Care \n",
      "\n",
      "Predicted label: \n",
      " Skin Care\n",
      "====================================================\n",
      "Product Description: \n",
      " Eco Lips Vegan Bee Free .15 oz \n",
      "\n",
      "Original label: \n",
      " Skin Care \n",
      "\n",
      "Predicted label: \n",
      " Skin Care\n",
      "====================================================\n",
      "Error code: 400 - {'error': {'message': \"The response was filtered due to the prompt triggering Azure OpenAI's content management policy. Please modify your prompt and retry. To learn more about our content filtering policies please read our documentation: https://go.microsoft.com/fwlink/?linkid=2198766\", 'type': None, 'param': 'prompt', 'code': 'content_filter', 'status': 400, 'innererror': {'code': 'ResponsibleAIPolicyViolation', 'content_filter_result': {'hate': {'filtered': True, 'severity': 'medium'}, 'jailbreak': {'filtered': False, 'detected': False}, 'self_harm': {'filtered': False, 'severity': 'safe'}, 'sexual': {'filtered': False, 'severity': 'safe'}, 'violence': {'filtered': False, 'severity': 'safe'}}}}}\n"
     ]
    },
    {
     "data": {
      "text/plain": [
       "0.9371069182389937"
      ]
     },
     "execution_count": 42,
     "metadata": {},
     "output_type": "execute_result"
    }
   ],
   "source": [
    "evaluate_prompt(cot_few_shot_prompt, gold_examples, user_message_template)"
   ]
  },
  {
   "cell_type": "markdown",
   "metadata": {
    "azdata_cell_guid": "670b2ad2-9f3b-4161-bb7b-353807d59f5d",
    "id": "vBh9D96BVRjb"
   },
   "source": [
    "We have done evaluations of all three pormpting techniques. Now, let's sample different examples for the few-shot and CoT-few-shot prompts and evaluate them across multiple samples."
   ]
  },
  {
   "cell_type": "code",
   "execution_count": 43,
   "metadata": {
    "azdata_cell_guid": "c31c89c9-e34e-4021-94a8-355c2f6c29a6",
    "id": "GTXUDXYy7dku",
    "language": "sql"
   },
   "outputs": [],
   "source": [
    "num_eval_runs = 5"
   ]
  },
  {
   "cell_type": "code",
   "execution_count": 44,
   "metadata": {
    "azdata_cell_guid": "912b3b3d-cce7-44bd-a2aa-c2c212032e8e",
    "id": "n6pQkocytqG_",
    "language": "sql"
   },
   "outputs": [],
   "source": [
    "few_shot_performance, cot_few_shot_performance = [], []"
   ]
  },
  {
   "cell_type": "code",
   "execution_count": 45,
   "metadata": {
    "azdata_cell_guid": "20f9396f-510d-4e0e-a518-0b5e4c663a35",
    "colab": {
     "base_uri": "https://localhost:8080/"
    },
    "id": "BdUaodX3tseE",
    "language": "sql",
    "outputId": "2b3c3307-f0bc-416f-e382-ceef641f24d6"
   },
   "outputs": [
    {
     "name": "stderr",
     "output_type": "stream",
     "text": [
      "\r  0%|          | 0/5 [00:00<?, ?it/s]"
     ]
    },
    {
     "name": "stdout",
     "output_type": "stream",
     "text": [
      "Product Description: \n",
      " OxyGlow brings to you a one stop solution to your beauty and cosmetics products catering to all your needs through its wide range of beauty care products like face wash, bleach, face pack, oils, lotions, gels, conditioners, lip and eye care products and many more. So beat your beauty problems with the help of Oxy Glow’s range of beauty products at your ease by ordering them immediately! \n",
      "\n",
      "Original label: \n",
      " Skin Care \n",
      "\n",
      "Predicted label: \n",
      " Skin Care\n",
      "====================================================\n",
      "Product Description: \n",
      " Cool your body with a weekly routine of oil bath with meera herbal hairwash powder. \n",
      "\n",
      "Original label: \n",
      " Hair Care \n",
      "\n",
      "Predicted label: \n",
      " Hair Care\n",
      "====================================================\n",
      "Product Description: \n",
      " Fast-absorbing treatment for fine and thinning color-treated hair energizes the scalp and provides a healthy scalp environment to improve the appearance of thinning hair. \n",
      "\n",
      "Original label: \n",
      " Hair Care \n",
      "\n",
      "Predicted label: \n",
      " Hair Care\n",
      "====================================================\n",
      "Product Description: \n",
      " This khadi hair growth shampoo for combined hair is packed with anti hairfall and antidandruff properties of green apple, amla, bhringraj and almond oil. It is a potential natural formula for strengthening your tresses. This ayurvedic hair cleanser promotes hair growth and also makes sure that your hair fall is under control. It also acts as an ultimate anti dandruff shampoo as green apple works wonders to fix dandruff and leaves your hair completely flake free. \n",
      "\n",
      "Original label: \n",
      " Hair Care \n",
      "\n",
      "Predicted label: \n",
      " Hair Care\n",
      "====================================================\n",
      "Product Description: \n",
      " Use: Eye, Item Type: Treatment & Mask, Brand Name: HUAMIANLI, Feature: Moisturizing,Anti-Puffiness,Dark Circle, Ingredient: maquiagem, GZZZ: YGZWBZ, Country/Region of Manufacture: China, Certification: GZZZ, NET WT: 50 Pair, Model Number: Eye Patches, Certificate Number: xx, Gender: Female, Unit Type: piece, Package Weight: , Package Size: \n",
      "\n",
      "Original label: \n",
      " Skin Care \n",
      "\n",
      "Predicted label: \n",
      " Skin Care\n",
      "====================================================\n",
      "Product Description: \n",
      " IMPORTANT NOTE - Bulgarian Formula NOT UK. Bulgarian regulations require a much higher level of proof of effectiveness of product than UK. In reality this means Bulgarian products have a much higher level of active ingredients than UK products. DeBa NIGHT CREAM with vitamin C and micro capsulated vitamin A is formulated to nourish, moisturize and restore the firmness and freshness of the skin of the face and neck during the night. It is absorbed easily without leaving an excessive oily layer. With regular use the skin recovers its healthy youth appearances, in the morning it is fresh, smooth and vital. \n",
      "\n",
      "Original label: \n",
      " Skin Care \n",
      "\n",
      "Predicted label: \n",
      " Skin Care\n",
      "====================================================\n",
      "Product Description: \n",
      " Khadi Pure Gramodyog Herbal Orange Lemongrass Hair Conditioner is enriched with pure natural vitamin e oil, anti oxidants and essential oils for hair. It penetrates and seals the cuticle to fill the hollow unwanted cores of damaged lifeless and brittle hair. This moisturizing conditioner makes your hair naturally soft, silky, strong and shiny. Ingredients: Aqua, Citrus Sinensis (Orange), Aloe Vera (Ghrita-Kumari), Centella Asiatica (Mandukaparni), Glycyrrhiza Glabra (Mulethi), Trachyspermum Ammi (Ajwain ), Citrus Limon (Nimbaka), Cymbopogon Citratus(Lemongrass), Wheat Germ Oil. Applicare: After shampoo apply on entire hair length especially at the edges. Wait for a few minutes. Rinse thoroughly. Contents: 210ml Bottle. \n",
      "\n",
      "Original label: \n",
      " Hair Care \n",
      "\n",
      "Predicted label: \n",
      " Hair Care\n",
      "====================================================\n",
      "Product Description: \n",
      " Item Type: Treatment & Mask NET WT: 160g Ingredient: Angelica sinensis,pearl powder Model Number: np0052 Formulation: Cream Gender: Unisex Use: Whole Face Feature: Acne Treatment Type: Washable Mask \n",
      "\n",
      "Original label: \n",
      " Skin Care \n",
      "\n",
      "Predicted label: \n",
      " Skin Care\n",
      "====================================================\n",
      "Product Description: \n",
      " Amino Collagen The future of beauty The future of beauty is here! Amino Collagen is India’s first beauty supplement & most effective collagen source for healthy & naturally glowing skin from within. \n",
      "\n",
      "Original label: \n",
      " Skin Care \n",
      "\n",
      "Predicted label: \n",
      " Skin Care\n",
      "====================================================\n",
      "Product Description: \n",
      " Eco Lips Vegan Bee Free .15 oz \n",
      "\n",
      "Original label: \n",
      " Skin Care \n",
      "\n",
      "Predicted label: \n",
      " Skin Care\n",
      "====================================================\n",
      "Error code: 400 - {'error': {'message': \"The response was filtered due to the prompt triggering Azure OpenAI's content management policy. Please modify your prompt and retry. To learn more about our content filtering policies please read our documentation: https://go.microsoft.com/fwlink/?linkid=2198766\", 'type': None, 'param': 'prompt', 'code': 'content_filter', 'status': 400, 'innererror': {'code': 'ResponsibleAIPolicyViolation', 'content_filter_result': {'hate': {'filtered': True, 'severity': 'medium'}, 'jailbreak': {'filtered': False, 'detected': False}, 'self_harm': {'filtered': False, 'severity': 'safe'}, 'sexual': {'filtered': False, 'severity': 'safe'}, 'violence': {'filtered': False, 'severity': 'safe'}}}}}\n",
      "Product Description: \n",
      " OxyGlow brings to you a one stop solution to your beauty and cosmetics products catering to all your needs through its wide range of beauty care products like face wash, bleach, face pack, oils, lotions, gels, conditioners, lip and eye care products and many more. So beat your beauty problems with the help of Oxy Glow’s range of beauty products at your ease by ordering them immediately! \n",
      "\n",
      "Original label: \n",
      " Skin Care \n",
      "\n",
      "Predicted label: \n",
      " Skin Care\n",
      "====================================================\n",
      "Product Description: \n",
      " Cool your body with a weekly routine of oil bath with meera herbal hairwash powder. \n",
      "\n",
      "Original label: \n",
      " Hair Care \n",
      "\n",
      "Predicted label: \n",
      " Hair Care\n",
      "====================================================\n",
      "Product Description: \n",
      " Fast-absorbing treatment for fine and thinning color-treated hair energizes the scalp and provides a healthy scalp environment to improve the appearance of thinning hair. \n",
      "\n",
      "Original label: \n",
      " Hair Care \n",
      "\n",
      "Predicted label: \n",
      " Hair Care\n",
      "====================================================\n",
      "Product Description: \n",
      " This khadi hair growth shampoo for combined hair is packed with anti hairfall and antidandruff properties of green apple, amla, bhringraj and almond oil. It is a potential natural formula for strengthening your tresses. This ayurvedic hair cleanser promotes hair growth and also makes sure that your hair fall is under control. It also acts as an ultimate anti dandruff shampoo as green apple works wonders to fix dandruff and leaves your hair completely flake free. \n",
      "\n",
      "Original label: \n",
      " Hair Care \n",
      "\n",
      "Predicted label: \n",
      " Hair Care\n",
      "====================================================\n",
      "Product Description: \n",
      " Use: Eye, Item Type: Treatment & Mask, Brand Name: HUAMIANLI, Feature: Moisturizing,Anti-Puffiness,Dark Circle, Ingredient: maquiagem, GZZZ: YGZWBZ, Country/Region of Manufacture: China, Certification: GZZZ, NET WT: 50 Pair, Model Number: Eye Patches, Certificate Number: xx, Gender: Female, Unit Type: piece, Package Weight: , Package Size: \n",
      "\n",
      "Original label: \n",
      " Skin Care \n",
      "\n",
      "Predicted label: \n",
      " Skin Care\n",
      "====================================================\n",
      "Product Description: \n",
      " IMPORTANT NOTE - Bulgarian Formula NOT UK. Bulgarian regulations require a much higher level of proof of effectiveness of product than UK. In reality this means Bulgarian products have a much higher level of active ingredients than UK products. DeBa NIGHT CREAM with vitamin C and micro capsulated vitamin A is formulated to nourish, moisturize and restore the firmness and freshness of the skin of the face and neck during the night. It is absorbed easily without leaving an excessive oily layer. With regular use the skin recovers its healthy youth appearances, in the morning it is fresh, smooth and vital. \n",
      "\n",
      "Original label: \n",
      " Skin Care \n",
      "\n",
      "Predicted label: \n",
      " Skin Care\n",
      "====================================================\n",
      "Product Description: \n",
      " Khadi Pure Gramodyog Herbal Orange Lemongrass Hair Conditioner is enriched with pure natural vitamin e oil, anti oxidants and essential oils for hair. It penetrates and seals the cuticle to fill the hollow unwanted cores of damaged lifeless and brittle hair. This moisturizing conditioner makes your hair naturally soft, silky, strong and shiny. Ingredients: Aqua, Citrus Sinensis (Orange), Aloe Vera (Ghrita-Kumari), Centella Asiatica (Mandukaparni), Glycyrrhiza Glabra (Mulethi), Trachyspermum Ammi (Ajwain ), Citrus Limon (Nimbaka), Cymbopogon Citratus(Lemongrass), Wheat Germ Oil. Applicare: After shampoo apply on entire hair length especially at the edges. Wait for a few minutes. Rinse thoroughly. Contents: 210ml Bottle. \n",
      "\n",
      "Original label: \n",
      " Hair Care \n",
      "\n",
      "Predicted label: \n",
      " Hair Care\n",
      "====================================================\n",
      "Product Description: \n",
      " Item Type: Treatment & Mask NET WT: 160g Ingredient: Angelica sinensis,pearl powder Model Number: np0052 Formulation: Cream Gender: Unisex Use: Whole Face Feature: Acne Treatment Type: Washable Mask \n",
      "\n",
      "Original label: \n",
      " Skin Care \n",
      "\n",
      "Predicted label: \n",
      " Skin Care\n",
      "====================================================\n",
      "Product Description: \n",
      " Amino Collagen The future of beauty The future of beauty is here! Amino Collagen is India’s first beauty supplement & most effective collagen source for healthy & naturally glowing skin from within. \n",
      "\n",
      "Original label: \n",
      " Skin Care \n",
      "\n",
      "Predicted label: \n",
      " Skin Care\n",
      "====================================================\n",
      "Product Description: \n",
      " Eco Lips Vegan Bee Free .15 oz \n",
      "\n",
      "Original label: \n",
      " Skin Care \n",
      "\n",
      "Predicted label: \n",
      " Skin Care\n",
      "====================================================\n",
      "Error code: 400 - {'error': {'message': \"The response was filtered due to the prompt triggering Azure OpenAI's content management policy. Please modify your prompt and retry. To learn more about our content filtering policies please read our documentation: https://go.microsoft.com/fwlink/?linkid=2198766\", 'type': None, 'param': 'prompt', 'code': 'content_filter', 'status': 400, 'innererror': {'code': 'ResponsibleAIPolicyViolation', 'content_filter_result': {'hate': {'filtered': True, 'severity': 'medium'}, 'jailbreak': {'filtered': False, 'detected': False}, 'self_harm': {'filtered': False, 'severity': 'safe'}, 'sexual': {'filtered': False, 'severity': 'safe'}, 'violence': {'filtered': False, 'severity': 'safe'}}}}}\n"
     ]
    },
    {
     "name": "stderr",
     "output_type": "stream",
     "text": [
      "\r 20%|██        | 1/5 [01:51<07:26, 111.70s/it]"
     ]
    },
    {
     "name": "stdout",
     "output_type": "stream",
     "text": [
      "Product Description: \n",
      " OxyGlow brings to you a one stop solution to your beauty and cosmetics products catering to all your needs through its wide range of beauty care products like face wash, bleach, face pack, oils, lotions, gels, conditioners, lip and eye care products and many more. So beat your beauty problems with the help of Oxy Glow’s range of beauty products at your ease by ordering them immediately! \n",
      "\n",
      "Original label: \n",
      " Skin Care \n",
      "\n",
      "Predicted label: \n",
      " Skin Care\n",
      "====================================================\n",
      "Product Description: \n",
      " Cool your body with a weekly routine of oil bath with meera herbal hairwash powder. \n",
      "\n",
      "Original label: \n",
      " Hair Care \n",
      "\n",
      "Predicted label: \n",
      " Hair Care\n",
      "====================================================\n",
      "Product Description: \n",
      " Fast-absorbing treatment for fine and thinning color-treated hair energizes the scalp and provides a healthy scalp environment to improve the appearance of thinning hair. \n",
      "\n",
      "Original label: \n",
      " Hair Care \n",
      "\n",
      "Predicted label: \n",
      " Hair Care\n",
      "====================================================\n",
      "Product Description: \n",
      " This khadi hair growth shampoo for combined hair is packed with anti hairfall and antidandruff properties of green apple, amla, bhringraj and almond oil. It is a potential natural formula for strengthening your tresses. This ayurvedic hair cleanser promotes hair growth and also makes sure that your hair fall is under control. It also acts as an ultimate anti dandruff shampoo as green apple works wonders to fix dandruff and leaves your hair completely flake free. \n",
      "\n",
      "Original label: \n",
      " Hair Care \n",
      "\n",
      "Predicted label: \n",
      " Hair Care\n",
      "====================================================\n",
      "Product Description: \n",
      " Use: Eye, Item Type: Treatment & Mask, Brand Name: HUAMIANLI, Feature: Moisturizing,Anti-Puffiness,Dark Circle, Ingredient: maquiagem, GZZZ: YGZWBZ, Country/Region of Manufacture: China, Certification: GZZZ, NET WT: 50 Pair, Model Number: Eye Patches, Certificate Number: xx, Gender: Female, Unit Type: piece, Package Weight: , Package Size: \n",
      "\n",
      "Original label: \n",
      " Skin Care \n",
      "\n",
      "Predicted label: \n",
      " Skin Care\n",
      "====================================================\n",
      "Product Description: \n",
      " IMPORTANT NOTE - Bulgarian Formula NOT UK. Bulgarian regulations require a much higher level of proof of effectiveness of product than UK. In reality this means Bulgarian products have a much higher level of active ingredients than UK products. DeBa NIGHT CREAM with vitamin C and micro capsulated vitamin A is formulated to nourish, moisturize and restore the firmness and freshness of the skin of the face and neck during the night. It is absorbed easily without leaving an excessive oily layer. With regular use the skin recovers its healthy youth appearances, in the morning it is fresh, smooth and vital. \n",
      "\n",
      "Original label: \n",
      " Skin Care \n",
      "\n",
      "Predicted label: \n",
      " Skin Care\n",
      "====================================================\n",
      "Product Description: \n",
      " Khadi Pure Gramodyog Herbal Orange Lemongrass Hair Conditioner is enriched with pure natural vitamin e oil, anti oxidants and essential oils for hair. It penetrates and seals the cuticle to fill the hollow unwanted cores of damaged lifeless and brittle hair. This moisturizing conditioner makes your hair naturally soft, silky, strong and shiny. Ingredients: Aqua, Citrus Sinensis (Orange), Aloe Vera (Ghrita-Kumari), Centella Asiatica (Mandukaparni), Glycyrrhiza Glabra (Mulethi), Trachyspermum Ammi (Ajwain ), Citrus Limon (Nimbaka), Cymbopogon Citratus(Lemongrass), Wheat Germ Oil. Applicare: After shampoo apply on entire hair length especially at the edges. Wait for a few minutes. Rinse thoroughly. Contents: 210ml Bottle. \n",
      "\n",
      "Original label: \n",
      " Hair Care \n",
      "\n",
      "Predicted label: \n",
      " Hair Care\n",
      "====================================================\n",
      "Product Description: \n",
      " Item Type: Treatment & Mask NET WT: 160g Ingredient: Angelica sinensis,pearl powder Model Number: np0052 Formulation: Cream Gender: Unisex Use: Whole Face Feature: Acne Treatment Type: Washable Mask \n",
      "\n",
      "Original label: \n",
      " Skin Care \n",
      "\n",
      "Predicted label: \n",
      " Skin Care\n",
      "====================================================\n",
      "Product Description: \n",
      " Amino Collagen The future of beauty The future of beauty is here! Amino Collagen is India’s first beauty supplement & most effective collagen source for healthy & naturally glowing skin from within. \n",
      "\n",
      "Original label: \n",
      " Skin Care \n",
      "\n",
      "Predicted label: \n",
      " Skin Care\n",
      "====================================================\n",
      "Product Description: \n",
      " Eco Lips Vegan Bee Free .15 oz \n",
      "\n",
      "Original label: \n",
      " Skin Care \n",
      "\n",
      "Predicted label: \n",
      " Skin Care\n",
      "====================================================\n",
      "Error code: 400 - {'error': {'message': \"The response was filtered due to the prompt triggering Azure OpenAI's content management policy. Please modify your prompt and retry. To learn more about our content filtering policies please read our documentation: https://go.microsoft.com/fwlink/?linkid=2198766\", 'type': None, 'param': 'prompt', 'code': 'content_filter', 'status': 400, 'innererror': {'code': 'ResponsibleAIPolicyViolation', 'content_filter_result': {'hate': {'filtered': True, 'severity': 'medium'}, 'jailbreak': {'filtered': False, 'detected': False}, 'self_harm': {'filtered': False, 'severity': 'safe'}, 'sexual': {'filtered': False, 'severity': 'safe'}, 'violence': {'filtered': False, 'severity': 'safe'}}}}}\n",
      "Product Description: \n",
      " OxyGlow brings to you a one stop solution to your beauty and cosmetics products catering to all your needs through its wide range of beauty care products like face wash, bleach, face pack, oils, lotions, gels, conditioners, lip and eye care products and many more. So beat your beauty problems with the help of Oxy Glow’s range of beauty products at your ease by ordering them immediately! \n",
      "\n",
      "Original label: \n",
      " Skin Care \n",
      "\n",
      "Predicted label: \n",
      " Skin Care\n",
      "====================================================\n",
      "Product Description: \n",
      " Cool your body with a weekly routine of oil bath with meera herbal hairwash powder. \n",
      "\n",
      "Original label: \n",
      " Hair Care \n",
      "\n",
      "Predicted label: \n",
      " Hair Care\n",
      "====================================================\n",
      "Product Description: \n",
      " Fast-absorbing treatment for fine and thinning color-treated hair energizes the scalp and provides a healthy scalp environment to improve the appearance of thinning hair. \n",
      "\n",
      "Original label: \n",
      " Hair Care \n",
      "\n",
      "Predicted label: \n",
      " Hair Care\n",
      "====================================================\n",
      "Product Description: \n",
      " This khadi hair growth shampoo for combined hair is packed with anti hairfall and antidandruff properties of green apple, amla, bhringraj and almond oil. It is a potential natural formula for strengthening your tresses. This ayurvedic hair cleanser promotes hair growth and also makes sure that your hair fall is under control. It also acts as an ultimate anti dandruff shampoo as green apple works wonders to fix dandruff and leaves your hair completely flake free. \n",
      "\n",
      "Original label: \n",
      " Hair Care \n",
      "\n",
      "Predicted label: \n",
      " Hair Care\n",
      "====================================================\n",
      "Product Description: \n",
      " Use: Eye, Item Type: Treatment & Mask, Brand Name: HUAMIANLI, Feature: Moisturizing,Anti-Puffiness,Dark Circle, Ingredient: maquiagem, GZZZ: YGZWBZ, Country/Region of Manufacture: China, Certification: GZZZ, NET WT: 50 Pair, Model Number: Eye Patches, Certificate Number: xx, Gender: Female, Unit Type: piece, Package Weight: , Package Size: \n",
      "\n",
      "Original label: \n",
      " Skin Care \n",
      "\n",
      "Predicted label: \n",
      " Skin Care\n",
      "====================================================\n",
      "Product Description: \n",
      " IMPORTANT NOTE - Bulgarian Formula NOT UK. Bulgarian regulations require a much higher level of proof of effectiveness of product than UK. In reality this means Bulgarian products have a much higher level of active ingredients than UK products. DeBa NIGHT CREAM with vitamin C and micro capsulated vitamin A is formulated to nourish, moisturize and restore the firmness and freshness of the skin of the face and neck during the night. It is absorbed easily without leaving an excessive oily layer. With regular use the skin recovers its healthy youth appearances, in the morning it is fresh, smooth and vital. \n",
      "\n",
      "Original label: \n",
      " Skin Care \n",
      "\n",
      "Predicted label: \n",
      " Skin Care\n",
      "====================================================\n",
      "Product Description: \n",
      " Khadi Pure Gramodyog Herbal Orange Lemongrass Hair Conditioner is enriched with pure natural vitamin e oil, anti oxidants and essential oils for hair. It penetrates and seals the cuticle to fill the hollow unwanted cores of damaged lifeless and brittle hair. This moisturizing conditioner makes your hair naturally soft, silky, strong and shiny. Ingredients: Aqua, Citrus Sinensis (Orange), Aloe Vera (Ghrita-Kumari), Centella Asiatica (Mandukaparni), Glycyrrhiza Glabra (Mulethi), Trachyspermum Ammi (Ajwain ), Citrus Limon (Nimbaka), Cymbopogon Citratus(Lemongrass), Wheat Germ Oil. Applicare: After shampoo apply on entire hair length especially at the edges. Wait for a few minutes. Rinse thoroughly. Contents: 210ml Bottle. \n",
      "\n",
      "Original label: \n",
      " Hair Care \n",
      "\n",
      "Predicted label: \n",
      " Hair Care\n",
      "====================================================\n",
      "Product Description: \n",
      " Item Type: Treatment & Mask NET WT: 160g Ingredient: Angelica sinensis,pearl powder Model Number: np0052 Formulation: Cream Gender: Unisex Use: Whole Face Feature: Acne Treatment Type: Washable Mask \n",
      "\n",
      "Original label: \n",
      " Skin Care \n",
      "\n",
      "Predicted label: \n",
      " Skin Care\n",
      "====================================================\n",
      "Product Description: \n",
      " Amino Collagen The future of beauty The future of beauty is here! Amino Collagen is India’s first beauty supplement & most effective collagen source for healthy & naturally glowing skin from within. \n",
      "\n",
      "Original label: \n",
      " Skin Care \n",
      "\n",
      "Predicted label: \n",
      " Skin Care\n",
      "====================================================\n",
      "Product Description: \n",
      " Eco Lips Vegan Bee Free .15 oz \n",
      "\n",
      "Original label: \n",
      " Skin Care \n",
      "\n",
      "Predicted label: \n",
      " Skin Care\n",
      "====================================================\n",
      "Error code: 400 - {'error': {'message': \"The response was filtered due to the prompt triggering Azure OpenAI's content management policy. Please modify your prompt and retry. To learn more about our content filtering policies please read our documentation: https://go.microsoft.com/fwlink/?linkid=2198766\", 'type': None, 'param': 'prompt', 'code': 'content_filter', 'status': 400, 'innererror': {'code': 'ResponsibleAIPolicyViolation', 'content_filter_result': {'hate': {'filtered': True, 'severity': 'medium'}, 'jailbreak': {'filtered': False, 'detected': False}, 'self_harm': {'filtered': False, 'severity': 'safe'}, 'sexual': {'filtered': False, 'severity': 'safe'}, 'violence': {'filtered': False, 'severity': 'safe'}}}}}\n"
     ]
    },
    {
     "name": "stderr",
     "output_type": "stream",
     "text": [
      "\r 40%|████      | 2/5 [04:05<06:13, 124.66s/it]"
     ]
    },
    {
     "name": "stdout",
     "output_type": "stream",
     "text": [
      "Product Description: \n",
      " OxyGlow brings to you a one stop solution to your beauty and cosmetics products catering to all your needs through its wide range of beauty care products like face wash, bleach, face pack, oils, lotions, gels, conditioners, lip and eye care products and many more. So beat your beauty problems with the help of Oxy Glow’s range of beauty products at your ease by ordering them immediately! \n",
      "\n",
      "Original label: \n",
      " Skin Care \n",
      "\n",
      "Predicted label: \n",
      " Skin Care\n",
      "====================================================\n",
      "Product Description: \n",
      " Cool your body with a weekly routine of oil bath with meera herbal hairwash powder. \n",
      "\n",
      "Original label: \n",
      " Hair Care \n",
      "\n",
      "Predicted label: \n",
      " Hair Care\n",
      "====================================================\n",
      "Product Description: \n",
      " Fast-absorbing treatment for fine and thinning color-treated hair energizes the scalp and provides a healthy scalp environment to improve the appearance of thinning hair. \n",
      "\n",
      "Original label: \n",
      " Hair Care \n",
      "\n",
      "Predicted label: \n",
      " Hair Care\n",
      "====================================================\n",
      "Product Description: \n",
      " This khadi hair growth shampoo for combined hair is packed with anti hairfall and antidandruff properties of green apple, amla, bhringraj and almond oil. It is a potential natural formula for strengthening your tresses. This ayurvedic hair cleanser promotes hair growth and also makes sure that your hair fall is under control. It also acts as an ultimate anti dandruff shampoo as green apple works wonders to fix dandruff and leaves your hair completely flake free. \n",
      "\n",
      "Original label: \n",
      " Hair Care \n",
      "\n",
      "Predicted label: \n",
      " Hair Care\n",
      "====================================================\n",
      "Product Description: \n",
      " Use: Eye, Item Type: Treatment & Mask, Brand Name: HUAMIANLI, Feature: Moisturizing,Anti-Puffiness,Dark Circle, Ingredient: maquiagem, GZZZ: YGZWBZ, Country/Region of Manufacture: China, Certification: GZZZ, NET WT: 50 Pair, Model Number: Eye Patches, Certificate Number: xx, Gender: Female, Unit Type: piece, Package Weight: , Package Size: \n",
      "\n",
      "Original label: \n",
      " Skin Care \n",
      "\n",
      "Predicted label: \n",
      " Skin Care\n",
      "====================================================\n",
      "Product Description: \n",
      " IMPORTANT NOTE - Bulgarian Formula NOT UK. Bulgarian regulations require a much higher level of proof of effectiveness of product than UK. In reality this means Bulgarian products have a much higher level of active ingredients than UK products. DeBa NIGHT CREAM with vitamin C and micro capsulated vitamin A is formulated to nourish, moisturize and restore the firmness and freshness of the skin of the face and neck during the night. It is absorbed easily without leaving an excessive oily layer. With regular use the skin recovers its healthy youth appearances, in the morning it is fresh, smooth and vital. \n",
      "\n",
      "Original label: \n",
      " Skin Care \n",
      "\n",
      "Predicted label: \n",
      " Skin Care\n",
      "====================================================\n",
      "Product Description: \n",
      " Khadi Pure Gramodyog Herbal Orange Lemongrass Hair Conditioner is enriched with pure natural vitamin e oil, anti oxidants and essential oils for hair. It penetrates and seals the cuticle to fill the hollow unwanted cores of damaged lifeless and brittle hair. This moisturizing conditioner makes your hair naturally soft, silky, strong and shiny. Ingredients: Aqua, Citrus Sinensis (Orange), Aloe Vera (Ghrita-Kumari), Centella Asiatica (Mandukaparni), Glycyrrhiza Glabra (Mulethi), Trachyspermum Ammi (Ajwain ), Citrus Limon (Nimbaka), Cymbopogon Citratus(Lemongrass), Wheat Germ Oil. Applicare: After shampoo apply on entire hair length especially at the edges. Wait for a few minutes. Rinse thoroughly. Contents: 210ml Bottle. \n",
      "\n",
      "Original label: \n",
      " Hair Care \n",
      "\n",
      "Predicted label: \n",
      " Hair Care\n",
      "====================================================\n",
      "Product Description: \n",
      " Item Type: Treatment & Mask NET WT: 160g Ingredient: Angelica sinensis,pearl powder Model Number: np0052 Formulation: Cream Gender: Unisex Use: Whole Face Feature: Acne Treatment Type: Washable Mask \n",
      "\n",
      "Original label: \n",
      " Skin Care \n",
      "\n",
      "Predicted label: \n",
      " Skin Care\n",
      "====================================================\n",
      "Product Description: \n",
      " Amino Collagen The future of beauty The future of beauty is here! Amino Collagen is India’s first beauty supplement & most effective collagen source for healthy & naturally glowing skin from within. \n",
      "\n",
      "Original label: \n",
      " Skin Care \n",
      "\n",
      "Predicted label: \n",
      " Skin Care\n",
      "====================================================\n",
      "Product Description: \n",
      " Eco Lips Vegan Bee Free .15 oz \n",
      "\n",
      "Original label: \n",
      " Skin Care \n",
      "\n",
      "Predicted label: \n",
      " Skin Care\n",
      "====================================================\n",
      "Error code: 400 - {'error': {'message': \"The response was filtered due to the prompt triggering Azure OpenAI's content management policy. Please modify your prompt and retry. To learn more about our content filtering policies please read our documentation: https://go.microsoft.com/fwlink/?linkid=2198766\", 'type': None, 'param': 'prompt', 'code': 'content_filter', 'status': 400, 'innererror': {'code': 'ResponsibleAIPolicyViolation', 'content_filter_result': {'hate': {'filtered': True, 'severity': 'medium'}, 'jailbreak': {'filtered': False, 'detected': False}, 'self_harm': {'filtered': False, 'severity': 'safe'}, 'sexual': {'filtered': False, 'severity': 'safe'}, 'violence': {'filtered': False, 'severity': 'safe'}}}}}\n",
      "Product Description: \n",
      " OxyGlow brings to you a one stop solution to your beauty and cosmetics products catering to all your needs through its wide range of beauty care products like face wash, bleach, face pack, oils, lotions, gels, conditioners, lip and eye care products and many more. So beat your beauty problems with the help of Oxy Glow’s range of beauty products at your ease by ordering them immediately! \n",
      "\n",
      "Original label: \n",
      " Skin Care \n",
      "\n",
      "Predicted label: \n",
      " Skin Care\n",
      "====================================================\n",
      "Product Description: \n",
      " Cool your body with a weekly routine of oil bath with meera herbal hairwash powder. \n",
      "\n",
      "Original label: \n",
      " Hair Care \n",
      "\n",
      "Predicted label: \n",
      " Hair Care\n",
      "====================================================\n",
      "Product Description: \n",
      " Fast-absorbing treatment for fine and thinning color-treated hair energizes the scalp and provides a healthy scalp environment to improve the appearance of thinning hair. \n",
      "\n",
      "Original label: \n",
      " Hair Care \n",
      "\n",
      "Predicted label: \n",
      " Hair Care\n",
      "====================================================\n",
      "Product Description: \n",
      " This khadi hair growth shampoo for combined hair is packed with anti hairfall and antidandruff properties of green apple, amla, bhringraj and almond oil. It is a potential natural formula for strengthening your tresses. This ayurvedic hair cleanser promotes hair growth and also makes sure that your hair fall is under control. It also acts as an ultimate anti dandruff shampoo as green apple works wonders to fix dandruff and leaves your hair completely flake free. \n",
      "\n",
      "Original label: \n",
      " Hair Care \n",
      "\n",
      "Predicted label: \n",
      " Hair Care\n",
      "====================================================\n",
      "Product Description: \n",
      " Use: Eye, Item Type: Treatment & Mask, Brand Name: HUAMIANLI, Feature: Moisturizing,Anti-Puffiness,Dark Circle, Ingredient: maquiagem, GZZZ: YGZWBZ, Country/Region of Manufacture: China, Certification: GZZZ, NET WT: 50 Pair, Model Number: Eye Patches, Certificate Number: xx, Gender: Female, Unit Type: piece, Package Weight: , Package Size: \n",
      "\n",
      "Original label: \n",
      " Skin Care \n",
      "\n",
      "Predicted label: \n",
      " Skin Care\n",
      "====================================================\n",
      "Product Description: \n",
      " IMPORTANT NOTE - Bulgarian Formula NOT UK. Bulgarian regulations require a much higher level of proof of effectiveness of product than UK. In reality this means Bulgarian products have a much higher level of active ingredients than UK products. DeBa NIGHT CREAM with vitamin C and micro capsulated vitamin A is formulated to nourish, moisturize and restore the firmness and freshness of the skin of the face and neck during the night. It is absorbed easily without leaving an excessive oily layer. With regular use the skin recovers its healthy youth appearances, in the morning it is fresh, smooth and vital. \n",
      "\n",
      "Original label: \n",
      " Skin Care \n",
      "\n",
      "Predicted label: \n",
      " Skin Care\n",
      "====================================================\n",
      "Product Description: \n",
      " Khadi Pure Gramodyog Herbal Orange Lemongrass Hair Conditioner is enriched with pure natural vitamin e oil, anti oxidants and essential oils for hair. It penetrates and seals the cuticle to fill the hollow unwanted cores of damaged lifeless and brittle hair. This moisturizing conditioner makes your hair naturally soft, silky, strong and shiny. Ingredients: Aqua, Citrus Sinensis (Orange), Aloe Vera (Ghrita-Kumari), Centella Asiatica (Mandukaparni), Glycyrrhiza Glabra (Mulethi), Trachyspermum Ammi (Ajwain ), Citrus Limon (Nimbaka), Cymbopogon Citratus(Lemongrass), Wheat Germ Oil. Applicare: After shampoo apply on entire hair length especially at the edges. Wait for a few minutes. Rinse thoroughly. Contents: 210ml Bottle. \n",
      "\n",
      "Original label: \n",
      " Hair Care \n",
      "\n",
      "Predicted label: \n",
      " Hair Care\n",
      "====================================================\n",
      "Product Description: \n",
      " Item Type: Treatment & Mask NET WT: 160g Ingredient: Angelica sinensis,pearl powder Model Number: np0052 Formulation: Cream Gender: Unisex Use: Whole Face Feature: Acne Treatment Type: Washable Mask \n",
      "\n",
      "Original label: \n",
      " Skin Care \n",
      "\n",
      "Predicted label: \n",
      " Skin Care\n",
      "====================================================\n",
      "Product Description: \n",
      " Amino Collagen The future of beauty The future of beauty is here! Amino Collagen is India’s first beauty supplement & most effective collagen source for healthy & naturally glowing skin from within. \n",
      "\n",
      "Original label: \n",
      " Skin Care \n",
      "\n",
      "Predicted label: \n",
      " Skin Care\n",
      "====================================================\n",
      "Product Description: \n",
      " Eco Lips Vegan Bee Free .15 oz \n",
      "\n",
      "Original label: \n",
      " Skin Care \n",
      "\n",
      "Predicted label: \n",
      " Skin Care\n",
      "====================================================\n",
      "Error code: 400 - {'error': {'message': \"The response was filtered due to the prompt triggering Azure OpenAI's content management policy. Please modify your prompt and retry. To learn more about our content filtering policies please read our documentation: https://go.microsoft.com/fwlink/?linkid=2198766\", 'type': None, 'param': 'prompt', 'code': 'content_filter', 'status': 400, 'innererror': {'code': 'ResponsibleAIPolicyViolation', 'content_filter_result': {'hate': {'filtered': True, 'severity': 'medium'}, 'jailbreak': {'filtered': False, 'detected': False}, 'self_harm': {'filtered': False, 'severity': 'safe'}, 'sexual': {'filtered': False, 'severity': 'safe'}, 'violence': {'filtered': False, 'severity': 'safe'}}}}}\n"
     ]
    },
    {
     "name": "stderr",
     "output_type": "stream",
     "text": [
      "\r 60%|██████    | 3/5 [05:58<03:58, 119.26s/it]"
     ]
    },
    {
     "name": "stdout",
     "output_type": "stream",
     "text": [
      "Product Description: \n",
      " OxyGlow brings to you a one stop solution to your beauty and cosmetics products catering to all your needs through its wide range of beauty care products like face wash, bleach, face pack, oils, lotions, gels, conditioners, lip and eye care products and many more. So beat your beauty problems with the help of Oxy Glow’s range of beauty products at your ease by ordering them immediately! \n",
      "\n",
      "Original label: \n",
      " Skin Care \n",
      "\n",
      "Predicted label: \n",
      " Skin Care\n",
      "====================================================\n",
      "Product Description: \n",
      " Cool your body with a weekly routine of oil bath with meera herbal hairwash powder. \n",
      "\n",
      "Original label: \n",
      " Hair Care \n",
      "\n",
      "Predicted label: \n",
      " Hair Care\n",
      "====================================================\n",
      "Product Description: \n",
      " Fast-absorbing treatment for fine and thinning color-treated hair energizes the scalp and provides a healthy scalp environment to improve the appearance of thinning hair. \n",
      "\n",
      "Original label: \n",
      " Hair Care \n",
      "\n",
      "Predicted label: \n",
      " Hair Care\n",
      "====================================================\n",
      "Product Description: \n",
      " This khadi hair growth shampoo for combined hair is packed with anti hairfall and antidandruff properties of green apple, amla, bhringraj and almond oil. It is a potential natural formula for strengthening your tresses. This ayurvedic hair cleanser promotes hair growth and also makes sure that your hair fall is under control. It also acts as an ultimate anti dandruff shampoo as green apple works wonders to fix dandruff and leaves your hair completely flake free. \n",
      "\n",
      "Original label: \n",
      " Hair Care \n",
      "\n",
      "Predicted label: \n",
      " Hair Care\n",
      "====================================================\n",
      "Product Description: \n",
      " Use: Eye, Item Type: Treatment & Mask, Brand Name: HUAMIANLI, Feature: Moisturizing,Anti-Puffiness,Dark Circle, Ingredient: maquiagem, GZZZ: YGZWBZ, Country/Region of Manufacture: China, Certification: GZZZ, NET WT: 50 Pair, Model Number: Eye Patches, Certificate Number: xx, Gender: Female, Unit Type: piece, Package Weight: , Package Size: \n",
      "\n",
      "Original label: \n",
      " Skin Care \n",
      "\n",
      "Predicted label: \n",
      " Skin Care\n",
      "====================================================\n",
      "Product Description: \n",
      " IMPORTANT NOTE - Bulgarian Formula NOT UK. Bulgarian regulations require a much higher level of proof of effectiveness of product than UK. In reality this means Bulgarian products have a much higher level of active ingredients than UK products. DeBa NIGHT CREAM with vitamin C and micro capsulated vitamin A is formulated to nourish, moisturize and restore the firmness and freshness of the skin of the face and neck during the night. It is absorbed easily without leaving an excessive oily layer. With regular use the skin recovers its healthy youth appearances, in the morning it is fresh, smooth and vital. \n",
      "\n",
      "Original label: \n",
      " Skin Care \n",
      "\n",
      "Predicted label: \n",
      " Skin Care\n",
      "====================================================\n",
      "Product Description: \n",
      " Khadi Pure Gramodyog Herbal Orange Lemongrass Hair Conditioner is enriched with pure natural vitamin e oil, anti oxidants and essential oils for hair. It penetrates and seals the cuticle to fill the hollow unwanted cores of damaged lifeless and brittle hair. This moisturizing conditioner makes your hair naturally soft, silky, strong and shiny. Ingredients: Aqua, Citrus Sinensis (Orange), Aloe Vera (Ghrita-Kumari), Centella Asiatica (Mandukaparni), Glycyrrhiza Glabra (Mulethi), Trachyspermum Ammi (Ajwain ), Citrus Limon (Nimbaka), Cymbopogon Citratus(Lemongrass), Wheat Germ Oil. Applicare: After shampoo apply on entire hair length especially at the edges. Wait for a few minutes. Rinse thoroughly. Contents: 210ml Bottle. \n",
      "\n",
      "Original label: \n",
      " Hair Care \n",
      "\n",
      "Predicted label: \n",
      " Hair Care\n",
      "====================================================\n",
      "Product Description: \n",
      " Item Type: Treatment & Mask NET WT: 160g Ingredient: Angelica sinensis,pearl powder Model Number: np0052 Formulation: Cream Gender: Unisex Use: Whole Face Feature: Acne Treatment Type: Washable Mask \n",
      "\n",
      "Original label: \n",
      " Skin Care \n",
      "\n",
      "Predicted label: \n",
      " Skin Care\n",
      "====================================================\n",
      "Product Description: \n",
      " Amino Collagen The future of beauty The future of beauty is here! Amino Collagen is India’s first beauty supplement & most effective collagen source for healthy & naturally glowing skin from within. \n",
      "\n",
      "Original label: \n",
      " Skin Care \n",
      "\n",
      "Predicted label: \n",
      " Skin Care\n",
      "====================================================\n",
      "Product Description: \n",
      " Eco Lips Vegan Bee Free .15 oz \n",
      "\n",
      "Original label: \n",
      " Skin Care \n",
      "\n",
      "Predicted label: \n",
      " Skin Care\n",
      "====================================================\n",
      "Error code: 400 - {'error': {'message': \"The response was filtered due to the prompt triggering Azure OpenAI's content management policy. Please modify your prompt and retry. To learn more about our content filtering policies please read our documentation: https://go.microsoft.com/fwlink/?linkid=2198766\", 'type': None, 'param': 'prompt', 'code': 'content_filter', 'status': 400, 'innererror': {'code': 'ResponsibleAIPolicyViolation', 'content_filter_result': {'hate': {'filtered': True, 'severity': 'medium'}, 'jailbreak': {'filtered': False, 'detected': False}, 'self_harm': {'filtered': False, 'severity': 'safe'}, 'sexual': {'filtered': False, 'severity': 'safe'}, 'violence': {'filtered': False, 'severity': 'safe'}}}}}\n",
      "Product Description: \n",
      " OxyGlow brings to you a one stop solution to your beauty and cosmetics products catering to all your needs through its wide range of beauty care products like face wash, bleach, face pack, oils, lotions, gels, conditioners, lip and eye care products and many more. So beat your beauty problems with the help of Oxy Glow’s range of beauty products at your ease by ordering them immediately! \n",
      "\n",
      "Original label: \n",
      " Skin Care \n",
      "\n",
      "Predicted label: \n",
      " Skin Care\n",
      "====================================================\n",
      "Product Description: \n",
      " Cool your body with a weekly routine of oil bath with meera herbal hairwash powder. \n",
      "\n",
      "Original label: \n",
      " Hair Care \n",
      "\n",
      "Predicted label: \n",
      " Hair Care\n",
      "====================================================\n",
      "Product Description: \n",
      " Fast-absorbing treatment for fine and thinning color-treated hair energizes the scalp and provides a healthy scalp environment to improve the appearance of thinning hair. \n",
      "\n",
      "Original label: \n",
      " Hair Care \n",
      "\n",
      "Predicted label: \n",
      " Hair Care\n",
      "====================================================\n",
      "Product Description: \n",
      " This khadi hair growth shampoo for combined hair is packed with anti hairfall and antidandruff properties of green apple, amla, bhringraj and almond oil. It is a potential natural formula for strengthening your tresses. This ayurvedic hair cleanser promotes hair growth and also makes sure that your hair fall is under control. It also acts as an ultimate anti dandruff shampoo as green apple works wonders to fix dandruff and leaves your hair completely flake free. \n",
      "\n",
      "Original label: \n",
      " Hair Care \n",
      "\n",
      "Predicted label: \n",
      " Hair Care\n",
      "====================================================\n",
      "Product Description: \n",
      " Use: Eye, Item Type: Treatment & Mask, Brand Name: HUAMIANLI, Feature: Moisturizing,Anti-Puffiness,Dark Circle, Ingredient: maquiagem, GZZZ: YGZWBZ, Country/Region of Manufacture: China, Certification: GZZZ, NET WT: 50 Pair, Model Number: Eye Patches, Certificate Number: xx, Gender: Female, Unit Type: piece, Package Weight: , Package Size: \n",
      "\n",
      "Original label: \n",
      " Skin Care \n",
      "\n",
      "Predicted label: \n",
      " Skin Care\n",
      "====================================================\n",
      "Product Description: \n",
      " IMPORTANT NOTE - Bulgarian Formula NOT UK. Bulgarian regulations require a much higher level of proof of effectiveness of product than UK. In reality this means Bulgarian products have a much higher level of active ingredients than UK products. DeBa NIGHT CREAM with vitamin C and micro capsulated vitamin A is formulated to nourish, moisturize and restore the firmness and freshness of the skin of the face and neck during the night. It is absorbed easily without leaving an excessive oily layer. With regular use the skin recovers its healthy youth appearances, in the morning it is fresh, smooth and vital. \n",
      "\n",
      "Original label: \n",
      " Skin Care \n",
      "\n",
      "Predicted label: \n",
      " Skin Care\n",
      "====================================================\n",
      "Product Description: \n",
      " Khadi Pure Gramodyog Herbal Orange Lemongrass Hair Conditioner is enriched with pure natural vitamin e oil, anti oxidants and essential oils for hair. It penetrates and seals the cuticle to fill the hollow unwanted cores of damaged lifeless and brittle hair. This moisturizing conditioner makes your hair naturally soft, silky, strong and shiny. Ingredients: Aqua, Citrus Sinensis (Orange), Aloe Vera (Ghrita-Kumari), Centella Asiatica (Mandukaparni), Glycyrrhiza Glabra (Mulethi), Trachyspermum Ammi (Ajwain ), Citrus Limon (Nimbaka), Cymbopogon Citratus(Lemongrass), Wheat Germ Oil. Applicare: After shampoo apply on entire hair length especially at the edges. Wait for a few minutes. Rinse thoroughly. Contents: 210ml Bottle. \n",
      "\n",
      "Original label: \n",
      " Hair Care \n",
      "\n",
      "Predicted label: \n",
      " Hair Care\n",
      "====================================================\n",
      "Product Description: \n",
      " Item Type: Treatment & Mask NET WT: 160g Ingredient: Angelica sinensis,pearl powder Model Number: np0052 Formulation: Cream Gender: Unisex Use: Whole Face Feature: Acne Treatment Type: Washable Mask \n",
      "\n",
      "Original label: \n",
      " Skin Care \n",
      "\n",
      "Predicted label: \n",
      " Skin Care\n",
      "====================================================\n",
      "Product Description: \n",
      " Amino Collagen The future of beauty The future of beauty is here! Amino Collagen is India’s first beauty supplement & most effective collagen source for healthy & naturally glowing skin from within. \n",
      "\n",
      "Original label: \n",
      " Skin Care \n",
      "\n",
      "Predicted label: \n",
      " Skin Care\n",
      "====================================================\n",
      "Product Description: \n",
      " Eco Lips Vegan Bee Free .15 oz \n",
      "\n",
      "Original label: \n",
      " Skin Care \n",
      "\n",
      "Predicted label: \n",
      " Skin Care\n",
      "====================================================\n",
      "Error code: 400 - {'error': {'message': \"The response was filtered due to the prompt triggering Azure OpenAI's content management policy. Please modify your prompt and retry. To learn more about our content filtering policies please read our documentation: https://go.microsoft.com/fwlink/?linkid=2198766\", 'type': None, 'param': 'prompt', 'code': 'content_filter', 'status': 400, 'innererror': {'code': 'ResponsibleAIPolicyViolation', 'content_filter_result': {'hate': {'filtered': True, 'severity': 'medium'}, 'jailbreak': {'filtered': False, 'detected': False}, 'self_harm': {'filtered': False, 'severity': 'safe'}, 'sexual': {'filtered': False, 'severity': 'safe'}, 'violence': {'filtered': False, 'severity': 'safe'}}}}}\n"
     ]
    },
    {
     "name": "stderr",
     "output_type": "stream",
     "text": [
      "\r 80%|████████  | 4/5 [07:59<01:59, 119.97s/it]"
     ]
    },
    {
     "name": "stdout",
     "output_type": "stream",
     "text": [
      "Product Description: \n",
      " OxyGlow brings to you a one stop solution to your beauty and cosmetics products catering to all your needs through its wide range of beauty care products like face wash, bleach, face pack, oils, lotions, gels, conditioners, lip and eye care products and many more. So beat your beauty problems with the help of Oxy Glow’s range of beauty products at your ease by ordering them immediately! \n",
      "\n",
      "Original label: \n",
      " Skin Care \n",
      "\n",
      "Predicted label: \n",
      " Skin Care\n",
      "====================================================\n",
      "Product Description: \n",
      " Cool your body with a weekly routine of oil bath with meera herbal hairwash powder. \n",
      "\n",
      "Original label: \n",
      " Hair Care \n",
      "\n",
      "Predicted label: \n",
      " Hair Care\n",
      "====================================================\n",
      "Product Description: \n",
      " Fast-absorbing treatment for fine and thinning color-treated hair energizes the scalp and provides a healthy scalp environment to improve the appearance of thinning hair. \n",
      "\n",
      "Original label: \n",
      " Hair Care \n",
      "\n",
      "Predicted label: \n",
      " Hair Care\n",
      "====================================================\n",
      "Product Description: \n",
      " This khadi hair growth shampoo for combined hair is packed with anti hairfall and antidandruff properties of green apple, amla, bhringraj and almond oil. It is a potential natural formula for strengthening your tresses. This ayurvedic hair cleanser promotes hair growth and also makes sure that your hair fall is under control. It also acts as an ultimate anti dandruff shampoo as green apple works wonders to fix dandruff and leaves your hair completely flake free. \n",
      "\n",
      "Original label: \n",
      " Hair Care \n",
      "\n",
      "Predicted label: \n",
      " Hair Care\n",
      "====================================================\n",
      "Product Description: \n",
      " Use: Eye, Item Type: Treatment & Mask, Brand Name: HUAMIANLI, Feature: Moisturizing,Anti-Puffiness,Dark Circle, Ingredient: maquiagem, GZZZ: YGZWBZ, Country/Region of Manufacture: China, Certification: GZZZ, NET WT: 50 Pair, Model Number: Eye Patches, Certificate Number: xx, Gender: Female, Unit Type: piece, Package Weight: , Package Size: \n",
      "\n",
      "Original label: \n",
      " Skin Care \n",
      "\n",
      "Predicted label: \n",
      " Skin Care\n",
      "====================================================\n",
      "Product Description: \n",
      " IMPORTANT NOTE - Bulgarian Formula NOT UK. Bulgarian regulations require a much higher level of proof of effectiveness of product than UK. In reality this means Bulgarian products have a much higher level of active ingredients than UK products. DeBa NIGHT CREAM with vitamin C and micro capsulated vitamin A is formulated to nourish, moisturize and restore the firmness and freshness of the skin of the face and neck during the night. It is absorbed easily without leaving an excessive oily layer. With regular use the skin recovers its healthy youth appearances, in the morning it is fresh, smooth and vital. \n",
      "\n",
      "Original label: \n",
      " Skin Care \n",
      "\n",
      "Predicted label: \n",
      " Skin Care\n",
      "====================================================\n",
      "Product Description: \n",
      " Khadi Pure Gramodyog Herbal Orange Lemongrass Hair Conditioner is enriched with pure natural vitamin e oil, anti oxidants and essential oils for hair. It penetrates and seals the cuticle to fill the hollow unwanted cores of damaged lifeless and brittle hair. This moisturizing conditioner makes your hair naturally soft, silky, strong and shiny. Ingredients: Aqua, Citrus Sinensis (Orange), Aloe Vera (Ghrita-Kumari), Centella Asiatica (Mandukaparni), Glycyrrhiza Glabra (Mulethi), Trachyspermum Ammi (Ajwain ), Citrus Limon (Nimbaka), Cymbopogon Citratus(Lemongrass), Wheat Germ Oil. Applicare: After shampoo apply on entire hair length especially at the edges. Wait for a few minutes. Rinse thoroughly. Contents: 210ml Bottle. \n",
      "\n",
      "Original label: \n",
      " Hair Care \n",
      "\n",
      "Predicted label: \n",
      " Hair Care\n",
      "====================================================\n",
      "Product Description: \n",
      " Item Type: Treatment & Mask NET WT: 160g Ingredient: Angelica sinensis,pearl powder Model Number: np0052 Formulation: Cream Gender: Unisex Use: Whole Face Feature: Acne Treatment Type: Washable Mask \n",
      "\n",
      "Original label: \n",
      " Skin Care \n",
      "\n",
      "Predicted label: \n",
      " Skin Care\n",
      "====================================================\n",
      "Product Description: \n",
      " Amino Collagen The future of beauty The future of beauty is here! Amino Collagen is India’s first beauty supplement & most effective collagen source for healthy & naturally glowing skin from within. \n",
      "\n",
      "Original label: \n",
      " Skin Care \n",
      "\n",
      "Predicted label: \n",
      " Skin Care\n",
      "====================================================\n",
      "Product Description: \n",
      " Eco Lips Vegan Bee Free .15 oz \n",
      "\n",
      "Original label: \n",
      " Skin Care \n",
      "\n",
      "Predicted label: \n",
      " Skin Care\n",
      "====================================================\n",
      "Error code: 400 - {'error': {'message': \"The response was filtered due to the prompt triggering Azure OpenAI's content management policy. Please modify your prompt and retry. To learn more about our content filtering policies please read our documentation: https://go.microsoft.com/fwlink/?linkid=2198766\", 'type': None, 'param': 'prompt', 'code': 'content_filter', 'status': 400, 'innererror': {'code': 'ResponsibleAIPolicyViolation', 'content_filter_result': {'hate': {'filtered': True, 'severity': 'medium'}, 'jailbreak': {'filtered': False, 'detected': False}, 'self_harm': {'filtered': False, 'severity': 'safe'}, 'sexual': {'filtered': False, 'severity': 'safe'}, 'violence': {'filtered': False, 'severity': 'safe'}}}}}\n",
      "Product Description: \n",
      " OxyGlow brings to you a one stop solution to your beauty and cosmetics products catering to all your needs through its wide range of beauty care products like face wash, bleach, face pack, oils, lotions, gels, conditioners, lip and eye care products and many more. So beat your beauty problems with the help of Oxy Glow’s range of beauty products at your ease by ordering them immediately! \n",
      "\n",
      "Original label: \n",
      " Skin Care \n",
      "\n",
      "Predicted label: \n",
      " Skin Care\n",
      "====================================================\n",
      "Product Description: \n",
      " Cool your body with a weekly routine of oil bath with meera herbal hairwash powder. \n",
      "\n",
      "Original label: \n",
      " Hair Care \n",
      "\n",
      "Predicted label: \n",
      " Hair Care\n",
      "====================================================\n",
      "Product Description: \n",
      " Fast-absorbing treatment for fine and thinning color-treated hair energizes the scalp and provides a healthy scalp environment to improve the appearance of thinning hair. \n",
      "\n",
      "Original label: \n",
      " Hair Care \n",
      "\n",
      "Predicted label: \n",
      " Hair Care\n",
      "====================================================\n",
      "Product Description: \n",
      " This khadi hair growth shampoo for combined hair is packed with anti hairfall and antidandruff properties of green apple, amla, bhringraj and almond oil. It is a potential natural formula for strengthening your tresses. This ayurvedic hair cleanser promotes hair growth and also makes sure that your hair fall is under control. It also acts as an ultimate anti dandruff shampoo as green apple works wonders to fix dandruff and leaves your hair completely flake free. \n",
      "\n",
      "Original label: \n",
      " Hair Care \n",
      "\n",
      "Predicted label: \n",
      " Hair Care\n",
      "====================================================\n",
      "Product Description: \n",
      " Use: Eye, Item Type: Treatment & Mask, Brand Name: HUAMIANLI, Feature: Moisturizing,Anti-Puffiness,Dark Circle, Ingredient: maquiagem, GZZZ: YGZWBZ, Country/Region of Manufacture: China, Certification: GZZZ, NET WT: 50 Pair, Model Number: Eye Patches, Certificate Number: xx, Gender: Female, Unit Type: piece, Package Weight: , Package Size: \n",
      "\n",
      "Original label: \n",
      " Skin Care \n",
      "\n",
      "Predicted label: \n",
      " Skin Care\n",
      "====================================================\n",
      "Product Description: \n",
      " IMPORTANT NOTE - Bulgarian Formula NOT UK. Bulgarian regulations require a much higher level of proof of effectiveness of product than UK. In reality this means Bulgarian products have a much higher level of active ingredients than UK products. DeBa NIGHT CREAM with vitamin C and micro capsulated vitamin A is formulated to nourish, moisturize and restore the firmness and freshness of the skin of the face and neck during the night. It is absorbed easily without leaving an excessive oily layer. With regular use the skin recovers its healthy youth appearances, in the morning it is fresh, smooth and vital. \n",
      "\n",
      "Original label: \n",
      " Skin Care \n",
      "\n",
      "Predicted label: \n",
      " Skin Care\n",
      "====================================================\n",
      "Product Description: \n",
      " Khadi Pure Gramodyog Herbal Orange Lemongrass Hair Conditioner is enriched with pure natural vitamin e oil, anti oxidants and essential oils for hair. It penetrates and seals the cuticle to fill the hollow unwanted cores of damaged lifeless and brittle hair. This moisturizing conditioner makes your hair naturally soft, silky, strong and shiny. Ingredients: Aqua, Citrus Sinensis (Orange), Aloe Vera (Ghrita-Kumari), Centella Asiatica (Mandukaparni), Glycyrrhiza Glabra (Mulethi), Trachyspermum Ammi (Ajwain ), Citrus Limon (Nimbaka), Cymbopogon Citratus(Lemongrass), Wheat Germ Oil. Applicare: After shampoo apply on entire hair length especially at the edges. Wait for a few minutes. Rinse thoroughly. Contents: 210ml Bottle. \n",
      "\n",
      "Original label: \n",
      " Hair Care \n",
      "\n",
      "Predicted label: \n",
      " Hair Care\n",
      "====================================================\n",
      "Product Description: \n",
      " Item Type: Treatment & Mask NET WT: 160g Ingredient: Angelica sinensis,pearl powder Model Number: np0052 Formulation: Cream Gender: Unisex Use: Whole Face Feature: Acne Treatment Type: Washable Mask \n",
      "\n",
      "Original label: \n",
      " Skin Care \n",
      "\n",
      "Predicted label: \n",
      " Skin Care\n",
      "====================================================\n",
      "Product Description: \n",
      " Amino Collagen The future of beauty The future of beauty is here! Amino Collagen is India’s first beauty supplement & most effective collagen source for healthy & naturally glowing skin from within. \n",
      "\n",
      "Original label: \n",
      " Skin Care \n",
      "\n",
      "Predicted label: \n",
      " Skin Care\n",
      "====================================================\n",
      "Product Description: \n",
      " Eco Lips Vegan Bee Free .15 oz \n",
      "\n",
      "Original label: \n",
      " Skin Care \n",
      "\n",
      "Predicted label: \n",
      " Skin Care\n",
      "====================================================\n",
      "Error code: 400 - {'error': {'message': \"The response was filtered due to the prompt triggering Azure OpenAI's content management policy. Please modify your prompt and retry. To learn more about our content filtering policies please read our documentation: https://go.microsoft.com/fwlink/?linkid=2198766\", 'type': None, 'param': 'prompt', 'code': 'content_filter', 'status': 400, 'innererror': {'code': 'ResponsibleAIPolicyViolation', 'content_filter_result': {'hate': {'filtered': True, 'severity': 'medium'}, 'jailbreak': {'filtered': False, 'detected': False}, 'self_harm': {'filtered': False, 'severity': 'safe'}, 'sexual': {'filtered': False, 'severity': 'safe'}, 'violence': {'filtered': False, 'severity': 'safe'}}}}}\n"
     ]
    },
    {
     "name": "stderr",
     "output_type": "stream",
     "text": [
      "100%|██████████| 5/5 [09:51<00:00, 118.21s/it]\n"
     ]
    }
   ],
   "source": [
    "for _ in tqdm(range(num_eval_runs)):\n",
    "\n",
    "    # For each run create a new sample of examples\n",
    "    examples = create_examples(examples_df)\n",
    "\n",
    "    # Assemble the few shot prompt with these examples\n",
    "    few_shot_prompt = create_prompt(few_shot_system_message, examples, user_message_template)\n",
    "    cot_few_shot_prompt = create_prompt(cot_system_message, examples, user_message_template)\n",
    "\n",
    "    # Evaluate prompt accuracy on gold examples\n",
    "    few_shot_accuracy = evaluate_prompt(few_shot_prompt, gold_examples, user_message_template)\n",
    "    cot_few_shot_accuracy = evaluate_prompt(cot_few_shot_prompt, gold_examples, user_message_template)\n",
    "\n",
    "    few_shot_performance.append(few_shot_accuracy)\n",
    "    cot_few_shot_performance.append(cot_few_shot_accuracy)"
   ]
  },
  {
   "cell_type": "code",
   "execution_count": 46,
   "metadata": {
    "azdata_cell_guid": "d62bc059-4c9e-4f00-9aa3-64d0df1b5bd0",
    "colab": {
     "base_uri": "https://localhost:8080/"
    },
    "id": "ZikcR8oGrWls",
    "language": "sql",
    "outputId": "2a097f2f-72fc-410f-9a4c-d175c4f44e4e"
   },
   "outputs": [
    {
     "data": {
      "text/plain": [
       "(0.9358490566037736, 0.002515723270440251)"
      ]
     },
     "execution_count": 46,
     "metadata": {},
     "output_type": "execute_result"
    }
   ],
   "source": [
    "np.array(few_shot_performance).mean(), np.array(few_shot_performance).std()"
   ]
  },
  {
   "cell_type": "code",
   "execution_count": 47,
   "metadata": {
    "azdata_cell_guid": "6246dfa9-1543-459e-adb1-f848ac29f9c8",
    "colab": {
     "base_uri": "https://localhost:8080/"
    },
    "id": "D-GYUYGkuQY7",
    "language": "sql",
    "outputId": "9cc417ea-612d-474d-face-5f2aa928c071"
   },
   "outputs": [
    {
     "data": {
      "text/plain": [
       "(0.9345911949685535, 0.005031446540880501)"
      ]
     },
     "execution_count": 47,
     "metadata": {},
     "output_type": "execute_result"
    }
   ],
   "source": [
    "np.array(cot_few_shot_performance).mean(), np.array(cot_few_shot_performance).std()"
   ]
  },
  {
   "cell_type": "markdown",
   "metadata": {
    "azdata_cell_guid": "b4c6bf62-1f09-46e0-8cd6-b2b77ce158e7",
    "id": "Mc-oQl4TkNKi"
   },
   "source": [
    "Both of them are consistent across iterations."
   ]
  },
  {
   "cell_type": "markdown",
   "metadata": {
    "azdata_cell_guid": "51cce8f5-ea39-46e2-8249-7a53b14e04e7",
    "id": "txhTHxZjVoGg"
   },
   "source": [
    "All of them beat the existing mis-labeling rate. We can see that both zero-shot and few-shot have out performed cot-fewshot. It is imperative for us to use zero-shot over few-shot as the accuracy scores are similar but zero-shot consumes 3X lesser tokens and hence becomes the obvious choice."
   ]
  },
  {
   "cell_type": "markdown",
   "metadata": {
    "azdata_cell_guid": "ad62461b-bbb7-449e-9ac8-439f1b290603",
    "id": "leLS3CKbPahz"
   },
   "source": [
    "## Task 2: Intent Detection"
   ]
  },
  {
   "cell_type": "markdown",
   "metadata": {
    "azdata_cell_guid": "487ce554-adb3-437a-9011-9c1960699e73",
    "id": "3J23ZILoH_Wi"
   },
   "source": [
    "Let's proceed to the second task, which involves determining customer intent from support queries. We have received a raw dataset of these queries and are required to conduct a preliminary analysis. Our goal is to identify various categories of inquiries and determine the most frequent ones. Based on this analysis, management will establish a labeling team to manually classify the queries into the top three categories, with a fourth category, 'Others,' for queries that do not fit into the top three.\n",
    "\n",
    "Following this step, we will undertake a classification task using OpenAI's tools. If the results are satisfactory (i.e., accuracy greater than 85%), we will apply the model to the entire dataset to determine the actual frequency of each category. The category with the highest occurrence will be prioritized for action.\n",
    "\n",
    "During this session, our focus will be on the initial exploration, construction, and evaluation of the classification task using a large language model (LLM)."
   ]
  },
  {
   "cell_type": "markdown",
   "metadata": {
    "azdata_cell_guid": "004382d5-5cd4-4bae-b172-7cf931979086",
    "id": "bdzr238VBhpN"
   },
   "source": [
    "### Step 2: Assemble and Explore Data"
   ]
  },
  {
   "cell_type": "code",
   "execution_count": 48,
   "metadata": {
    "azdata_cell_guid": "cc6087b5-7d4a-4f3d-b8e0-a1c8aaab3ae3",
    "id": "JWtAqDRdiZS-",
    "language": "sql"
   },
   "outputs": [],
   "source": [
    "dataset = pd.read_csv(\"customer_intent_raw.csv\")"
   ]
  },
  {
   "cell_type": "code",
   "execution_count": 49,
   "metadata": {
    "azdata_cell_guid": "0c547dbd-1299-4248-8fbe-cba1bbed6e97",
    "colab": {
     "base_uri": "https://localhost:8080/",
     "height": 206
    },
    "id": "u2Ywm4EGikOs",
    "language": "sql",
    "outputId": "0247c9d6-f32f-499c-b79f-f756a0535be1"
   },
   "outputs": [
    {
     "data": {
      "application/vnd.google.colaboratory.intrinsic+json": {
       "summary": "{\n  \"name\": \"dataset\",\n  \"rows\": 367,\n  \"fields\": [\n    {\n      \"column\": \"description\",\n      \"properties\": {\n        \"dtype\": \"string\",\n        \"num_unique_values\": 367,\n        \"samples\": [\n          \"reporting payment issue\",\n          \"what do i have to do to add sometthing to order 00004587345\",\n          \"how to talk with customer support?\"\n        ],\n        \"semantic_type\": \"\",\n        \"description\": \"\"\n      }\n    }\n  ]\n}",
       "type": "dataframe",
       "variable_name": "dataset"
      },
      "text/html": [
       "\n",
       "  <div id=\"df-02b07826-780e-444f-8afb-62e5112f9542\" class=\"colab-df-container\">\n",
       "    <div>\n",
       "<style scoped>\n",
       "    .dataframe tbody tr th:only-of-type {\n",
       "        vertical-align: middle;\n",
       "    }\n",
       "\n",
       "    .dataframe tbody tr th {\n",
       "        vertical-align: top;\n",
       "    }\n",
       "\n",
       "    .dataframe thead th {\n",
       "        text-align: right;\n",
       "    }\n",
       "</style>\n",
       "<table border=\"1\" class=\"dataframe\">\n",
       "  <thead>\n",
       "    <tr style=\"text-align: right;\">\n",
       "      <th></th>\n",
       "      <th>description</th>\n",
       "    </tr>\n",
       "  </thead>\n",
       "  <tbody>\n",
       "    <tr>\n",
       "      <th>0</th>\n",
       "      <td>switching to premium account</td>\n",
       "    </tr>\n",
       "    <tr>\n",
       "      <th>1</th>\n",
       "      <td>change to free account</td>\n",
       "    </tr>\n",
       "    <tr>\n",
       "      <th>2</th>\n",
       "      <td>want assistance to use the free account</td>\n",
       "    </tr>\n",
       "    <tr>\n",
       "      <th>3</th>\n",
       "      <td>is it possible to change to the premium account?</td>\n",
       "    </tr>\n",
       "    <tr>\n",
       "      <th>4</th>\n",
       "      <td>i hsve to use the Platinum profile how do i do it</td>\n",
       "    </tr>\n",
       "  </tbody>\n",
       "</table>\n",
       "</div>\n",
       "    <div class=\"colab-df-buttons\">\n",
       "\n",
       "  <div class=\"colab-df-container\">\n",
       "    <button class=\"colab-df-convert\" onclick=\"convertToInteractive('df-02b07826-780e-444f-8afb-62e5112f9542')\"\n",
       "            title=\"Convert this dataframe to an interactive table.\"\n",
       "            style=\"display:none;\">\n",
       "\n",
       "  <svg xmlns=\"http://www.w3.org/2000/svg\" height=\"24px\" viewBox=\"0 -960 960 960\">\n",
       "    <path d=\"M120-120v-720h720v720H120Zm60-500h600v-160H180v160Zm220 220h160v-160H400v160Zm0 220h160v-160H400v160ZM180-400h160v-160H180v160Zm440 0h160v-160H620v160ZM180-180h160v-160H180v160Zm440 0h160v-160H620v160Z\"/>\n",
       "  </svg>\n",
       "    </button>\n",
       "\n",
       "  <style>\n",
       "    .colab-df-container {\n",
       "      display:flex;\n",
       "      gap: 12px;\n",
       "    }\n",
       "\n",
       "    .colab-df-convert {\n",
       "      background-color: #E8F0FE;\n",
       "      border: none;\n",
       "      border-radius: 50%;\n",
       "      cursor: pointer;\n",
       "      display: none;\n",
       "      fill: #1967D2;\n",
       "      height: 32px;\n",
       "      padding: 0 0 0 0;\n",
       "      width: 32px;\n",
       "    }\n",
       "\n",
       "    .colab-df-convert:hover {\n",
       "      background-color: #E2EBFA;\n",
       "      box-shadow: 0px 1px 2px rgba(60, 64, 67, 0.3), 0px 1px 3px 1px rgba(60, 64, 67, 0.15);\n",
       "      fill: #174EA6;\n",
       "    }\n",
       "\n",
       "    .colab-df-buttons div {\n",
       "      margin-bottom: 4px;\n",
       "    }\n",
       "\n",
       "    [theme=dark] .colab-df-convert {\n",
       "      background-color: #3B4455;\n",
       "      fill: #D2E3FC;\n",
       "    }\n",
       "\n",
       "    [theme=dark] .colab-df-convert:hover {\n",
       "      background-color: #434B5C;\n",
       "      box-shadow: 0px 1px 3px 1px rgba(0, 0, 0, 0.15);\n",
       "      filter: drop-shadow(0px 1px 2px rgba(0, 0, 0, 0.3));\n",
       "      fill: #FFFFFF;\n",
       "    }\n",
       "  </style>\n",
       "\n",
       "    <script>\n",
       "      const buttonEl =\n",
       "        document.querySelector('#df-02b07826-780e-444f-8afb-62e5112f9542 button.colab-df-convert');\n",
       "      buttonEl.style.display =\n",
       "        google.colab.kernel.accessAllowed ? 'block' : 'none';\n",
       "\n",
       "      async function convertToInteractive(key) {\n",
       "        const element = document.querySelector('#df-02b07826-780e-444f-8afb-62e5112f9542');\n",
       "        const dataTable =\n",
       "          await google.colab.kernel.invokeFunction('convertToInteractive',\n",
       "                                                    [key], {});\n",
       "        if (!dataTable) return;\n",
       "\n",
       "        const docLinkHtml = 'Like what you see? Visit the ' +\n",
       "          '<a target=\"_blank\" href=https://colab.research.google.com/notebooks/data_table.ipynb>data table notebook</a>'\n",
       "          + ' to learn more about interactive tables.';\n",
       "        element.innerHTML = '';\n",
       "        dataTable['output_type'] = 'display_data';\n",
       "        await google.colab.output.renderOutput(dataTable, element);\n",
       "        const docLink = document.createElement('div');\n",
       "        docLink.innerHTML = docLinkHtml;\n",
       "        element.appendChild(docLink);\n",
       "      }\n",
       "    </script>\n",
       "  </div>\n",
       "\n",
       "\n",
       "<div id=\"df-3688a358-7c70-4bce-8942-7be672343143\">\n",
       "  <button class=\"colab-df-quickchart\" onclick=\"quickchart('df-3688a358-7c70-4bce-8942-7be672343143')\"\n",
       "            title=\"Suggest charts\"\n",
       "            style=\"display:none;\">\n",
       "\n",
       "<svg xmlns=\"http://www.w3.org/2000/svg\" height=\"24px\"viewBox=\"0 0 24 24\"\n",
       "     width=\"24px\">\n",
       "    <g>\n",
       "        <path d=\"M19 3H5c-1.1 0-2 .9-2 2v14c0 1.1.9 2 2 2h14c1.1 0 2-.9 2-2V5c0-1.1-.9-2-2-2zM9 17H7v-7h2v7zm4 0h-2V7h2v10zm4 0h-2v-4h2v4z\"/>\n",
       "    </g>\n",
       "</svg>\n",
       "  </button>\n",
       "\n",
       "<style>\n",
       "  .colab-df-quickchart {\n",
       "      --bg-color: #E8F0FE;\n",
       "      --fill-color: #1967D2;\n",
       "      --hover-bg-color: #E2EBFA;\n",
       "      --hover-fill-color: #174EA6;\n",
       "      --disabled-fill-color: #AAA;\n",
       "      --disabled-bg-color: #DDD;\n",
       "  }\n",
       "\n",
       "  [theme=dark] .colab-df-quickchart {\n",
       "      --bg-color: #3B4455;\n",
       "      --fill-color: #D2E3FC;\n",
       "      --hover-bg-color: #434B5C;\n",
       "      --hover-fill-color: #FFFFFF;\n",
       "      --disabled-bg-color: #3B4455;\n",
       "      --disabled-fill-color: #666;\n",
       "  }\n",
       "\n",
       "  .colab-df-quickchart {\n",
       "    background-color: var(--bg-color);\n",
       "    border: none;\n",
       "    border-radius: 50%;\n",
       "    cursor: pointer;\n",
       "    display: none;\n",
       "    fill: var(--fill-color);\n",
       "    height: 32px;\n",
       "    padding: 0;\n",
       "    width: 32px;\n",
       "  }\n",
       "\n",
       "  .colab-df-quickchart:hover {\n",
       "    background-color: var(--hover-bg-color);\n",
       "    box-shadow: 0 1px 2px rgba(60, 64, 67, 0.3), 0 1px 3px 1px rgba(60, 64, 67, 0.15);\n",
       "    fill: var(--button-hover-fill-color);\n",
       "  }\n",
       "\n",
       "  .colab-df-quickchart-complete:disabled,\n",
       "  .colab-df-quickchart-complete:disabled:hover {\n",
       "    background-color: var(--disabled-bg-color);\n",
       "    fill: var(--disabled-fill-color);\n",
       "    box-shadow: none;\n",
       "  }\n",
       "\n",
       "  .colab-df-spinner {\n",
       "    border: 2px solid var(--fill-color);\n",
       "    border-color: transparent;\n",
       "    border-bottom-color: var(--fill-color);\n",
       "    animation:\n",
       "      spin 1s steps(1) infinite;\n",
       "  }\n",
       "\n",
       "  @keyframes spin {\n",
       "    0% {\n",
       "      border-color: transparent;\n",
       "      border-bottom-color: var(--fill-color);\n",
       "      border-left-color: var(--fill-color);\n",
       "    }\n",
       "    20% {\n",
       "      border-color: transparent;\n",
       "      border-left-color: var(--fill-color);\n",
       "      border-top-color: var(--fill-color);\n",
       "    }\n",
       "    30% {\n",
       "      border-color: transparent;\n",
       "      border-left-color: var(--fill-color);\n",
       "      border-top-color: var(--fill-color);\n",
       "      border-right-color: var(--fill-color);\n",
       "    }\n",
       "    40% {\n",
       "      border-color: transparent;\n",
       "      border-right-color: var(--fill-color);\n",
       "      border-top-color: var(--fill-color);\n",
       "    }\n",
       "    60% {\n",
       "      border-color: transparent;\n",
       "      border-right-color: var(--fill-color);\n",
       "    }\n",
       "    80% {\n",
       "      border-color: transparent;\n",
       "      border-right-color: var(--fill-color);\n",
       "      border-bottom-color: var(--fill-color);\n",
       "    }\n",
       "    90% {\n",
       "      border-color: transparent;\n",
       "      border-bottom-color: var(--fill-color);\n",
       "    }\n",
       "  }\n",
       "</style>\n",
       "\n",
       "  <script>\n",
       "    async function quickchart(key) {\n",
       "      const quickchartButtonEl =\n",
       "        document.querySelector('#' + key + ' button');\n",
       "      quickchartButtonEl.disabled = true;  // To prevent multiple clicks.\n",
       "      quickchartButtonEl.classList.add('colab-df-spinner');\n",
       "      try {\n",
       "        const charts = await google.colab.kernel.invokeFunction(\n",
       "            'suggestCharts', [key], {});\n",
       "      } catch (error) {\n",
       "        console.error('Error during call to suggestCharts:', error);\n",
       "      }\n",
       "      quickchartButtonEl.classList.remove('colab-df-spinner');\n",
       "      quickchartButtonEl.classList.add('colab-df-quickchart-complete');\n",
       "    }\n",
       "    (() => {\n",
       "      let quickchartButtonEl =\n",
       "        document.querySelector('#df-3688a358-7c70-4bce-8942-7be672343143 button');\n",
       "      quickchartButtonEl.style.display =\n",
       "        google.colab.kernel.accessAllowed ? 'block' : 'none';\n",
       "    })();\n",
       "  </script>\n",
       "</div>\n",
       "\n",
       "    </div>\n",
       "  </div>\n"
      ],
      "text/plain": [
       "                                         description\n",
       "0                       switching to premium account\n",
       "1                             change to free account\n",
       "2            want assistance to use the free account\n",
       "3   is it possible to change to the premium account?\n",
       "4  i hsve to use the Platinum profile how do i do it"
      ]
     },
     "execution_count": 49,
     "metadata": {},
     "output_type": "execute_result"
    }
   ],
   "source": [
    "dataset.head()"
   ]
  },
  {
   "cell_type": "code",
   "execution_count": 50,
   "metadata": {
    "azdata_cell_guid": "1bcbb9a1-a962-4bde-b424-e4b15ee495fe",
    "colab": {
     "base_uri": "https://localhost:8080/"
    },
    "id": "h7fwJzUKd8cX",
    "language": "sql",
    "outputId": "8a0a9611-48f4-45b3-f86d-9cb0cda7796d"
   },
   "outputs": [
    {
     "data": {
      "text/plain": [
       "(367, 1)"
      ]
     },
     "execution_count": 50,
     "metadata": {},
     "output_type": "execute_result"
    }
   ],
   "source": [
    "dataset.shape"
   ]
  },
  {
   "cell_type": "markdown",
   "metadata": {
    "azdata_cell_guid": "53040233-99be-4dd4-9cbd-9fa93a2c9b6c",
    "id": "yW0MRthfal3-"
   },
   "source": [
    "We are given an unlabeled dataset. First, let's try to understand what sort of problems are present in the data and which of them are most frequent using an LLM."
   ]
  },
  {
   "cell_type": "markdown",
   "metadata": {
    "azdata_cell_guid": "ac4e6f28-169a-4faf-8386-67da97e5a0a8",
    "id": "NUwCKi5FbWRQ"
   },
   "source": [
    "Let's concatenate all the responses into one string and then pass it to the LLM and ask it to provide us this preliminary analysis."
   ]
  },
  {
   "cell_type": "code",
   "execution_count": 51,
   "metadata": {
    "azdata_cell_guid": "f1472585-17f9-42ed-a1ae-61b8815ae57c",
    "id": "BHLpnzbxbhfE",
    "language": "sql"
   },
   "outputs": [],
   "source": [
    "raw_intent = dataset['description'].str.cat(sep=' || ')"
   ]
  },
  {
   "cell_type": "code",
   "execution_count": 52,
   "metadata": {
    "azdata_cell_guid": "3d1c00cb-0bfa-43bf-894a-d5bf697839eb",
    "colab": {
     "base_uri": "https://localhost:8080/",
     "height": 145
    },
    "id": "iEo8lBXsc2JE",
    "language": "sql",
    "outputId": "b6768272-4fcc-43ba-ae61-561c0bb44693"
   },
   "outputs": [
    {
     "data": {
      "application/vnd.google.colaboratory.intrinsic+json": {
       "type": "string"
      },
      "text/plain": [
       "\"switching to premium account || change to free account || want assistance to use the free account || is it possible to change to the premium account? || i hsve to use the Platinum profile how do i do it || i want assistance to switch to the free account || I cannot switch to the Gold account || switching to another account || I don't know what to do to change to the Pro account || switch to free account || help me ordering a few of your article || want help ti earn some of ur product || where to cancel purchase 00004587345? || how to talk to customer servce || need to check what hours i can reach custmoer service || how to talk with customer support? || I need help to speak with customer service || help switching something of purchase 370795561790 || assistance to switch something of purchase 113542617735902 || wanna switch an item of order 113542617735902 ohw to do it || problem with modifying order 00004587345 || need assistance to remove a product from roder 00123842 || I want to change several products of order 00004587345 || i have to delete a product from purchase 732201349959 || help me deleting some products from order 113542617735902 || help updating order 00123842 || update purchase 732201349959 || i have to add an item to purchase 370795561790 || can I edit order 370795561790? || I have got to edit order 370795561790, can you help me? || can I change some fucking products of purchase 00123842? || help me modify order 370795561790 || can  i swap some items of order 732201349959 || what do i have to do to add sometthing to order 00004587345 || I have to switch a product of order 732201349959 || I need help to swap some items of purchase 370795561790 || help me to add something to purchase 732201349959 || I need assistance with editing order 113542617735902 || how can I add something to purchase 00004587345? || wanna change some articles of order 732201349959 help me || is it possible to remove a product from order 732201349959? || change order 370795561790 || i need help modifyingg purchase 00123842 || i cannot delete a product from purchase 00123842 || how to add an article to purchase 732201349959 || I want to delete a goddamn item from order 732201349959 || need to add somehting to purchase 00004587345 || I want help adding an article to order 00004587345 || want help to ad some items to order 370795561790 || I want to correct purchase 732201349959, how do I do it? || change purchase 113542617735902 || add item to order 00004587345 || wanna delete several items  from purchase 00123842 help me || removing something from order 732201349959 || remove item from order 00123842 || update order 113542617735902 || I can't switch several products of order 00123842 || add something to order 00123842 || assistance updating purchase 00123842 || need to remove some items from order 370795561790 || I am trying to add several products to order 00004587345 || can i add some articles to order 00004587345 || i needassistance with adding an item to order 732201349959 || want assistance swapping a article of order 00004587345 || how to remove an item from order 370795561790 || how do I add several items to order 732201349959 ? || I made a mistake, help correcting order 00004587345 || I need to change several products of purchase 00004587345 || i have got to swap several articles of purchase 370795561790 || I cannot swap an article of order 113542617735902 || edit order 732201349959 || i want help removing a product from order 00004587345 || need to update purchase 00004587345 || how could I remove some items from order 370795561790? || edit order 00004587345 || can iswap an article of order 00004587345 || could i deete several damn articles from order 00004587345 || add something to order || modify purchase 00123842 || how to swap an fucking product of purchase 00004587345 || help to switch some items of purchase 00123842 || I missed a product in order 370795561790 || I have to add an article to order 00004587345 || wanna edit purchase 370795561790 || I try to change something of purchase 370795561790 || I missed some items in purchase 00123842, can I add them? || i nede help to add some items to order 370795561790 || modify order 00123842 || assistance to add some items to purchase 113542617735902 || can you help me to add something to purchase 370795561790? || I cannot switch some products of purchase 00004587345 || add item to order 732201349959 || I can't switch some products of purchase 00004587345 || do you deliver to Dublin? || can i place an order from Liverpool || can you help me see when my item is going to arrive? || help listing the fucking available payment options || where can i see ur availabe payment modalities || how could I see your allowed payment modalities? || how do i list the pament modalities || I want to check what payment methods are available, help me || is it possible to check what payment options you accept? || where to check what payment options you accept? || what do I have to do to see the accepted payment options? || can you help me see trhe payment methods? || show me the accepted paymnt options || how to see the ETA of the purchase 732201349959? || where ispurchase 113542617735902? || how do I see order 00004587345 current status? || I want to check te ETA of purchase 00004587345 || ineed assistance to see purchase 00004587345 status || check ETA of order 113542617735902 || wanna see the ETA of the purchase 113542617735902 || need to see the eta of purchase 00123842 || I want assistance seeing the ETA of the order 00004587345 || how to see order 00123842 status || i have got to see the status of order 00004587345 help me || can uhelp me seeing the ETA of the order 113542617735902 || want help tracking order 113542617735902 || order 00004587345 status || help me check the current status of order 370795561790 || I need to check the ETA of the purchase 113542617735902 || need help to see the ETA of the order 00004587345 || help me to check the status of purchase 113542617735902 || how do I check purchase 00123842 current status? || i have got to locate order 113542617735902 could ya help mw || status of order 00123842 || purchase 00123842 status || want assistance seeing the ETA of the order 732201349959 || checking ETA of order 370795561790 || I try to see the status of order 00004587345 || I try to see the ETA of order 00123842 || need help to see the et of order 732201349959 || checking status of order 732201349959 || assistance to see purchase 370795561790 status || see estimated time ofarrival of order 370795561790 || check order 00123842 status || how can i see purchase 370795561790 current status || see order 732201349959 status || check the status of purchase 113542617735902 || check order 113542617735902 status || checking ETA of order 113542617735902 || I try to hceck the status of purchase 00123842 || help me to check order 113542617735902 current status || I want help to locate purchase 00123842 || wanna see order 370795561790 current status || I want help to locate  order 00123842 || i need help to track purchase 370795561790 || check status of order 113542617735902 || checking status of order 00123842 || how can I see purchase 00123842 current status? || order 370795561790 status || I can't locate order 370795561790 || assistance checking the currnet status of order 732201349959 || I want to teack order 00004587345, how to do it? || can you help me see the ETA of the purchase 00004587345? || check order 00123842 current status || wanmt help to check the ETA of order 732201349959 || tracking purchase 00123842 || help to see the eta of order 732201349959 || i have to see the ETA of order 732201349959 i need help || checking status of order || tracking order 370795561790 || would it be possible to locate purchase113542617735902? || i have to see oredr 00123842 status i need help || i need assistance seeong the ETA of order 00004587345 || help me see the status of order 732201349959 || I want to track my last delivery, how do I do it? || checking order 732201349959 status || I don't know how I can see the ETA of order 00123842 || how to check the ETA of the purchase 00123842? || checking status of order 370795561790 || I cannot see order 00123842 current status || I want assistance locating purchase 370795561790 || see purchase 732201349959 status || where to see order 370795561790 current status || help seeing order 732201349959 status || where is ordered 00004587345? || i do not know how to remove the freemium account || could you help me solve a damn issue with payment? || what do i have to do to report an error with online payment || I need assistance notifying of a trouble with oline payment || want assistance to sove a problem with online payment || I do not know how to notify of a problem with payments || need to inform of a trouble with online payments || I try to report troublles with online payments || i cannot pay want assistance to report a payment issuew || I want assisance to inform of a problem with payment || I want help to solve an error with online payments || I need help notifying of a trouble with online payment || solve an issue with online payment || help solving errors with online payment || I need to notify of a fucking issue with payments, help me || reporting payment issue || report payment issue || can you help me notify of a proboem with payment? || I need help to notify of errors with online payment || payment issue || wanna report a trouble with payment || i need assistance solving a trouble with online payments || i need assistance to report troubles with payments || want assistance to solve errors with online payment || I want assistance informing of troubles with online payment || reporting trouble with online payment || i want assistance to inform of an issue with payment || can you help me to notify of a fucking problem with payment? || i dont know what to do to notify of payment issues || I'm trying to inform of a payment error || I need assistance notifying of a trouble with payments || I want help reporting an isue with payment || I cannot pay, I have to inform of payment issues || where can I report a trouble with payments? || issue with payments || I need help to notify of a trouble with online payment || I don't know how to notify of problpems with payment || reporting issues with payments || i try toi report errors with payments || can uhelp me to inofrm of issues with payments || need assistance solving a problem with payment || want help to solve a trouble with online payment || where to inform of payment issues? || how can I notify of an error with payment? || error with online payments || where to notify of an issue with payment? || I need help informing of a problem with online payment || reporting issue with payments || I do not know what to do to inform of errors with payments || I want assistance to notify of payment problems || I want assistance solving a trouble with online payments || I need to notify of payment errors || inform of issues with online payment || where could i notify of payment errors || I need assistance to solve bloody problems with payments || assistance informing of problems with payments || I need to report an error with payment || need assistance to notify of errors with payment || i want assistance to solve troubles with online payments || i have to notify of a problem with payments || reporting issues with payment || i need assistance solving an error with payments || how can i inform of problems with online payment || my card was declined, how to report issues with payment? || help notifying of a payment error || need help to report an trouble with payments || i want assistance informing of an issue with payments || I try to notify of fucking errors with online payment || i need assistance to notify of an issue with online payment || help regarding payment || help to notify of an payment error || can you help me solving a payment error? || updating details on pro account || correct details on free account || editing details on pro account || correcting information on pro account || edit info o freemium account || editing details on standard account || edit data on freemium account || editing account || edit info o premium account || changing data on Platinum account || I have a question about my PIN code reset || i lost the goddamn pwd of my account need help to restore it || want assistance to recover the PIN code of my user || how can i get information about lost key || help to retrieve my PIN code || I don't know what to do to restore my profile access key || have a question about a lost padsword || help me to retrieve my account access key || how to restore my user PIN? || find information about receiving ur newsletter || I need help to receive your fucking corporate newsletter || i want help unsubscribing to ur company newsletter || tell me more about the corporate newsletter subscription || need help unsubscribing from your company newsletter || I do not know how to receive the company newsletter || I try to subscribe to the newsletter || I want information about my company newsletter subscription || wanna know about signing up to ur newsletter || how to receive ur corporate newsltter || need to unsubscribe from ur newsletter || subscribe to company newsletter || I need information about the subscription to your newsletter || i need assistance receiving the coroorate newsletter || could I unsubscribe to the corporate newsletter? || help me tol subscribe to your company newsletter || where can I unsubscribe from your corporate newsletter? || I need to cancel the corporate newsletter subscription || can you help me canceling my subscription to the newsletter? || help me to cancel my subscription to your company newsletter || can you show me the status of m newsletter subscription? || i do not know what to do to speak with an assistant || i want assikstance to talk with an agent || could you help me set a fucking delivery address up? || I get eror messages when I try to set up my delivery address || I do not know how to report a problem with registrations || I'd like to report errors with registrations help me || i dont knos how to notify of issues with a registration || i have got to check the eaqrly exit penalty how can i do it || assistance checking the early termination penalties || how do I see the termination fees? || find invoice #00108 || check invoice from Mr. Jones || look for bill from David Miller || how do i write a comment for ur services || I need assistance to leave a review for your products || I do not know how to leave some feedback about your company || is there a method to submit feedback for your products? || i try to leave an opinion for ur company || writing comment for ur products || is there an address to leave an opinion about a product? || want help to write a review about ur products || can I write a review for your services? || where can I leave a review about a service? || need help to leave an opinion for your services || I try to send some feedback for a service || is there an e-mail to leave a review for a product ? || can ya help me to send my feedback for ur services || wanna leave a bloody opinion about ur servics || where can i leave a comment for ur company || I need help to leave my feedback for a product || i have to leave a rview about ur company i need assistance || I try to leave an opinion about a service || I am trying to leave feedback about a product || help to submit my feedback || open a gold account for my fiancee || icannot open a Freemium account || open premium account for bride || I need information about modifying my delivery address || where can I change my address? || i cant change my delivery address || what do I need to  do to request rebates? || refund 350 dollars || I am trying to demand a compensation || I want to obtain a restitution of my money, I need help || how can I request a restitution of my money ? || refunding$299 || can ya help me demandkng a damn rebate || i paid $1499 for this item help getting a compensation || receive money back || reimbursing 1200 dollars || can you help me obtain a reimbursement? || I try to demand a compensation || need to demand a refund of money || i want assistance obtaining fucking restitutions of money || I want to receive a refund of my money, can you help me? || I'm waiting for a reimbursement fo 1200 dollars || I expect a refund of $1200 || I'm waiting for a rebate of 160 dollars || i expect a restituton of 1499 dollars || I expect a restitution of $350 || I expect a restitution of 299 dollars || i expect a restitution of $350 || I expect a compensation of $299, was it processed || i expect a rebate of $1200 || I'm waiting for a refund of 299 dollars || I am trying to file as claim against your business || my experience with your service was bad, file a claim || help me to lodge a customer claim against your company || i need help to get the invoices from David Miller || help to get my invoices from David Miller || can ya help me to get the invoices from Anna Freeman || get invoice from Anna Freeman || get invoices from ten months ago || I lost my invoice #00108, could you mail it to me? || I have to get the bills from Ms. Hawkings, help me || I do not know how to get the bill from Mr. Smith || get bills from Mr. Jones\""
      ]
     },
     "execution_count": 52,
     "metadata": {},
     "output_type": "execute_result"
    }
   ],
   "source": [
    "raw_intent"
   ]
  },
  {
   "cell_type": "markdown",
   "metadata": {
    "azdata_cell_guid": "1528dca9-887a-4e55-a4d9-0bd96719b331",
    "id": "M5srXGNWb6v5"
   },
   "source": [
    "Let us now craft a prompt."
   ]
  },
  {
   "cell_type": "code",
   "execution_count": 53,
   "metadata": {
    "azdata_cell_guid": "f87df832-9bb0-44d7-a8e0-61b5d8d57654",
    "id": "Hgfkh6CrdUMC",
    "language": "sql"
   },
   "outputs": [],
   "source": [
    "prompt = f\"\"\"Extract the list of problems faced by the user from the following customer queries, separated by \" || \". A problem category should be a two word label. List out 10 unique problems\n",
    "Then, identify the top 5 most frequent problem encountered by the user.\n",
    "\n",
    "Customer queries:\n",
    "{raw_intent}\"\"\""
   ]
  },
  {
   "cell_type": "code",
   "execution_count": 54,
   "metadata": {
    "azdata_cell_guid": "e8e14e8d-caeb-4a61-a4fa-4771a83861b9",
    "id": "oRP_OrxJduG1",
    "language": "sql"
   },
   "outputs": [],
   "source": [
    "messages = [{'role':'user','content':prompt}]"
   ]
  },
  {
   "cell_type": "code",
   "execution_count": 55,
   "metadata": {
    "azdata_cell_guid": "382b4c38-e8ec-4c86-a0f8-7d3b5b783d30",
    "colab": {
     "base_uri": "https://localhost:8080/"
    },
    "id": "255GvuV3alEt",
    "language": "sql",
    "outputId": "65654e0e-fd3d-4fae-9aa7-6a15ac95d494"
   },
   "outputs": [
    {
     "name": "stdout",
     "output_type": "stream",
     "text": [
      "### List of Problems Faced by the User:\n",
      "1. **Account Switching**\n",
      "2. **Order Modification**\n",
      "3. **Payment Issues**\n",
      "4. **Order Tracking**\n",
      "5. **Subscription Management**\n",
      "6. **Profile Recovery**\n",
      "7. **Delivery Address**\n",
      "8. **Invoice Retrieval**\n",
      "9. **Refund Request**\n",
      "10. **Feedback Submission**\n",
      "\n",
      "### Top 5 Most Frequent Problems Encountered by the User:\n",
      "1. **Order Modification**\n",
      "2. **Payment Issues**\n",
      "3. **Order Tracking**\n",
      "4. **Account Switching**\n",
      "5. **Subscription Management**\n"
     ]
    }
   ],
   "source": [
    "response = client.chat.completions.create(\n",
    "    model=deployment_name,\n",
    "    messages=messages,\n",
    "    temperature = 0,\n",
    "    seed = 49\n",
    ")\n",
    "\n",
    "print(response.choices[0].message.content)"
   ]
  },
  {
   "cell_type": "markdown",
   "metadata": {
    "azdata_cell_guid": "db0a95bd-712c-4fbc-9a4f-12c9f8719da0",
    "id": "exBh5iTG0Eb7"
   },
   "source": [
    "The response from the LLM will vary every time we re-generate it. Since we are doing an unsupervised task and since the LLM has no concrete idea about the problem beforehand, it is expected that there will be some variance. We can iterate over this multiple times and check the outputs each times to figure out the most consistent responses. By doing that, we have a higher chance of actually finding out which of the labels is most frequent. Ideally this should be done on the whole data corpus. Each time sampling a different subset (so that we can fit the context length of the LLM). But in this case-study, we do not have the whole datset (thousands of customer queries). Hence, we don't need to sample the dataset. Instead, we can run the LLM through the data multiple times and find out the most frequent query category (most probably)."
   ]
  },
  {
   "cell_type": "markdown",
   "metadata": {
    "azdata_cell_guid": "f077181d-b86c-4469-beb1-aa621964af63",
    "id": "p2HznbCpeup0"
   },
   "source": [
    "You are encouraged to re-run the above cell multiple times (4-5) to check which are the most consistent labels. Find 2-3 labels that are most consistent in those runs. From our runs, we found the following labels consistent - Modifying order(change order), track order, payment issues, account related issues. Of these three labels, modifying orders, payment issues and lastly track order are the most important ones to fix as they are directly related to revenue. Account related issues is a second priority. Let's look at change order, track oder and payment issues can be further investigated at large scale to understand which of these three is most problematic.\n",
    "\n",
    "The whole classification task would have been a bigger project than actually correcting the three issues if it weren't for LLMs. The NLP classification itself would have taken multiple weeks. However, with LLMs, the whole task can be done within a week."
   ]
  },
  {
   "cell_type": "markdown",
   "metadata": {
    "azdata_cell_guid": "d717501a-8779-42b6-96e4-b795c5421c6c",
    "id": "lBB2Q_TneJPc"
   },
   "source": [
    "Using this preliminary exploration, a labeling team has been setup to categorize a sample of the data into the following categories - 'track order', 'change order', 'payment issues', and 'others'."
   ]
  },
  {
   "cell_type": "markdown",
   "metadata": {
    "azdata_cell_guid": "445ae552-e815-4247-8699-2edccd9b3a19",
    "id": "NsVHJ5A_unK9"
   },
   "source": [
    "Note: We recommend you use the labeled data provided even if your analysis has resulted in a different set of frequent categories (it is a rare chance). Since we have a synthetic data on our hands currently, and since the dataset is rather small, we have to make such choices."
   ]
  },
  {
   "cell_type": "markdown",
   "metadata": {
    "azdata_cell_guid": "d1dcd78d-c176-42e5-b1a6-651c8137a37a",
    "id": "7d33cYejtsFS"
   },
   "source": [
    "Let's import the labeled data."
   ]
  },
  {
   "cell_type": "code",
   "execution_count": 56,
   "metadata": {
    "azdata_cell_guid": "1e974aa5-82f6-4a65-926f-814b2507b06a",
    "id": "D-oEU6RSeMil",
    "language": "sql"
   },
   "outputs": [],
   "source": [
    "dataset_df = pd.read_csv(\"customer_intent_labeled.csv\")"
   ]
  },
  {
   "cell_type": "code",
   "execution_count": 57,
   "metadata": {
    "azdata_cell_guid": "c7e155f0-bf88-4fb5-b038-0073e2f4a6c7",
    "colab": {
     "base_uri": "https://localhost:8080/"
    },
    "id": "Df4YwD7WeXLU",
    "language": "sql",
    "outputId": "f96a7580-0a95-46e2-b91f-b2915a3ddd05"
   },
   "outputs": [
    {
     "data": {
      "text/plain": [
       "array(['others', 'change order', 'track order', 'payment issue'],\n",
       "      dtype=object)"
      ]
     },
     "execution_count": 57,
     "metadata": {},
     "output_type": "execute_result"
    }
   ],
   "source": [
    "dataset_df.task.unique()"
   ]
  },
  {
   "cell_type": "markdown",
   "metadata": {
    "azdata_cell_guid": "ec514846-db64-4875-b700-6e765a2de251",
    "id": "QH0UiBqD_riw"
   },
   "source": [
    "Let's check the different categories of customer inquiries."
   ]
  },
  {
   "cell_type": "code",
   "execution_count": 58,
   "metadata": {
    "azdata_cell_guid": "b4b02e0b-379b-443c-a3b1-b4c43c479f70",
    "id": "t9Qh5qHYaxG_",
    "language": "sql"
   },
   "outputs": [],
   "source": [
    "examples_df, gold_examples_df = train_test_split(\n",
    "    dataset_df, #<- the full dataset\n",
    "    test_size=0.6, #<- 60% random sample selected for gold examples as we will only need few examples for few-shot\n",
    "    random_state=42 #<- ensures that the splits are the same for every session\n",
    ")"
   ]
  },
  {
   "cell_type": "markdown",
   "metadata": {
    "azdata_cell_guid": "839abe56-b2f9-4703-a0de-49905a85506a",
    "id": "0OBQrTPk2JHH"
   },
   "source": [
    "Let's have a feel of the data before we move forward."
   ]
  },
  {
   "cell_type": "code",
   "execution_count": 59,
   "metadata": {
    "azdata_cell_guid": "f4ab89db-40dd-4eb8-a4a6-94e1b46363a1",
    "colab": {
     "base_uri": "https://localhost:8080/",
     "height": 363
    },
    "id": "7mWJSPJ5_rWk",
    "language": "sql",
    "outputId": "2bf28e14-5cd6-4c18-9b05-3ee687541f24"
   },
   "outputs": [
    {
     "data": {
      "application/vnd.google.colaboratory.intrinsic+json": {
       "summary": "{\n  \"name\": \"examples_df\",\n  \"rows\": 10,\n  \"fields\": [\n    {\n      \"column\": \"description\",\n      \"properties\": {\n        \"dtype\": \"string\",\n        \"num_unique_values\": 10,\n        \"samples\": [\n          \"i cant change my delivery address\",\n          \"can i add some articles to order 00004587345\",\n          \"how can i inform of problems with online payment\"\n        ],\n        \"semantic_type\": \"\",\n        \"description\": \"\"\n      }\n    },\n    {\n      \"column\": \"task\",\n      \"properties\": {\n        \"dtype\": \"category\",\n        \"num_unique_values\": 4,\n        \"samples\": [\n          \"others\",\n          \"payment issue\",\n          \"change order\"\n        ],\n        \"semantic_type\": \"\",\n        \"description\": \"\"\n      }\n    }\n  ]\n}",
       "type": "dataframe"
      },
      "text/html": [
       "\n",
       "  <div id=\"df-47e9a67e-a935-491d-8c5a-ba846f4c3317\" class=\"colab-df-container\">\n",
       "    <div>\n",
       "<style scoped>\n",
       "    .dataframe tbody tr th:only-of-type {\n",
       "        vertical-align: middle;\n",
       "    }\n",
       "\n",
       "    .dataframe tbody tr th {\n",
       "        vertical-align: top;\n",
       "    }\n",
       "\n",
       "    .dataframe thead th {\n",
       "        text-align: right;\n",
       "    }\n",
       "</style>\n",
       "<table border=\"1\" class=\"dataframe\">\n",
       "  <thead>\n",
       "    <tr style=\"text-align: right;\">\n",
       "      <th></th>\n",
       "      <th>description</th>\n",
       "      <th>task</th>\n",
       "    </tr>\n",
       "  </thead>\n",
       "  <tbody>\n",
       "    <tr>\n",
       "      <th>41</th>\n",
       "      <td>change order 370795561790</td>\n",
       "      <td>change order</td>\n",
       "    </tr>\n",
       "    <tr>\n",
       "      <th>61</th>\n",
       "      <td>can i add some articles to order 00004587345</td>\n",
       "      <td>change order</td>\n",
       "    </tr>\n",
       "    <tr>\n",
       "      <th>336</th>\n",
       "      <td>can ya help me demandkng a damn rebate</td>\n",
       "      <td>others</td>\n",
       "    </tr>\n",
       "    <tr>\n",
       "      <th>264</th>\n",
       "      <td>help to retrieve my PIN code</td>\n",
       "      <td>others</td>\n",
       "    </tr>\n",
       "    <tr>\n",
       "      <th>159</th>\n",
       "      <td>help to see the eta of order 732201349959</td>\n",
       "      <td>track order</td>\n",
       "    </tr>\n",
       "    <tr>\n",
       "      <th>240</th>\n",
       "      <td>how can i inform of problems with online payment</td>\n",
       "      <td>payment issue</td>\n",
       "    </tr>\n",
       "    <tr>\n",
       "      <th>162</th>\n",
       "      <td>tracking order 370795561790</td>\n",
       "      <td>track order</td>\n",
       "    </tr>\n",
       "    <tr>\n",
       "      <th>1</th>\n",
       "      <td>change to free account</td>\n",
       "      <td>others</td>\n",
       "    </tr>\n",
       "    <tr>\n",
       "      <th>329</th>\n",
       "      <td>i cant change my delivery address</td>\n",
       "      <td>others</td>\n",
       "    </tr>\n",
       "    <tr>\n",
       "      <th>102</th>\n",
       "      <td>where to check what payment options you accept?</td>\n",
       "      <td>others</td>\n",
       "    </tr>\n",
       "  </tbody>\n",
       "</table>\n",
       "</div>\n",
       "    <div class=\"colab-df-buttons\">\n",
       "\n",
       "  <div class=\"colab-df-container\">\n",
       "    <button class=\"colab-df-convert\" onclick=\"convertToInteractive('df-47e9a67e-a935-491d-8c5a-ba846f4c3317')\"\n",
       "            title=\"Convert this dataframe to an interactive table.\"\n",
       "            style=\"display:none;\">\n",
       "\n",
       "  <svg xmlns=\"http://www.w3.org/2000/svg\" height=\"24px\" viewBox=\"0 -960 960 960\">\n",
       "    <path d=\"M120-120v-720h720v720H120Zm60-500h600v-160H180v160Zm220 220h160v-160H400v160Zm0 220h160v-160H400v160ZM180-400h160v-160H180v160Zm440 0h160v-160H620v160ZM180-180h160v-160H180v160Zm440 0h160v-160H620v160Z\"/>\n",
       "  </svg>\n",
       "    </button>\n",
       "\n",
       "  <style>\n",
       "    .colab-df-container {\n",
       "      display:flex;\n",
       "      gap: 12px;\n",
       "    }\n",
       "\n",
       "    .colab-df-convert {\n",
       "      background-color: #E8F0FE;\n",
       "      border: none;\n",
       "      border-radius: 50%;\n",
       "      cursor: pointer;\n",
       "      display: none;\n",
       "      fill: #1967D2;\n",
       "      height: 32px;\n",
       "      padding: 0 0 0 0;\n",
       "      width: 32px;\n",
       "    }\n",
       "\n",
       "    .colab-df-convert:hover {\n",
       "      background-color: #E2EBFA;\n",
       "      box-shadow: 0px 1px 2px rgba(60, 64, 67, 0.3), 0px 1px 3px 1px rgba(60, 64, 67, 0.15);\n",
       "      fill: #174EA6;\n",
       "    }\n",
       "\n",
       "    .colab-df-buttons div {\n",
       "      margin-bottom: 4px;\n",
       "    }\n",
       "\n",
       "    [theme=dark] .colab-df-convert {\n",
       "      background-color: #3B4455;\n",
       "      fill: #D2E3FC;\n",
       "    }\n",
       "\n",
       "    [theme=dark] .colab-df-convert:hover {\n",
       "      background-color: #434B5C;\n",
       "      box-shadow: 0px 1px 3px 1px rgba(0, 0, 0, 0.15);\n",
       "      filter: drop-shadow(0px 1px 2px rgba(0, 0, 0, 0.3));\n",
       "      fill: #FFFFFF;\n",
       "    }\n",
       "  </style>\n",
       "\n",
       "    <script>\n",
       "      const buttonEl =\n",
       "        document.querySelector('#df-47e9a67e-a935-491d-8c5a-ba846f4c3317 button.colab-df-convert');\n",
       "      buttonEl.style.display =\n",
       "        google.colab.kernel.accessAllowed ? 'block' : 'none';\n",
       "\n",
       "      async function convertToInteractive(key) {\n",
       "        const element = document.querySelector('#df-47e9a67e-a935-491d-8c5a-ba846f4c3317');\n",
       "        const dataTable =\n",
       "          await google.colab.kernel.invokeFunction('convertToInteractive',\n",
       "                                                    [key], {});\n",
       "        if (!dataTable) return;\n",
       "\n",
       "        const docLinkHtml = 'Like what you see? Visit the ' +\n",
       "          '<a target=\"_blank\" href=https://colab.research.google.com/notebooks/data_table.ipynb>data table notebook</a>'\n",
       "          + ' to learn more about interactive tables.';\n",
       "        element.innerHTML = '';\n",
       "        dataTable['output_type'] = 'display_data';\n",
       "        await google.colab.output.renderOutput(dataTable, element);\n",
       "        const docLink = document.createElement('div');\n",
       "        docLink.innerHTML = docLinkHtml;\n",
       "        element.appendChild(docLink);\n",
       "      }\n",
       "    </script>\n",
       "  </div>\n",
       "\n",
       "\n",
       "<div id=\"df-dc10e746-4ba7-45ef-83fb-98a896897f4b\">\n",
       "  <button class=\"colab-df-quickchart\" onclick=\"quickchart('df-dc10e746-4ba7-45ef-83fb-98a896897f4b')\"\n",
       "            title=\"Suggest charts\"\n",
       "            style=\"display:none;\">\n",
       "\n",
       "<svg xmlns=\"http://www.w3.org/2000/svg\" height=\"24px\"viewBox=\"0 0 24 24\"\n",
       "     width=\"24px\">\n",
       "    <g>\n",
       "        <path d=\"M19 3H5c-1.1 0-2 .9-2 2v14c0 1.1.9 2 2 2h14c1.1 0 2-.9 2-2V5c0-1.1-.9-2-2-2zM9 17H7v-7h2v7zm4 0h-2V7h2v10zm4 0h-2v-4h2v4z\"/>\n",
       "    </g>\n",
       "</svg>\n",
       "  </button>\n",
       "\n",
       "<style>\n",
       "  .colab-df-quickchart {\n",
       "      --bg-color: #E8F0FE;\n",
       "      --fill-color: #1967D2;\n",
       "      --hover-bg-color: #E2EBFA;\n",
       "      --hover-fill-color: #174EA6;\n",
       "      --disabled-fill-color: #AAA;\n",
       "      --disabled-bg-color: #DDD;\n",
       "  }\n",
       "\n",
       "  [theme=dark] .colab-df-quickchart {\n",
       "      --bg-color: #3B4455;\n",
       "      --fill-color: #D2E3FC;\n",
       "      --hover-bg-color: #434B5C;\n",
       "      --hover-fill-color: #FFFFFF;\n",
       "      --disabled-bg-color: #3B4455;\n",
       "      --disabled-fill-color: #666;\n",
       "  }\n",
       "\n",
       "  .colab-df-quickchart {\n",
       "    background-color: var(--bg-color);\n",
       "    border: none;\n",
       "    border-radius: 50%;\n",
       "    cursor: pointer;\n",
       "    display: none;\n",
       "    fill: var(--fill-color);\n",
       "    height: 32px;\n",
       "    padding: 0;\n",
       "    width: 32px;\n",
       "  }\n",
       "\n",
       "  .colab-df-quickchart:hover {\n",
       "    background-color: var(--hover-bg-color);\n",
       "    box-shadow: 0 1px 2px rgba(60, 64, 67, 0.3), 0 1px 3px 1px rgba(60, 64, 67, 0.15);\n",
       "    fill: var(--button-hover-fill-color);\n",
       "  }\n",
       "\n",
       "  .colab-df-quickchart-complete:disabled,\n",
       "  .colab-df-quickchart-complete:disabled:hover {\n",
       "    background-color: var(--disabled-bg-color);\n",
       "    fill: var(--disabled-fill-color);\n",
       "    box-shadow: none;\n",
       "  }\n",
       "\n",
       "  .colab-df-spinner {\n",
       "    border: 2px solid var(--fill-color);\n",
       "    border-color: transparent;\n",
       "    border-bottom-color: var(--fill-color);\n",
       "    animation:\n",
       "      spin 1s steps(1) infinite;\n",
       "  }\n",
       "\n",
       "  @keyframes spin {\n",
       "    0% {\n",
       "      border-color: transparent;\n",
       "      border-bottom-color: var(--fill-color);\n",
       "      border-left-color: var(--fill-color);\n",
       "    }\n",
       "    20% {\n",
       "      border-color: transparent;\n",
       "      border-left-color: var(--fill-color);\n",
       "      border-top-color: var(--fill-color);\n",
       "    }\n",
       "    30% {\n",
       "      border-color: transparent;\n",
       "      border-left-color: var(--fill-color);\n",
       "      border-top-color: var(--fill-color);\n",
       "      border-right-color: var(--fill-color);\n",
       "    }\n",
       "    40% {\n",
       "      border-color: transparent;\n",
       "      border-right-color: var(--fill-color);\n",
       "      border-top-color: var(--fill-color);\n",
       "    }\n",
       "    60% {\n",
       "      border-color: transparent;\n",
       "      border-right-color: var(--fill-color);\n",
       "    }\n",
       "    80% {\n",
       "      border-color: transparent;\n",
       "      border-right-color: var(--fill-color);\n",
       "      border-bottom-color: var(--fill-color);\n",
       "    }\n",
       "    90% {\n",
       "      border-color: transparent;\n",
       "      border-bottom-color: var(--fill-color);\n",
       "    }\n",
       "  }\n",
       "</style>\n",
       "\n",
       "  <script>\n",
       "    async function quickchart(key) {\n",
       "      const quickchartButtonEl =\n",
       "        document.querySelector('#' + key + ' button');\n",
       "      quickchartButtonEl.disabled = true;  // To prevent multiple clicks.\n",
       "      quickchartButtonEl.classList.add('colab-df-spinner');\n",
       "      try {\n",
       "        const charts = await google.colab.kernel.invokeFunction(\n",
       "            'suggestCharts', [key], {});\n",
       "      } catch (error) {\n",
       "        console.error('Error during call to suggestCharts:', error);\n",
       "      }\n",
       "      quickchartButtonEl.classList.remove('colab-df-spinner');\n",
       "      quickchartButtonEl.classList.add('colab-df-quickchart-complete');\n",
       "    }\n",
       "    (() => {\n",
       "      let quickchartButtonEl =\n",
       "        document.querySelector('#df-dc10e746-4ba7-45ef-83fb-98a896897f4b button');\n",
       "      quickchartButtonEl.style.display =\n",
       "        google.colab.kernel.accessAllowed ? 'block' : 'none';\n",
       "    })();\n",
       "  </script>\n",
       "</div>\n",
       "\n",
       "    </div>\n",
       "  </div>\n"
      ],
      "text/plain": [
       "                                          description           task\n",
       "41                          change order 370795561790   change order\n",
       "61       can i add some articles to order 00004587345   change order\n",
       "336            can ya help me demandkng a damn rebate         others\n",
       "264                      help to retrieve my PIN code         others\n",
       "159         help to see the eta of order 732201349959    track order\n",
       "240  how can i inform of problems with online payment  payment issue\n",
       "162                       tracking order 370795561790    track order\n",
       "1                              change to free account         others\n",
       "329                 i cant change my delivery address         others\n",
       "102   where to check what payment options you accept?         others"
      ]
     },
     "execution_count": 59,
     "metadata": {},
     "output_type": "execute_result"
    }
   ],
   "source": [
    "examples_df.sample(10)"
   ]
  },
  {
   "cell_type": "code",
   "execution_count": 60,
   "metadata": {
    "azdata_cell_guid": "92cce40b-77b5-4349-ab28-776636b8828f",
    "id": "m1Z5EjrzLz6b",
    "language": "sql"
   },
   "outputs": [],
   "source": [
    "gold_examples = json.loads((gold_examples_df.sample(100, random_state=42).to_json(orient='records')\n",
    "))"
   ]
  },
  {
   "cell_type": "markdown",
   "metadata": {
    "azdata_cell_guid": "f2e2742d-daaf-4ca0-91a7-332fdd6b724f",
    "id": "OCTPfG6iJr1L"
   },
   "source": [
    "Let's derive prompts for this scenario."
   ]
  },
  {
   "cell_type": "markdown",
   "metadata": {
    "azdata_cell_guid": "12315b85-d587-4e59-8cdd-241fc13a018f",
    "id": "b0u9bqrrDutk"
   },
   "source": [
    "### Step 3: Derive Prompt"
   ]
  },
  {
   "cell_type": "markdown",
   "metadata": {
    "azdata_cell_guid": "f132e9f3-db61-4b28-8ccf-c7ec6b2295f9",
    "id": "sunRoyDMMbBu"
   },
   "source": [
    "#### Create prompts"
   ]
  },
  {
   "cell_type": "code",
   "execution_count": 61,
   "metadata": {
    "azdata_cell_guid": "46065eaa-1b4a-4e56-af57-423fe75e2dcc",
    "id": "Kx-5s0g_LZKM",
    "language": "sql"
   },
   "outputs": [],
   "source": [
    "user_message_template = \"\"\"```{description}```\"\"\""
   ]
  },
  {
   "cell_type": "markdown",
   "metadata": {
    "azdata_cell_guid": "9d22fc8f-5fd2-49f8-9705-8599124e21ab",
    "id": "GjvavZ2moPkm"
   },
   "source": [
    "**Zero-shot prompt**"
   ]
  },
  {
   "cell_type": "markdown",
   "metadata": {
    "azdata_cell_guid": "40c740c1-d344-4db9-89a1-54e68fdfe60c",
    "id": "JtbYpD84g4Ff"
   },
   "source": [
    "Let's craft our zero-shot such that the model doesn't respond with an explanation or output a new label that's not one of our pre-determined labels."
   ]
  },
  {
   "cell_type": "code",
   "execution_count": 62,
   "metadata": {
    "azdata_cell_guid": "4deceb27-0495-47e9-ad5e-6a642544cb6f",
    "id": "wKW9dlJuEewo",
    "language": "sql"
   },
   "outputs": [],
   "source": [
    "zero_shot_system_message = \"\"\"Classify the following product desciption presented in the input into one of the following categories.\n",
    "Categories - ['change order', 'track order', 'payment issue', 'others']\n",
    "Product description will be delimited by triple backticks in the input.\n",
    "Answer only 'change order',\n",
    " or 'track order', or 'payment issue',or 'others'. Nothing Else. Do not explain your answer.\n",
    "\"\"\""
   ]
  },
  {
   "cell_type": "code",
   "execution_count": 63,
   "metadata": {
    "azdata_cell_guid": "f818818c-30d8-4b7a-b8e3-846a112b5b96",
    "id": "_5SIubZXLhwM",
    "language": "sql"
   },
   "outputs": [],
   "source": [
    "zero_shot_prompt = [{'role':'system', 'content': zero_shot_system_message}]"
   ]
  },
  {
   "cell_type": "code",
   "execution_count": 64,
   "metadata": {
    "azdata_cell_guid": "2e6eee8f-3643-4318-ad7d-cb9b9acd2e25",
    "colab": {
     "base_uri": "https://localhost:8080/"
    },
    "id": "91PlM6xILifx",
    "language": "sql",
    "outputId": "15874fc8-6693-4386-dbce-76a46d060c48"
   },
   "outputs": [
    {
     "data": {
      "text/plain": [
       "85"
      ]
     },
     "execution_count": 64,
     "metadata": {},
     "output_type": "execute_result"
    }
   ],
   "source": [
    "num_tokens_from_messages(zero_shot_prompt)"
   ]
  },
  {
   "cell_type": "markdown",
   "metadata": {
    "azdata_cell_guid": "3bf126cd-6b9d-40ba-ae8c-7637d89d6a58",
    "id": "3Ar7GVoYoXWz"
   },
   "source": [
    "**Few-shot prompt**"
   ]
  },
  {
   "cell_type": "markdown",
   "metadata": {
    "azdata_cell_guid": "36e43097-2ed1-46c7-9b89-a56452d1f522",
    "id": "XQ8_s8Ng1_nC"
   },
   "source": [
    "Let's also create a few-shot prompt. We can evaluate both zero-shot and few-shot at the same time later."
   ]
  },
  {
   "cell_type": "code",
   "execution_count": 65,
   "metadata": {
    "azdata_cell_guid": "711c24a4-955d-4f80-aa5b-7de43517e2cf",
    "id": "Nw06_SbIoagf",
    "language": "sql"
   },
   "outputs": [],
   "source": [
    "few_shot_system_message = \"\"\"Classify the following product desciption presented in the input into one of the following categories.\n",
    "Categories - ['change order', 'track order', 'payment issue']\n",
    "Product description will be delimited by triple backticks in the input.\n",
    "Answer only 'change order', or 'track order', or 'payment issue'. Nothing Else. Do not explain your answer.\n",
    "\"\"\""
   ]
  },
  {
   "cell_type": "code",
   "execution_count": 66,
   "metadata": {
    "azdata_cell_guid": "9ca48c19-72ec-48e3-ab92-e173b591ea44",
    "id": "u7vL5Unzomo_",
    "language": "sql"
   },
   "outputs": [],
   "source": [
    "def create_examples(dataset, n=4):\n",
    "\n",
    "    \"\"\"\n",
    "    Return a JSON list of randomized examples of size 2n with two classes.\n",
    "    Create subsets of each class, choose random samples from the subsets,\n",
    "    merge and randomize the order of samples in the merged list.\n",
    "    Each run of this function creates a different random sample of examples\n",
    "    chosen from the training data.\n",
    "\n",
    "    Args:\n",
    "        dataset (DataFrame): A DataFrame with examples (text + label)\n",
    "        n (int): number of examples of each class to be selected\n",
    "\n",
    "    Output:\n",
    "        randomized_examples (JSON): A JSON with examples in random order\n",
    "    \"\"\"\n",
    "\n",
    "    task1 = (examples_df.task == 'change order')\n",
    "    task2 = (examples_df.task == 'track order')\n",
    "    task3 = (examples_df.task == 'payment issue')\n",
    "    task4 = (examples_df.task == 'others')\n",
    "\n",
    "    t1_examples = examples_df.loc[task1, :].sample(n)\n",
    "    t2_examples = examples_df.loc[task2, :].sample(n)\n",
    "    t3_examples = examples_df.loc[task3, :].sample(n)\n",
    "    t4_examples = examples_df.loc[task4, :].sample(n)\n",
    "    examples = pd.concat([t1_examples,t2_examples,t3_examples,t4_examples])\n",
    "    # sampling without replacement is equivalent to random shuffling\n",
    "    randomized_examples = examples.sample(4*n, replace=False)\n",
    "\n",
    "    return randomized_examples.to_json(orient='records')"
   ]
  },
  {
   "cell_type": "code",
   "execution_count": 67,
   "metadata": {
    "azdata_cell_guid": "1842634c-a2ab-4c7b-a772-68e38a41f05d",
    "id": "jMsCe7VYqKM1",
    "language": "sql"
   },
   "outputs": [],
   "source": [
    "def create_prompt(system_message, examples, user_message_template):\n",
    "\n",
    "    \"\"\"\n",
    "    Return a prompt message in the format expected by the Open AI API.\n",
    "    Loop through the examples and parse them as user message and assistant\n",
    "    message.\n",
    "\n",
    "    Args:\n",
    "        system_message (str): Instructions for the model for classfication\n",
    "        examples (JSON): JSON list of examples representative of each category\n",
    "        user_message_template (str): string with a placeholder for query\n",
    "\n",
    "    Output:\n",
    "        few_shot_prompt (List): A list of dictionaries in the Open AI prompt format\n",
    "    \"\"\"\n",
    "\n",
    "    few_shot_prompt = [{'role':'system', 'content': system_message}]\n",
    "\n",
    "    for example in json.loads(examples):\n",
    "\n",
    "        few_shot_prompt.append(\n",
    "            {\n",
    "                'role': 'user',\n",
    "                'content': user_message_template.format(\n",
    "                    description=example['description']\n",
    "                )\n",
    "            }\n",
    "        )\n",
    "\n",
    "        few_shot_prompt.append(\n",
    "            {'role': 'assistant', 'content': f\"{example['task']}\"}\n",
    "        )\n",
    "\n",
    "    return few_shot_prompt"
   ]
  },
  {
   "cell_type": "code",
   "execution_count": 68,
   "metadata": {
    "azdata_cell_guid": "580a2ce8-8c92-4e56-a33a-9e7fe123e758",
    "id": "8X4wsf5VqqOg",
    "language": "sql"
   },
   "outputs": [],
   "source": [
    "examples = create_examples(examples_df,2)\n",
    "gold_examples = create_examples(gold_examples_df,10)\n",
    "few_shot_prompt = create_prompt(few_shot_system_message, examples, user_message_template)"
   ]
  },
  {
   "cell_type": "code",
   "execution_count": 69,
   "metadata": {
    "azdata_cell_guid": "677f89a4-4f11-4db2-9942-33f6561a1775",
    "colab": {
     "base_uri": "https://localhost:8080/"
    },
    "id": "MkbMhgUqiSlt",
    "language": "sql",
    "outputId": "2ab1a3ee-b16c-4514-8da3-7628edc12e15"
   },
   "outputs": [
    {
     "data": {
      "text/plain": [
       "{'description': 'editing account', 'task': 'others'}"
      ]
     },
     "execution_count": 69,
     "metadata": {},
     "output_type": "execute_result"
    }
   ],
   "source": [
    "json.loads(gold_examples)[0]"
   ]
  },
  {
   "cell_type": "markdown",
   "metadata": {
    "azdata_cell_guid": "6aac0738-68e1-46f7-9aaa-b232b20da691",
    "id": "Q8NRyBTUxRPL"
   },
   "source": [
    "Let's check the few shot prompt."
   ]
  },
  {
   "cell_type": "code",
   "execution_count": 70,
   "metadata": {
    "azdata_cell_guid": "900715de-22eb-4a9c-846e-14e7fe62175f",
    "colab": {
     "base_uri": "https://localhost:8080/"
    },
    "id": "YREwWcXWWkZa",
    "language": "sql",
    "outputId": "73ea09df-f1ce-4bdc-c0ac-1f7f107e0e4b"
   },
   "outputs": [
    {
     "data": {
      "text/plain": [
       "[{'role': 'system',\n",
       "  'content': \"Classify the following product desciption presented in the input into one of the following categories.\\nCategories - ['change order', 'track order', 'payment issue']\\nProduct description will be delimited by triple backticks in the input.\\nAnswer only 'change order', or 'track order', or 'payment issue'. Nothing Else. Do not explain your answer.\\n\"},\n",
       " {'role': 'user',\n",
       "  'content': '```can you help me to notify of a fucking problem with payment?```'},\n",
       " {'role': 'assistant', 'content': 'payment issue'},\n",
       " {'role': 'user', 'content': '```change purchase 113542617735902```'},\n",
       " {'role': 'assistant', 'content': 'change order'},\n",
       " {'role': 'user',\n",
       "  'content': '```I want information about my company newsletter subscription```'},\n",
       " {'role': 'assistant', 'content': 'others'},\n",
       " {'role': 'user', 'content': '```edit order 732201349959```'},\n",
       " {'role': 'assistant', 'content': 'change order'},\n",
       " {'role': 'user',\n",
       "  'content': '```how could I see your allowed payment modalities?```'},\n",
       " {'role': 'assistant', 'content': 'others'},\n",
       " {'role': 'user',\n",
       "  'content': '```i want assistance to inform of an issue with payment```'},\n",
       " {'role': 'assistant', 'content': 'payment issue'},\n",
       " {'role': 'user',\n",
       "  'content': '```assistance to see purchase 370795561790 status```'},\n",
       " {'role': 'assistant', 'content': 'track order'},\n",
       " {'role': 'user',\n",
       "  'content': '```how to see the ETA of the purchase 732201349959?```'},\n",
       " {'role': 'assistant', 'content': 'track order'}]"
      ]
     },
     "execution_count": 70,
     "metadata": {},
     "output_type": "execute_result"
    }
   ],
   "source": [
    "few_shot_prompt"
   ]
  },
  {
   "cell_type": "markdown",
   "metadata": {
    "azdata_cell_guid": "446d35d9-39b1-4609-a62b-e5a29ad4fe9d",
    "id": "zaOqdj8hMmnZ"
   },
   "source": [
    "#### Evaluate prompts"
   ]
  },
  {
   "cell_type": "markdown",
   "metadata": {
    "azdata_cell_guid": "9589bfbc-cf84-40cf-b6b9-9e98a2421b5b",
    "id": "fEMKfieozF0P"
   },
   "source": [
    "Let's evaluate our zero-shot and few-shot prompts."
   ]
  },
  {
   "cell_type": "code",
   "execution_count": 71,
   "metadata": {
    "azdata_cell_guid": "0f6cfdfc-f3d0-4987-b7d3-4db52ed736bd",
    "id": "1ZOXJpIGMoc-",
    "language": "sql"
   },
   "outputs": [],
   "source": [
    "def evaluate_prompt(prompt, gold_examples, user_message_template, samples_to_output = 10):\n",
    "\n",
    "    \"\"\"\n",
    "    Return the accuracy for predictions on gold examples.\n",
    "    For each example, we make a prediction using the prompt. Gold labels and\n",
    "    model predictions are aggregated into lists and compared to compute the\n",
    "    accuracy.\n",
    "\n",
    "    Args:\n",
    "        prompt (List): list of messages in the Open AI prompt format\n",
    "        gold_examples (str): JSON string with list of gold examples\n",
    "        user_message_template (str): string with a placeholder for description\n",
    "        samples_to_output (int): number of sample predictions and ground truths to print\n",
    "\n",
    "    Output:\n",
    "        accuracy (float): accuracy score computed by comparing model predictions\n",
    "                                with ground truth\n",
    "    \"\"\"\n",
    "    count = 0\n",
    "    model_predictions, ground_truths = [], []\n",
    "\n",
    "    # Iterating through all the gold examples and constructing the messages dictionary using the text from example\n",
    "\n",
    "    for example in json.loads(gold_examples):\n",
    "        gold_input = example['description']\n",
    "        user_input = [\n",
    "            {\n",
    "                'role':'user',\n",
    "                'content': user_message_template.format(description=gold_input)\n",
    "            }\n",
    "        ]\n",
    "\n",
    "        try:\n",
    "            response = client.chat.completions.create(\n",
    "                model=deployment_name,\n",
    "                messages=prompt+user_input,\n",
    "                temperature=0, # <- Note the low temperature\n",
    "                max_tokens=4 # <- Note how we restrict the output to not more than 2 tokens\n",
    "            )\n",
    "\n",
    "            prediction = response.choices[0].message.content\n",
    "            model_predictions.append(prediction.strip().lower()) # <- removes extraneous white space and lowercases output\n",
    "            ground_truths.append(example['task'].strip().lower())\n",
    "\n",
    "            if count < samples_to_output:\n",
    "              count += 1\n",
    "              print(\"Original label: \\n\", example['task'],\"\\n\")\n",
    "              print(\"Predicted label: \\n\", prediction)\n",
    "              print(\"================================\")\n",
    "\n",
    "        except Exception as e:\n",
    "            print(e)\n",
    "            continue\n",
    "\n",
    "\n",
    "    accuracy = accuracy_score(ground_truths, model_predictions)\n",
    "\n",
    "    return accuracy"
   ]
  },
  {
   "cell_type": "code",
   "execution_count": 72,
   "metadata": {
    "azdata_cell_guid": "ac121089-bfae-45c7-943e-49d7109c482c",
    "colab": {
     "base_uri": "https://localhost:8080/"
    },
    "id": "Ehpfuk8ZN0ed",
    "language": "sql",
    "outputId": "acace0c7-379c-4fe3-9003-22cd1931e966"
   },
   "outputs": [
    {
     "name": "stdout",
     "output_type": "stream",
     "text": [
      "Original label: \n",
      " others \n",
      "\n",
      "Predicted label: \n",
      " others\n",
      "================================\n",
      "Original label: \n",
      " change order \n",
      "\n",
      "Predicted label: \n",
      " change order\n",
      "================================\n",
      "Original label: \n",
      " others \n",
      "\n",
      "Predicted label: \n",
      " change order\n",
      "================================\n",
      "Original label: \n",
      " track order \n",
      "\n",
      "Predicted label: \n",
      " track order\n",
      "================================\n",
      "Original label: \n",
      " payment issue \n",
      "\n",
      "Predicted label: \n",
      " payment issue\n",
      "================================\n",
      "Original label: \n",
      " others \n",
      "\n",
      "Predicted label: \n",
      " others\n",
      "================================\n",
      "Original label: \n",
      " others \n",
      "\n",
      "Predicted label: \n",
      " track order\n",
      "================================\n",
      "Original label: \n",
      " track order \n",
      "\n",
      "Predicted label: \n",
      " track order\n",
      "================================\n",
      "Original label: \n",
      " change order \n",
      "\n",
      "Predicted label: \n",
      " change order\n",
      "================================\n",
      "Original label: \n",
      " payment issue \n",
      "\n",
      "Predicted label: \n",
      " payment issue\n",
      "================================\n"
     ]
    },
    {
     "data": {
      "text/plain": [
       "0.95"
      ]
     },
     "execution_count": 72,
     "metadata": {},
     "output_type": "execute_result"
    }
   ],
   "source": [
    "evaluate_prompt(zero_shot_prompt, gold_examples, user_message_template)"
   ]
  },
  {
   "cell_type": "code",
   "execution_count": 73,
   "metadata": {
    "azdata_cell_guid": "f180ab50-e031-45d0-9839-d12b804404fc",
    "colab": {
     "base_uri": "https://localhost:8080/"
    },
    "id": "Hxli5e04rNaM",
    "language": "sql",
    "outputId": "a1be921e-2cbb-4075-fbdc-6028e8e43113"
   },
   "outputs": [
    {
     "name": "stdout",
     "output_type": "stream",
     "text": [
      "Original label: \n",
      " others \n",
      "\n",
      "Predicted label: \n",
      " others\n",
      "================================\n",
      "Original label: \n",
      " change order \n",
      "\n",
      "Predicted label: \n",
      " change order\n",
      "================================\n",
      "Original label: \n",
      " others \n",
      "\n",
      "Predicted label: \n",
      " others\n",
      "================================\n",
      "Original label: \n",
      " track order \n",
      "\n",
      "Predicted label: \n",
      " track order\n",
      "================================\n",
      "Original label: \n",
      " payment issue \n",
      "\n",
      "Predicted label: \n",
      " payment issue\n",
      "================================\n",
      "Original label: \n",
      " others \n",
      "\n",
      "Predicted label: \n",
      " others\n",
      "================================\n",
      "Original label: \n",
      " others \n",
      "\n",
      "Predicted label: \n",
      " track order\n",
      "================================\n",
      "Original label: \n",
      " track order \n",
      "\n",
      "Predicted label: \n",
      " track order\n",
      "================================\n",
      "Original label: \n",
      " change order \n",
      "\n",
      "Predicted label: \n",
      " change order\n",
      "================================\n",
      "Original label: \n",
      " payment issue \n",
      "\n",
      "Predicted label: \n",
      " payment issue\n",
      "================================\n"
     ]
    },
    {
     "data": {
      "text/plain": [
       "0.975"
      ]
     },
     "execution_count": 73,
     "metadata": {},
     "output_type": "execute_result"
    }
   ],
   "source": [
    "evaluate_prompt(few_shot_prompt, gold_examples, user_message_template)"
   ]
  },
  {
   "cell_type": "markdown",
   "metadata": {
    "azdata_cell_guid": "15f577df-b075-4943-a69c-7030608a1e05",
    "id": "g3iYvr8ZKH4b"
   },
   "source": [
    "That is a good result! Let's see if it is consistent across multiple samples."
   ]
  },
  {
   "cell_type": "code",
   "execution_count": 74,
   "metadata": {
    "azdata_cell_guid": "617b77a5-cd2c-4548-9cb8-5fd7e668dd1f",
    "id": "SB2aVW4ht80U",
    "language": "sql"
   },
   "outputs": [],
   "source": [
    "num_eval_runs = 5"
   ]
  },
  {
   "cell_type": "code",
   "execution_count": 75,
   "metadata": {
    "azdata_cell_guid": "79ee80db-5212-45de-8766-a2e2e823aad9",
    "id": "dhwA3hMlt80f",
    "language": "sql"
   },
   "outputs": [],
   "source": [
    "few_shot_performance = []"
   ]
  },
  {
   "cell_type": "markdown",
   "metadata": {
    "azdata_cell_guid": "326d78b7-2ede-4478-9c80-dcaffa5b2144",
    "id": "1q-wlEuOzsV1"
   },
   "source": [
    "Let's modify the original evaluate function in such a way that it prints the accuracy for every ground truth label and the overall accuracy for every round of evaluation."
   ]
  },
  {
   "cell_type": "code",
   "execution_count": 76,
   "metadata": {
    "azdata_cell_guid": "d91d52b5-b9d8-4f9f-9502-351d24065cdb",
    "id": "N5aoIO1_zGh_",
    "language": "sql"
   },
   "outputs": [],
   "source": [
    "def evaluate_prompt(prompt, gold_examples, user_message_template,samples_to_output = 10):\n",
    "\n",
    "    \"\"\"\n",
    "    Return the accuracy score for predictions on gold examples.\n",
    "    For each example, we make a prediction using the prompt. Gold labels and\n",
    "    model predictions are aggregated into lists and compared to compute the\n",
    "    accuracy.\n",
    "\n",
    "    Args:\n",
    "        prompt (List): list of messages in the Open AI prompt format\n",
    "        gold_examples (str): JSON string with list of gold examples\n",
    "        user_message_template (str): string with a placeholder for description.\n",
    "        samples_to_output (int): number of sample predictions and ground truths to print\n",
    "\n",
    "    Output:\n",
    "        accuracy (float): accuracy score computed by comparing model predictions\n",
    "                                with ground truth\n",
    "    \"\"\"\n",
    "    count = 0\n",
    "    model_predictions, ground_truths = [], []\n",
    "\n",
    "    # Iterating through all the gold examples and constructing the messages dictionary using the text from example\n",
    "\n",
    "    for example in json.loads(gold_examples):\n",
    "        gold_input = example['description']\n",
    "        user_input = [\n",
    "            {\n",
    "                'role':'user',\n",
    "                'content': user_message_template.format(description=gold_input)\n",
    "            }\n",
    "        ]\n",
    "\n",
    "        try:\n",
    "            response = client.chat.completions.create(\n",
    "                model=deployment_name,\n",
    "                messages=prompt+user_input,\n",
    "                temperature=0, # <- Note the low temperature\n",
    "                max_tokens=4 # <- Note how we restrict the output to not more than 2 tokens\n",
    "            )\n",
    "\n",
    "            prediction = response.choices[0].message.content\n",
    "            while count < samples_to_output:\n",
    "              count += 1\n",
    "              print(\"Original label: \\n\", example['task'],\"\\n\")\n",
    "              print(\"Predicted label: \\n\", prediction)\n",
    "\n",
    "\n",
    "            model_predictions.append(prediction.strip().lower()) # <- removes extraneous white space and lowercases output\n",
    "            ground_truths.append(example['task'].strip().lower())\n",
    "\n",
    "        except Exception as e:\n",
    "            print(e)\n",
    "            continue\n",
    "\n",
    "\n",
    "    # Find the accuracy of each category.\n",
    "\n",
    "    df = pd.DataFrame({\n",
    "    'Predictions': model_predictions,\n",
    "    'Ground Truth': ground_truths\n",
    "    })\n",
    "    labels = df['Ground Truth'].unique()\n",
    "\n",
    "    # Create a new DataFrame for the accuracies\n",
    "    accuracy_df = pd.DataFrame(columns=labels)\n",
    "\n",
    "    for label in labels:\n",
    "        # Filter rows where Ground Truth is the current label\n",
    "        subset = df[df['Ground Truth'] == label]\n",
    "\n",
    "        # Calculate accuracy for the current label\n",
    "        accuracy = accuracy_score(subset['Ground Truth'], subset['Predictions'])\n",
    "\n",
    "        # Add accuracy to the DataFrame\n",
    "        accuracy_df.loc[0, label] = accuracy\n",
    "\n",
    "    print(\"\\n\\n\", accuracy_df)\n",
    "    print(\"====================================================\")\n",
    "\n",
    "    accuracy = accuracy_score(ground_truths, model_predictions)\n",
    "\n",
    "    return accuracy"
   ]
  },
  {
   "cell_type": "code",
   "execution_count": 77,
   "metadata": {
    "azdata_cell_guid": "2397fc17-a87c-4ec6-a815-52403dcf5085",
    "colab": {
     "base_uri": "https://localhost:8080/"
    },
    "id": "GAbDg7tRt80f",
    "language": "sql",
    "outputId": "dcf58517-bf9a-41cc-d66a-ddf591e27cfc"
   },
   "outputs": [
    {
     "name": "stderr",
     "output_type": "stream",
     "text": [
      "\r  0%|          | 0/5 [00:00<?, ?it/s]"
     ]
    },
    {
     "name": "stdout",
     "output_type": "stream",
     "text": [
      "Original label: \n",
      " others \n",
      "\n",
      "Predicted label: \n",
      " others\n",
      "Original label: \n",
      " others \n",
      "\n",
      "Predicted label: \n",
      " others\n",
      "Original label: \n",
      " others \n",
      "\n",
      "Predicted label: \n",
      " others\n",
      "Original label: \n",
      " others \n",
      "\n",
      "Predicted label: \n",
      " others\n",
      "Original label: \n",
      " others \n",
      "\n",
      "Predicted label: \n",
      " others\n",
      "Original label: \n",
      " others \n",
      "\n",
      "Predicted label: \n",
      " others\n",
      "Original label: \n",
      " others \n",
      "\n",
      "Predicted label: \n",
      " others\n",
      "Original label: \n",
      " others \n",
      "\n",
      "Predicted label: \n",
      " others\n",
      "Original label: \n",
      " others \n",
      "\n",
      "Predicted label: \n",
      " others\n",
      "Original label: \n",
      " others \n",
      "\n",
      "Predicted label: \n",
      " others\n"
     ]
    },
    {
     "name": "stderr",
     "output_type": "stream",
     "text": [
      "\r 20%|██        | 1/5 [00:12<00:50, 12.71s/it]"
     ]
    },
    {
     "name": "stdout",
     "output_type": "stream",
     "text": [
      "\n",
      "\n",
      "   others change order track order payment issue\n",
      "0    0.9          1.0         1.0           1.0\n",
      "====================================================\n",
      "Original label: \n",
      " others \n",
      "\n",
      "Predicted label: \n",
      " others\n",
      "Original label: \n",
      " others \n",
      "\n",
      "Predicted label: \n",
      " others\n",
      "Original label: \n",
      " others \n",
      "\n",
      "Predicted label: \n",
      " others\n",
      "Original label: \n",
      " others \n",
      "\n",
      "Predicted label: \n",
      " others\n",
      "Original label: \n",
      " others \n",
      "\n",
      "Predicted label: \n",
      " others\n",
      "Original label: \n",
      " others \n",
      "\n",
      "Predicted label: \n",
      " others\n",
      "Original label: \n",
      " others \n",
      "\n",
      "Predicted label: \n",
      " others\n",
      "Original label: \n",
      " others \n",
      "\n",
      "Predicted label: \n",
      " others\n",
      "Original label: \n",
      " others \n",
      "\n",
      "Predicted label: \n",
      " others\n",
      "Original label: \n",
      " others \n",
      "\n",
      "Predicted label: \n",
      " others\n"
     ]
    },
    {
     "name": "stderr",
     "output_type": "stream",
     "text": [
      "\r 40%|████      | 2/5 [00:27<00:41, 13.91s/it]"
     ]
    },
    {
     "name": "stdout",
     "output_type": "stream",
     "text": [
      "\n",
      "\n",
      "   others change order track order payment issue\n",
      "0    0.9          1.0         1.0           1.0\n",
      "====================================================\n",
      "Original label: \n",
      " others \n",
      "\n",
      "Predicted label: \n",
      " others\n",
      "Original label: \n",
      " others \n",
      "\n",
      "Predicted label: \n",
      " others\n",
      "Original label: \n",
      " others \n",
      "\n",
      "Predicted label: \n",
      " others\n",
      "Original label: \n",
      " others \n",
      "\n",
      "Predicted label: \n",
      " others\n",
      "Original label: \n",
      " others \n",
      "\n",
      "Predicted label: \n",
      " others\n",
      "Original label: \n",
      " others \n",
      "\n",
      "Predicted label: \n",
      " others\n",
      "Original label: \n",
      " others \n",
      "\n",
      "Predicted label: \n",
      " others\n",
      "Original label: \n",
      " others \n",
      "\n",
      "Predicted label: \n",
      " others\n",
      "Original label: \n",
      " others \n",
      "\n",
      "Predicted label: \n",
      " others\n",
      "Original label: \n",
      " others \n",
      "\n",
      "Predicted label: \n",
      " others\n"
     ]
    },
    {
     "name": "stderr",
     "output_type": "stream",
     "text": [
      "\r 60%|██████    | 3/5 [00:42<00:29, 14.65s/it]"
     ]
    },
    {
     "name": "stdout",
     "output_type": "stream",
     "text": [
      "\n",
      "\n",
      "   others change order track order payment issue\n",
      "0    0.9          1.0         1.0           1.0\n",
      "====================================================\n",
      "Original label: \n",
      " others \n",
      "\n",
      "Predicted label: \n",
      " others\n",
      "Original label: \n",
      " others \n",
      "\n",
      "Predicted label: \n",
      " others\n",
      "Original label: \n",
      " others \n",
      "\n",
      "Predicted label: \n",
      " others\n",
      "Original label: \n",
      " others \n",
      "\n",
      "Predicted label: \n",
      " others\n",
      "Original label: \n",
      " others \n",
      "\n",
      "Predicted label: \n",
      " others\n",
      "Original label: \n",
      " others \n",
      "\n",
      "Predicted label: \n",
      " others\n",
      "Original label: \n",
      " others \n",
      "\n",
      "Predicted label: \n",
      " others\n",
      "Original label: \n",
      " others \n",
      "\n",
      "Predicted label: \n",
      " others\n",
      "Original label: \n",
      " others \n",
      "\n",
      "Predicted label: \n",
      " others\n",
      "Original label: \n",
      " others \n",
      "\n",
      "Predicted label: \n",
      " others\n"
     ]
    },
    {
     "name": "stderr",
     "output_type": "stream",
     "text": [
      "\r 80%|████████  | 4/5 [00:55<00:13, 13.95s/it]"
     ]
    },
    {
     "name": "stdout",
     "output_type": "stream",
     "text": [
      "\n",
      "\n",
      "   others change order track order payment issue\n",
      "0    0.9          1.0         1.0           1.0\n",
      "====================================================\n",
      "Original label: \n",
      " others \n",
      "\n",
      "Predicted label: \n",
      " others\n",
      "Original label: \n",
      " others \n",
      "\n",
      "Predicted label: \n",
      " others\n",
      "Original label: \n",
      " others \n",
      "\n",
      "Predicted label: \n",
      " others\n",
      "Original label: \n",
      " others \n",
      "\n",
      "Predicted label: \n",
      " others\n",
      "Original label: \n",
      " others \n",
      "\n",
      "Predicted label: \n",
      " others\n",
      "Original label: \n",
      " others \n",
      "\n",
      "Predicted label: \n",
      " others\n",
      "Original label: \n",
      " others \n",
      "\n",
      "Predicted label: \n",
      " others\n",
      "Original label: \n",
      " others \n",
      "\n",
      "Predicted label: \n",
      " others\n",
      "Original label: \n",
      " others \n",
      "\n",
      "Predicted label: \n",
      " others\n",
      "Original label: \n",
      " others \n",
      "\n",
      "Predicted label: \n",
      " others\n"
     ]
    },
    {
     "name": "stderr",
     "output_type": "stream",
     "text": [
      "100%|██████████| 5/5 [01:09<00:00, 13.99s/it]"
     ]
    },
    {
     "name": "stdout",
     "output_type": "stream",
     "text": [
      "\n",
      "\n",
      "   others change order track order payment issue\n",
      "0    0.9          1.0         1.0           1.0\n",
      "====================================================\n"
     ]
    },
    {
     "name": "stderr",
     "output_type": "stream",
     "text": [
      "\n"
     ]
    }
   ],
   "source": [
    "for _ in tqdm(range(num_eval_runs)):\n",
    "\n",
    "    # For each run create a new sample of examples\n",
    "    examples = create_examples(dataset_df)\n",
    "\n",
    "    # Assemble the few shot prompt with these examples\n",
    "    few_shot_prompt = create_prompt(few_shot_system_message, examples, user_message_template)\n",
    "\n",
    "    # Evaluate prompt accuracy on gold examples\n",
    "    few_shot_accuracy = evaluate_prompt(few_shot_prompt, gold_examples, user_message_template)\n",
    "\n",
    "    few_shot_performance.append(few_shot_accuracy)\n"
   ]
  },
  {
   "cell_type": "markdown",
   "metadata": {
    "azdata_cell_guid": "7d9e8c9a-daa1-4b56-a52b-c3f1c8790962",
    "id": "xKAufBsy_Dhw"
   },
   "source": [
    "Let's check the average accuracy across runs"
   ]
  },
  {
   "cell_type": "code",
   "execution_count": 78,
   "metadata": {
    "azdata_cell_guid": "cc5eb043-8d77-47bb-a8d7-164abe8a8441",
    "colab": {
     "base_uri": "https://localhost:8080/"
    },
    "id": "0ti6Y2kAt80f",
    "language": "sql",
    "outputId": "4e3d0884-cbe9-46a2-e771-f3e466dc14dd"
   },
   "outputs": [
    {
     "data": {
      "text/plain": [
       "(0.975, 0.0)"
      ]
     },
     "execution_count": 78,
     "metadata": {},
     "output_type": "execute_result"
    }
   ],
   "source": [
    "np.array(few_shot_performance).mean(), np.array(few_shot_performance).std()"
   ]
  },
  {
   "cell_type": "markdown",
   "metadata": {
    "azdata_cell_guid": "04f9d712-ff4d-4d4d-8352-f2c02581e315",
    "id": "cuBvJYn2meJa"
   },
   "source": [
    "We got a good result with few-shot technique across multiple samples."
   ]
  },
  {
   "cell_type": "markdown",
   "metadata": {
    "azdata_cell_guid": "71d39129-52db-4acd-960d-ff49511db393",
    "id": "XUSpbECim02x"
   },
   "source": [
    "We can observe that most of the mislabeling is happening the specific case where the original label was others and then the LLM instead of placing it in others is misclassifying it into the other categories. Majority of the inaccuracy is thus from this case. This particular case is not that troubling for the business. The opposite of this, which is classifying a label that is not labelled as others into others will mean that an important issue has been mislabeled into a non-major label."
   ]
  },
  {
   "cell_type": "markdown",
   "metadata": {
    "azdata_cell_guid": "755951d2-711c-4887-8f51-25475d27803b",
    "id": "gOspY85t1UZ1"
   },
   "source": [
    "We can also manually check these missed cases to analyze this further."
   ]
  },
  {
   "cell_type": "markdown",
   "metadata": {
    "azdata_cell_guid": "5134d941-7087-4177-b5d6-f7e64e184bc6",
    "id": "v7IDjb6a1ja2"
   },
   "source": [
    "Let's modify the evaluate prompt so that it prints the query along with the ground truth label and prediction. This will help us see where the LLM is getting it wrong."
   ]
  },
  {
   "cell_type": "code",
   "execution_count": 79,
   "metadata": {
    "azdata_cell_guid": "42fa88e3-4993-415c-8cec-77d887f19ae6",
    "id": "N8x89Ovv1fP_",
    "language": "sql"
   },
   "outputs": [],
   "source": [
    "def evaluate_prompt(prompt, gold_examples, user_message_template,samples_to_output = 10):\n",
    "\n",
    "    \"\"\"\n",
    "    Return the accuracy score for predictions on gold examples.\n",
    "    For each example, we make a prediction using the prompt. Gold labels and\n",
    "    model predictions are aggregated into lists and compared to compute the\n",
    "    accuracy.\n",
    "\n",
    "    Args:\n",
    "        prompt (List): list of messages in the Open AI prompt format\n",
    "        gold_examples (str): JSON string with list of gold examples\n",
    "        user_message_template (str): string with a placeholder for description\n",
    "        samples_to_output (int): number of sample predictions and ground truths to print\n",
    "\n",
    "    Output:\n",
    "        accuracy (float): accuracy score computed by comparing model predictions\n",
    "                                with ground truth\n",
    "    \"\"\"\n",
    "    count = 0\n",
    "    model_predictions, ground_truths = [], []\n",
    "\n",
    "    # Iterating through all the gold examples and constructing the messages dictionary using the text from example\n",
    "\n",
    "    for example in json.loads(gold_examples):\n",
    "        gold_input = example['description']\n",
    "        user_input = [\n",
    "            {\n",
    "                'role':'user',\n",
    "                'content': user_message_template.format(description=gold_input)\n",
    "            }\n",
    "        ]\n",
    "\n",
    "        try:\n",
    "            response = client.chat.completions.create(\n",
    "                model=deployment_name,\n",
    "                messages=prompt+user_input,\n",
    "                temperature=0, # <- Note the low temperature\n",
    "                max_tokens=4 # <- Note how we restrict the output to not more than 2 tokens\n",
    "            )\n",
    "\n",
    "            prediction = response.choices[0].message.content\n",
    "            while count < samples_to_output:\n",
    "              count += 1\n",
    "              print(\"Description: \\n\", example['description'],\"\\n\")\n",
    "              print(\"Original label: \\n\", example['task'],\"\\n\")\n",
    "              print(\"Predicted label: \\n\", prediction)\n",
    "              print(\"====================================================\")\n",
    "            model_predictions.append(prediction.strip().lower()) # <- removes extraneous white space and lowercases output\n",
    "            ground_truths.append(example['task'].strip().lower())\n",
    "\n",
    "        except Exception as e:\n",
    "            print(e)\n",
    "            continue\n",
    "\n",
    "\n",
    "    # Find the accuracy of each category.\n",
    "\n",
    "    df = pd.DataFrame({\n",
    "    'Predictions': model_predictions,\n",
    "    'Ground Truth': ground_truths\n",
    "    })\n",
    "    labels = df['Ground Truth'].unique()\n",
    "\n",
    "    # Create a new DataFrame for the accuracies\n",
    "    accuracy_df = pd.DataFrame(columns=labels)\n",
    "\n",
    "    for label in labels:\n",
    "        # Filter rows where Ground Truth is the current label\n",
    "        subset = df[df['Ground Truth'] == label]\n",
    "\n",
    "        # Calculate accuracy for the current label\n",
    "        accuracy = accuracy_score(subset['Ground Truth'], subset['Predictions'])\n",
    "\n",
    "        # Add accuracy to the DataFrame\n",
    "        accuracy_df.loc[0, label] = accuracy\n",
    "\n",
    "    print(\"\\n\\n\", accuracy_df,\"\\n\\n\")\n",
    "\n",
    "    accuracy = accuracy_score(ground_truths, model_predictions)\n",
    "\n",
    "    return accuracy"
   ]
  },
  {
   "cell_type": "code",
   "execution_count": 80,
   "metadata": {
    "azdata_cell_guid": "0586454e-c036-47cf-9691-61ae20c47af0",
    "colab": {
     "base_uri": "https://localhost:8080/"
    },
    "id": "Ak47_EKf2DbD",
    "language": "sql",
    "outputId": "d803f332-288d-413a-ed95-000612d50343"
   },
   "outputs": [
    {
     "name": "stdout",
     "output_type": "stream",
     "text": [
      "Description: \n",
      " editing account \n",
      "\n",
      "Original label: \n",
      " others \n",
      "\n",
      "Predicted label: \n",
      " others\n",
      "====================================================\n",
      "Description: \n",
      " editing account \n",
      "\n",
      "Original label: \n",
      " others \n",
      "\n",
      "Predicted label: \n",
      " others\n",
      "====================================================\n",
      "Description: \n",
      " editing account \n",
      "\n",
      "Original label: \n",
      " others \n",
      "\n",
      "Predicted label: \n",
      " others\n",
      "====================================================\n",
      "Description: \n",
      " editing account \n",
      "\n",
      "Original label: \n",
      " others \n",
      "\n",
      "Predicted label: \n",
      " others\n",
      "====================================================\n",
      "Description: \n",
      " editing account \n",
      "\n",
      "Original label: \n",
      " others \n",
      "\n",
      "Predicted label: \n",
      " others\n",
      "====================================================\n",
      "Description: \n",
      " editing account \n",
      "\n",
      "Original label: \n",
      " others \n",
      "\n",
      "Predicted label: \n",
      " others\n",
      "====================================================\n",
      "Description: \n",
      " editing account \n",
      "\n",
      "Original label: \n",
      " others \n",
      "\n",
      "Predicted label: \n",
      " others\n",
      "====================================================\n",
      "Description: \n",
      " editing account \n",
      "\n",
      "Original label: \n",
      " others \n",
      "\n",
      "Predicted label: \n",
      " others\n",
      "====================================================\n",
      "Description: \n",
      " editing account \n",
      "\n",
      "Original label: \n",
      " others \n",
      "\n",
      "Predicted label: \n",
      " others\n",
      "====================================================\n",
      "Description: \n",
      " editing account \n",
      "\n",
      "Original label: \n",
      " others \n",
      "\n",
      "Predicted label: \n",
      " others\n",
      "====================================================\n",
      "\n",
      "\n",
      "   others change order track order payment issue\n",
      "0    0.9          1.0         1.0           1.0 \n",
      "\n",
      "\n"
     ]
    },
    {
     "data": {
      "text/plain": [
       "0.975"
      ]
     },
     "execution_count": 80,
     "metadata": {},
     "output_type": "execute_result"
    }
   ],
   "source": [
    "evaluate_prompt(few_shot_prompt, gold_examples, user_message_template)"
   ]
  },
  {
   "cell_type": "markdown",
   "metadata": {
    "azdata_cell_guid": "bbf9492b-a2d0-4091-a1b0-42d2a6afd09c",
    "id": "O89cBSEZ2XHd"
   },
   "source": [
    "If you run this with multiple samples, you see that the mislabelling is sometimes due to mislabelling during the manual labeling process and the LLM is actually getting it right and the problem is with the manual labeling itself. In cases where it's not due to manual mislabeling, it is an edge case where the label could have gone either way. Overall our analysis shows that the LLM model is a good proxy and can be used to find the most troubling UX experience."
   ]
  },
  {
   "cell_type": "markdown",
   "metadata": {
    "azdata_cell_guid": "13207b0e-d4c5-4493-8f19-e96a2534834f",
    "id": "kqxYizhOmUgP"
   },
   "source": [
    "We can go ahead and use the model to segregate user queries. Post this step, a dashboard can be prepared to show the most frequent labels we have found. This will reveal the most frequent problem encountered by the users."
   ]
  }
 ],
 "metadata": {
  "colab": {
   "provenance": []
  },
  "kernelspec": {
   "display_name": "SQL",
   "language": "sql",
   "name": "SQL"
  },
  "language_info": {
   "name": "sql",
   "version": ""
  }
 },
 "nbformat": 4,
 "nbformat_minor": 0
}
